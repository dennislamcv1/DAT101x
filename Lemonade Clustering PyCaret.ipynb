{
 "cells": [
  {
   "cell_type": "code",
   "execution_count": 1,
   "metadata": {},
   "outputs": [],
   "source": [
    "import pandas as pd\n",
    "\n",
    "from pycaret.clustering import *"
   ]
  },
  {
   "cell_type": "code",
   "execution_count": 2,
   "metadata": {},
   "outputs": [],
   "source": [
    "df = pd.read_csv(\"Customers.csv\", encoding=\"ISO-8859-1\")"
   ]
  },
  {
   "cell_type": "code",
   "execution_count": 3,
   "metadata": {},
   "outputs": [
    {
     "data": {
      "text/html": [
       "<div>\n",
       "<style scoped>\n",
       "    .dataframe tbody tr th:only-of-type {\n",
       "        vertical-align: middle;\n",
       "    }\n",
       "\n",
       "    .dataframe tbody tr th {\n",
       "        vertical-align: top;\n",
       "    }\n",
       "\n",
       "    .dataframe thead th {\n",
       "        text-align: right;\n",
       "    }\n",
       "</style>\n",
       "<table border=\"1\" class=\"dataframe\">\n",
       "  <thead>\n",
       "    <tr style=\"text-align: right;\">\n",
       "      <th></th>\n",
       "      <th>CustomerID</th>\n",
       "      <th>Name</th>\n",
       "      <th>Age</th>\n",
       "      <th>AvgWeeklySales</th>\n",
       "      <th>AvgDrinks</th>\n",
       "    </tr>\n",
       "  </thead>\n",
       "  <tbody>\n",
       "    <tr>\n",
       "      <th>0</th>\n",
       "      <td>1</td>\n",
       "      <td>Marva Cardenas</td>\n",
       "      <td>6</td>\n",
       "      <td>2</td>\n",
       "      <td>1</td>\n",
       "    </tr>\n",
       "    <tr>\n",
       "      <th>1</th>\n",
       "      <td>2</td>\n",
       "      <td>Francine Fischer</td>\n",
       "      <td>44</td>\n",
       "      <td>4</td>\n",
       "      <td>5</td>\n",
       "    </tr>\n",
       "    <tr>\n",
       "      <th>2</th>\n",
       "      <td>3</td>\n",
       "      <td>Kian Goddard</td>\n",
       "      <td>27</td>\n",
       "      <td>4</td>\n",
       "      <td>3</td>\n",
       "    </tr>\n",
       "    <tr>\n",
       "      <th>3</th>\n",
       "      <td>4</td>\n",
       "      <td>Jibran Quraishi</td>\n",
       "      <td>6</td>\n",
       "      <td>1</td>\n",
       "      <td>1</td>\n",
       "    </tr>\n",
       "    <tr>\n",
       "      <th>4</th>\n",
       "      <td>5</td>\n",
       "      <td>Noreen Branch</td>\n",
       "      <td>51</td>\n",
       "      <td>4</td>\n",
       "      <td>3</td>\n",
       "    </tr>\n",
       "    <tr>\n",
       "      <th>...</th>\n",
       "      <td>...</td>\n",
       "      <td>...</td>\n",
       "      <td>...</td>\n",
       "      <td>...</td>\n",
       "      <td>...</td>\n",
       "    </tr>\n",
       "    <tr>\n",
       "      <th>104</th>\n",
       "      <td>105</td>\n",
       "      <td>Den Kojima</td>\n",
       "      <td>12</td>\n",
       "      <td>2</td>\n",
       "      <td>1</td>\n",
       "    </tr>\n",
       "    <tr>\n",
       "      <th>105</th>\n",
       "      <td>106</td>\n",
       "      <td>Sheldon Comeaux</td>\n",
       "      <td>60</td>\n",
       "      <td>3</td>\n",
       "      <td>1</td>\n",
       "    </tr>\n",
       "    <tr>\n",
       "      <th>106</th>\n",
       "      <td>107</td>\n",
       "      <td>Jeannette Kjaer</td>\n",
       "      <td>6</td>\n",
       "      <td>2</td>\n",
       "      <td>1</td>\n",
       "    </tr>\n",
       "    <tr>\n",
       "      <th>107</th>\n",
       "      <td>108</td>\n",
       "      <td>Mayra Stephenson</td>\n",
       "      <td>6</td>\n",
       "      <td>4</td>\n",
       "      <td>1</td>\n",
       "    </tr>\n",
       "    <tr>\n",
       "      <th>108</th>\n",
       "      <td>109</td>\n",
       "      <td>Agnano Brito</td>\n",
       "      <td>52</td>\n",
       "      <td>4</td>\n",
       "      <td>3</td>\n",
       "    </tr>\n",
       "  </tbody>\n",
       "</table>\n",
       "<p>109 rows × 5 columns</p>\n",
       "</div>"
      ],
      "text/plain": [
       "     CustomerID              Name  Age  AvgWeeklySales  AvgDrinks\n",
       "0             1    Marva Cardenas    6               2          1\n",
       "1             2  Francine Fischer   44               4          5\n",
       "2             3      Kian Goddard   27               4          3\n",
       "3             4   Jibran Quraishi    6               1          1\n",
       "4             5     Noreen Branch   51               4          3\n",
       "..          ...               ...  ...             ...        ...\n",
       "104         105        Den Kojima   12               2          1\n",
       "105         106   Sheldon Comeaux   60               3          1\n",
       "106         107   Jeannette Kjaer    6               2          1\n",
       "107         108  Mayra Stephenson    6               4          1\n",
       "108         109      Agnano Brito   52               4          3\n",
       "\n",
       "[109 rows x 5 columns]"
      ]
     },
     "execution_count": 3,
     "metadata": {},
     "output_type": "execute_result"
    }
   ],
   "source": [
    "df"
   ]
  },
  {
   "cell_type": "code",
   "execution_count": 4,
   "metadata": {},
   "outputs": [
    {
     "data": {
      "text/plain": [
       "(109, 5)"
      ]
     },
     "execution_count": 4,
     "metadata": {},
     "output_type": "execute_result"
    }
   ],
   "source": [
    "df.shape"
   ]
  },
  {
   "cell_type": "markdown",
   "metadata": {},
   "source": [
    "### Setup environment"
   ]
  },
  {
   "cell_type": "code",
   "execution_count": 5,
   "metadata": {},
   "outputs": [
    {
     "name": "stdout",
     "output_type": "stream",
     "text": [
      "\n",
      "Setup Succesfully Completed!\n"
     ]
    },
    {
     "data": {
      "text/html": [
       "<style  type=\"text/css\" >\n",
       "    #T_9025cefe_b8df_11ea_b8c6_3c528213d836row10_col1 {\n",
       "            background-color:  lightgreen;\n",
       "        }</style><table id=\"T_9025cefe_b8df_11ea_b8c6_3c528213d836\" ><thead>    <tr>        <th class=\"blank level0\" ></th>        <th class=\"col_heading level0 col0\" >Description</th>        <th class=\"col_heading level0 col1\" >Value</th>    </tr></thead><tbody>\n",
       "                <tr>\n",
       "                        <th id=\"T_9025cefe_b8df_11ea_b8c6_3c528213d836level0_row0\" class=\"row_heading level0 row0\" >0</th>\n",
       "                        <td id=\"T_9025cefe_b8df_11ea_b8c6_3c528213d836row0_col0\" class=\"data row0 col0\" >session_id </td>\n",
       "                        <td id=\"T_9025cefe_b8df_11ea_b8c6_3c528213d836row0_col1\" class=\"data row0 col1\" >0</td>\n",
       "            </tr>\n",
       "            <tr>\n",
       "                        <th id=\"T_9025cefe_b8df_11ea_b8c6_3c528213d836level0_row1\" class=\"row_heading level0 row1\" >1</th>\n",
       "                        <td id=\"T_9025cefe_b8df_11ea_b8c6_3c528213d836row1_col0\" class=\"data row1 col0\" >Original Data </td>\n",
       "                        <td id=\"T_9025cefe_b8df_11ea_b8c6_3c528213d836row1_col1\" class=\"data row1 col1\" >(109, 5)</td>\n",
       "            </tr>\n",
       "            <tr>\n",
       "                        <th id=\"T_9025cefe_b8df_11ea_b8c6_3c528213d836level0_row2\" class=\"row_heading level0 row2\" >2</th>\n",
       "                        <td id=\"T_9025cefe_b8df_11ea_b8c6_3c528213d836row2_col0\" class=\"data row2 col0\" >Missing Values </td>\n",
       "                        <td id=\"T_9025cefe_b8df_11ea_b8c6_3c528213d836row2_col1\" class=\"data row2 col1\" >False</td>\n",
       "            </tr>\n",
       "            <tr>\n",
       "                        <th id=\"T_9025cefe_b8df_11ea_b8c6_3c528213d836level0_row3\" class=\"row_heading level0 row3\" >3</th>\n",
       "                        <td id=\"T_9025cefe_b8df_11ea_b8c6_3c528213d836row3_col0\" class=\"data row3 col0\" >Numeric Features </td>\n",
       "                        <td id=\"T_9025cefe_b8df_11ea_b8c6_3c528213d836row3_col1\" class=\"data row3 col1\" >2</td>\n",
       "            </tr>\n",
       "            <tr>\n",
       "                        <th id=\"T_9025cefe_b8df_11ea_b8c6_3c528213d836level0_row4\" class=\"row_heading level0 row4\" >4</th>\n",
       "                        <td id=\"T_9025cefe_b8df_11ea_b8c6_3c528213d836row4_col0\" class=\"data row4 col0\" >Categorical Features </td>\n",
       "                        <td id=\"T_9025cefe_b8df_11ea_b8c6_3c528213d836row4_col1\" class=\"data row4 col1\" >3</td>\n",
       "            </tr>\n",
       "            <tr>\n",
       "                        <th id=\"T_9025cefe_b8df_11ea_b8c6_3c528213d836level0_row5\" class=\"row_heading level0 row5\" >5</th>\n",
       "                        <td id=\"T_9025cefe_b8df_11ea_b8c6_3c528213d836row5_col0\" class=\"data row5 col0\" >Ordinal Features </td>\n",
       "                        <td id=\"T_9025cefe_b8df_11ea_b8c6_3c528213d836row5_col1\" class=\"data row5 col1\" >False</td>\n",
       "            </tr>\n",
       "            <tr>\n",
       "                        <th id=\"T_9025cefe_b8df_11ea_b8c6_3c528213d836level0_row6\" class=\"row_heading level0 row6\" >6</th>\n",
       "                        <td id=\"T_9025cefe_b8df_11ea_b8c6_3c528213d836row6_col0\" class=\"data row6 col0\" >High Cardinality Features </td>\n",
       "                        <td id=\"T_9025cefe_b8df_11ea_b8c6_3c528213d836row6_col1\" class=\"data row6 col1\" >False</td>\n",
       "            </tr>\n",
       "            <tr>\n",
       "                        <th id=\"T_9025cefe_b8df_11ea_b8c6_3c528213d836level0_row7\" class=\"row_heading level0 row7\" >7</th>\n",
       "                        <td id=\"T_9025cefe_b8df_11ea_b8c6_3c528213d836row7_col0\" class=\"data row7 col0\" >Transformed Data </td>\n",
       "                        <td id=\"T_9025cefe_b8df_11ea_b8c6_3c528213d836row7_col1\" class=\"data row7 col1\" >(109, 118)</td>\n",
       "            </tr>\n",
       "            <tr>\n",
       "                        <th id=\"T_9025cefe_b8df_11ea_b8c6_3c528213d836level0_row8\" class=\"row_heading level0 row8\" >8</th>\n",
       "                        <td id=\"T_9025cefe_b8df_11ea_b8c6_3c528213d836row8_col0\" class=\"data row8 col0\" >Numeric Imputer </td>\n",
       "                        <td id=\"T_9025cefe_b8df_11ea_b8c6_3c528213d836row8_col1\" class=\"data row8 col1\" >mean</td>\n",
       "            </tr>\n",
       "            <tr>\n",
       "                        <th id=\"T_9025cefe_b8df_11ea_b8c6_3c528213d836level0_row9\" class=\"row_heading level0 row9\" >9</th>\n",
       "                        <td id=\"T_9025cefe_b8df_11ea_b8c6_3c528213d836row9_col0\" class=\"data row9 col0\" >Categorical Imputer </td>\n",
       "                        <td id=\"T_9025cefe_b8df_11ea_b8c6_3c528213d836row9_col1\" class=\"data row9 col1\" >constant</td>\n",
       "            </tr>\n",
       "            <tr>\n",
       "                        <th id=\"T_9025cefe_b8df_11ea_b8c6_3c528213d836level0_row10\" class=\"row_heading level0 row10\" >10</th>\n",
       "                        <td id=\"T_9025cefe_b8df_11ea_b8c6_3c528213d836row10_col0\" class=\"data row10 col0\" >Normalize </td>\n",
       "                        <td id=\"T_9025cefe_b8df_11ea_b8c6_3c528213d836row10_col1\" class=\"data row10 col1\" >True</td>\n",
       "            </tr>\n",
       "            <tr>\n",
       "                        <th id=\"T_9025cefe_b8df_11ea_b8c6_3c528213d836level0_row11\" class=\"row_heading level0 row11\" >11</th>\n",
       "                        <td id=\"T_9025cefe_b8df_11ea_b8c6_3c528213d836row11_col0\" class=\"data row11 col0\" >Normalize Method </td>\n",
       "                        <td id=\"T_9025cefe_b8df_11ea_b8c6_3c528213d836row11_col1\" class=\"data row11 col1\" >zscore</td>\n",
       "            </tr>\n",
       "            <tr>\n",
       "                        <th id=\"T_9025cefe_b8df_11ea_b8c6_3c528213d836level0_row12\" class=\"row_heading level0 row12\" >12</th>\n",
       "                        <td id=\"T_9025cefe_b8df_11ea_b8c6_3c528213d836row12_col0\" class=\"data row12 col0\" >Transformation </td>\n",
       "                        <td id=\"T_9025cefe_b8df_11ea_b8c6_3c528213d836row12_col1\" class=\"data row12 col1\" >False</td>\n",
       "            </tr>\n",
       "            <tr>\n",
       "                        <th id=\"T_9025cefe_b8df_11ea_b8c6_3c528213d836level0_row13\" class=\"row_heading level0 row13\" >13</th>\n",
       "                        <td id=\"T_9025cefe_b8df_11ea_b8c6_3c528213d836row13_col0\" class=\"data row13 col0\" >Transformation Method </td>\n",
       "                        <td id=\"T_9025cefe_b8df_11ea_b8c6_3c528213d836row13_col1\" class=\"data row13 col1\" >None</td>\n",
       "            </tr>\n",
       "            <tr>\n",
       "                        <th id=\"T_9025cefe_b8df_11ea_b8c6_3c528213d836level0_row14\" class=\"row_heading level0 row14\" >14</th>\n",
       "                        <td id=\"T_9025cefe_b8df_11ea_b8c6_3c528213d836row14_col0\" class=\"data row14 col0\" >PCA </td>\n",
       "                        <td id=\"T_9025cefe_b8df_11ea_b8c6_3c528213d836row14_col1\" class=\"data row14 col1\" >False</td>\n",
       "            </tr>\n",
       "            <tr>\n",
       "                        <th id=\"T_9025cefe_b8df_11ea_b8c6_3c528213d836level0_row15\" class=\"row_heading level0 row15\" >15</th>\n",
       "                        <td id=\"T_9025cefe_b8df_11ea_b8c6_3c528213d836row15_col0\" class=\"data row15 col0\" >PCA Method </td>\n",
       "                        <td id=\"T_9025cefe_b8df_11ea_b8c6_3c528213d836row15_col1\" class=\"data row15 col1\" >None</td>\n",
       "            </tr>\n",
       "            <tr>\n",
       "                        <th id=\"T_9025cefe_b8df_11ea_b8c6_3c528213d836level0_row16\" class=\"row_heading level0 row16\" >16</th>\n",
       "                        <td id=\"T_9025cefe_b8df_11ea_b8c6_3c528213d836row16_col0\" class=\"data row16 col0\" >PCA components </td>\n",
       "                        <td id=\"T_9025cefe_b8df_11ea_b8c6_3c528213d836row16_col1\" class=\"data row16 col1\" >None</td>\n",
       "            </tr>\n",
       "            <tr>\n",
       "                        <th id=\"T_9025cefe_b8df_11ea_b8c6_3c528213d836level0_row17\" class=\"row_heading level0 row17\" >17</th>\n",
       "                        <td id=\"T_9025cefe_b8df_11ea_b8c6_3c528213d836row17_col0\" class=\"data row17 col0\" >Ignore Low Variance </td>\n",
       "                        <td id=\"T_9025cefe_b8df_11ea_b8c6_3c528213d836row17_col1\" class=\"data row17 col1\" >False</td>\n",
       "            </tr>\n",
       "            <tr>\n",
       "                        <th id=\"T_9025cefe_b8df_11ea_b8c6_3c528213d836level0_row18\" class=\"row_heading level0 row18\" >18</th>\n",
       "                        <td id=\"T_9025cefe_b8df_11ea_b8c6_3c528213d836row18_col0\" class=\"data row18 col0\" >Combine Rare Levels </td>\n",
       "                        <td id=\"T_9025cefe_b8df_11ea_b8c6_3c528213d836row18_col1\" class=\"data row18 col1\" >False</td>\n",
       "            </tr>\n",
       "            <tr>\n",
       "                        <th id=\"T_9025cefe_b8df_11ea_b8c6_3c528213d836level0_row19\" class=\"row_heading level0 row19\" >19</th>\n",
       "                        <td id=\"T_9025cefe_b8df_11ea_b8c6_3c528213d836row19_col0\" class=\"data row19 col0\" >Rare Level Threshold </td>\n",
       "                        <td id=\"T_9025cefe_b8df_11ea_b8c6_3c528213d836row19_col1\" class=\"data row19 col1\" >None</td>\n",
       "            </tr>\n",
       "            <tr>\n",
       "                        <th id=\"T_9025cefe_b8df_11ea_b8c6_3c528213d836level0_row20\" class=\"row_heading level0 row20\" >20</th>\n",
       "                        <td id=\"T_9025cefe_b8df_11ea_b8c6_3c528213d836row20_col0\" class=\"data row20 col0\" >Numeric Binning </td>\n",
       "                        <td id=\"T_9025cefe_b8df_11ea_b8c6_3c528213d836row20_col1\" class=\"data row20 col1\" >False</td>\n",
       "            </tr>\n",
       "            <tr>\n",
       "                        <th id=\"T_9025cefe_b8df_11ea_b8c6_3c528213d836level0_row21\" class=\"row_heading level0 row21\" >21</th>\n",
       "                        <td id=\"T_9025cefe_b8df_11ea_b8c6_3c528213d836row21_col0\" class=\"data row21 col0\" >Remove Multicollinearity </td>\n",
       "                        <td id=\"T_9025cefe_b8df_11ea_b8c6_3c528213d836row21_col1\" class=\"data row21 col1\" >False</td>\n",
       "            </tr>\n",
       "            <tr>\n",
       "                        <th id=\"T_9025cefe_b8df_11ea_b8c6_3c528213d836level0_row22\" class=\"row_heading level0 row22\" >22</th>\n",
       "                        <td id=\"T_9025cefe_b8df_11ea_b8c6_3c528213d836row22_col0\" class=\"data row22 col0\" >Multicollinearity Threshold </td>\n",
       "                        <td id=\"T_9025cefe_b8df_11ea_b8c6_3c528213d836row22_col1\" class=\"data row22 col1\" >None</td>\n",
       "            </tr>\n",
       "            <tr>\n",
       "                        <th id=\"T_9025cefe_b8df_11ea_b8c6_3c528213d836level0_row23\" class=\"row_heading level0 row23\" >23</th>\n",
       "                        <td id=\"T_9025cefe_b8df_11ea_b8c6_3c528213d836row23_col0\" class=\"data row23 col0\" >Group Features </td>\n",
       "                        <td id=\"T_9025cefe_b8df_11ea_b8c6_3c528213d836row23_col1\" class=\"data row23 col1\" >False</td>\n",
       "            </tr>\n",
       "    </tbody></table>"
      ],
      "text/plain": [
       "<pandas.io.formats.style.Styler at 0x1d441fd0348>"
      ]
     },
     "metadata": {},
     "output_type": "display_data"
    }
   ],
   "source": [
    "expcluster = setup(data=df, normalize=True, ignore_features=['CustomerID'], session_id=0)"
   ]
  },
  {
   "cell_type": "markdown",
   "metadata": {},
   "source": [
    "### Create model"
   ]
  },
  {
   "cell_type": "code",
   "execution_count": 6,
   "metadata": {},
   "outputs": [],
   "source": [
    "kmeans = create_model(model='kmeans', num_clusters=3)"
   ]
  },
  {
   "cell_type": "code",
   "execution_count": 7,
   "metadata": {},
   "outputs": [
    {
     "name": "stdout",
     "output_type": "stream",
     "text": [
      "KMeans(algorithm='auto', copy_x=True, init='k-means++', max_iter=300,\n",
      "       n_clusters=3, n_init=10, n_jobs=None, precompute_distances='auto',\n",
      "       random_state=0, tol=0.0001, verbose=0)\n"
     ]
    }
   ],
   "source": [
    "print(kmeans)"
   ]
  },
  {
   "cell_type": "markdown",
   "metadata": {},
   "source": [
    "### Assign a model"
   ]
  },
  {
   "cell_type": "code",
   "execution_count": 8,
   "metadata": {},
   "outputs": [],
   "source": [
    "kmean_results = assign_model(kmeans)"
   ]
  },
  {
   "cell_type": "code",
   "execution_count": 9,
   "metadata": {},
   "outputs": [
    {
     "data": {
      "text/html": [
       "<div>\n",
       "<style scoped>\n",
       "    .dataframe tbody tr th:only-of-type {\n",
       "        vertical-align: middle;\n",
       "    }\n",
       "\n",
       "    .dataframe tbody tr th {\n",
       "        vertical-align: top;\n",
       "    }\n",
       "\n",
       "    .dataframe thead th {\n",
       "        text-align: right;\n",
       "    }\n",
       "</style>\n",
       "<table border=\"1\" class=\"dataframe\">\n",
       "  <thead>\n",
       "    <tr style=\"text-align: right;\">\n",
       "      <th></th>\n",
       "      <th>CustomerID</th>\n",
       "      <th>Name</th>\n",
       "      <th>Age</th>\n",
       "      <th>AvgWeeklySales</th>\n",
       "      <th>AvgDrinks</th>\n",
       "      <th>Cluster</th>\n",
       "    </tr>\n",
       "  </thead>\n",
       "  <tbody>\n",
       "    <tr>\n",
       "      <th>0</th>\n",
       "      <td>1</td>\n",
       "      <td>Marva Cardenas</td>\n",
       "      <td>6</td>\n",
       "      <td>2</td>\n",
       "      <td>1</td>\n",
       "      <td>Cluster 1</td>\n",
       "    </tr>\n",
       "    <tr>\n",
       "      <th>1</th>\n",
       "      <td>2</td>\n",
       "      <td>Francine Fischer</td>\n",
       "      <td>44</td>\n",
       "      <td>4</td>\n",
       "      <td>5</td>\n",
       "      <td>Cluster 0</td>\n",
       "    </tr>\n",
       "    <tr>\n",
       "      <th>2</th>\n",
       "      <td>3</td>\n",
       "      <td>Kian Goddard</td>\n",
       "      <td>27</td>\n",
       "      <td>4</td>\n",
       "      <td>3</td>\n",
       "      <td>Cluster 0</td>\n",
       "    </tr>\n",
       "    <tr>\n",
       "      <th>3</th>\n",
       "      <td>4</td>\n",
       "      <td>Jibran Quraishi</td>\n",
       "      <td>6</td>\n",
       "      <td>1</td>\n",
       "      <td>1</td>\n",
       "      <td>Cluster 1</td>\n",
       "    </tr>\n",
       "    <tr>\n",
       "      <th>4</th>\n",
       "      <td>5</td>\n",
       "      <td>Noreen Branch</td>\n",
       "      <td>51</td>\n",
       "      <td>4</td>\n",
       "      <td>3</td>\n",
       "      <td>Cluster 0</td>\n",
       "    </tr>\n",
       "    <tr>\n",
       "      <th>...</th>\n",
       "      <td>...</td>\n",
       "      <td>...</td>\n",
       "      <td>...</td>\n",
       "      <td>...</td>\n",
       "      <td>...</td>\n",
       "      <td>...</td>\n",
       "    </tr>\n",
       "    <tr>\n",
       "      <th>104</th>\n",
       "      <td>105</td>\n",
       "      <td>Den Kojima</td>\n",
       "      <td>12</td>\n",
       "      <td>2</td>\n",
       "      <td>1</td>\n",
       "      <td>Cluster 1</td>\n",
       "    </tr>\n",
       "    <tr>\n",
       "      <th>105</th>\n",
       "      <td>106</td>\n",
       "      <td>Sheldon Comeaux</td>\n",
       "      <td>60</td>\n",
       "      <td>3</td>\n",
       "      <td>1</td>\n",
       "      <td>Cluster 2</td>\n",
       "    </tr>\n",
       "    <tr>\n",
       "      <th>106</th>\n",
       "      <td>107</td>\n",
       "      <td>Jeannette Kjaer</td>\n",
       "      <td>6</td>\n",
       "      <td>2</td>\n",
       "      <td>1</td>\n",
       "      <td>Cluster 1</td>\n",
       "    </tr>\n",
       "    <tr>\n",
       "      <th>107</th>\n",
       "      <td>108</td>\n",
       "      <td>Mayra Stephenson</td>\n",
       "      <td>6</td>\n",
       "      <td>4</td>\n",
       "      <td>1</td>\n",
       "      <td>Cluster 1</td>\n",
       "    </tr>\n",
       "    <tr>\n",
       "      <th>108</th>\n",
       "      <td>109</td>\n",
       "      <td>Agnano Brito</td>\n",
       "      <td>52</td>\n",
       "      <td>4</td>\n",
       "      <td>3</td>\n",
       "      <td>Cluster 0</td>\n",
       "    </tr>\n",
       "  </tbody>\n",
       "</table>\n",
       "<p>109 rows × 6 columns</p>\n",
       "</div>"
      ],
      "text/plain": [
       "     CustomerID              Name  Age  AvgWeeklySales  AvgDrinks    Cluster\n",
       "0             1    Marva Cardenas    6               2          1  Cluster 1\n",
       "1             2  Francine Fischer   44               4          5  Cluster 0\n",
       "2             3      Kian Goddard   27               4          3  Cluster 0\n",
       "3             4   Jibran Quraishi    6               1          1  Cluster 1\n",
       "4             5     Noreen Branch   51               4          3  Cluster 0\n",
       "..          ...               ...  ...             ...        ...        ...\n",
       "104         105        Den Kojima   12               2          1  Cluster 1\n",
       "105         106   Sheldon Comeaux   60               3          1  Cluster 2\n",
       "106         107   Jeannette Kjaer    6               2          1  Cluster 1\n",
       "107         108  Mayra Stephenson    6               4          1  Cluster 1\n",
       "108         109      Agnano Brito   52               4          3  Cluster 0\n",
       "\n",
       "[109 rows x 6 columns]"
      ]
     },
     "execution_count": 9,
     "metadata": {},
     "output_type": "execute_result"
    }
   ],
   "source": [
    "kmean_results"
   ]
  },
  {
   "cell_type": "markdown",
   "metadata": {},
   "source": [
    "### Plot Model"
   ]
  },
  {
   "cell_type": "code",
   "execution_count": 10,
   "metadata": {},
   "outputs": [
    {
     "data": {
      "text/html": [
       "        <script type=\"text/javascript\">\n",
       "        window.PlotlyConfig = {MathJaxConfig: 'local'};\n",
       "        if (window.MathJax) {MathJax.Hub.Config({SVG: {font: \"STIX-Web\"}});}\n",
       "        if (typeof require !== 'undefined') {\n",
       "        require.undef(\"plotly\");\n",
       "        requirejs.config({\n",
       "            paths: {\n",
       "                'plotly': ['https://cdn.plot.ly/plotly-latest.min']\n",
       "            }\n",
       "        });\n",
       "        require(['plotly'], function(Plotly) {\n",
       "            window._Plotly = Plotly;\n",
       "        });\n",
       "        }\n",
       "        </script>\n",
       "        "
      ]
     },
     "metadata": {},
     "output_type": "display_data"
    },
    {
     "data": {
      "application/vnd.plotly.v1+json": {
       "config": {
        "plotlyServerURL": "https://plot.ly"
       },
       "data": [
        {
         "customdata": [
          [
           1
          ],
          [
           2
          ],
          [
           3
          ],
          [
           4
          ],
          [
           5
          ],
          [
           6
          ],
          [
           7
          ],
          [
           8
          ],
          [
           9
          ],
          [
           10
          ],
          [
           11
          ],
          [
           12
          ],
          [
           13
          ],
          [
           14
          ],
          [
           15
          ],
          [
           16
          ],
          [
           17
          ],
          [
           18
          ],
          [
           19
          ],
          [
           20
          ],
          [
           21
          ],
          [
           22
          ],
          [
           23
          ],
          [
           24
          ],
          [
           25
          ],
          [
           26
          ],
          [
           27
          ],
          [
           28
          ],
          [
           29
          ],
          [
           30
          ],
          [
           31
          ],
          [
           32
          ],
          [
           33
          ],
          [
           34
          ],
          [
           35
          ],
          [
           36
          ]
         ],
         "hoverlabel": {
          "namelength": 0
         },
         "hovertemplate": "Cluster=Cluster 0<br>PCA1=%{x}<br>PCA2=%{y}<br>Feature=%{customdata[0]}",
         "legendgroup": "Cluster=Cluster 0",
         "marker": {
          "color": "#636efa",
          "opacity": 0.5,
          "symbol": "circle"
         },
         "mode": "markers",
         "name": "Cluster=Cluster 0",
         "showlegend": true,
         "textposition": "top center",
         "type": "scatter",
         "x": [
          1.2443951092347338,
          0.3226398470057006,
          0.6844665904654113,
          1.2823134745623412,
          -0.24893725404110534,
          -0.00807719544823641,
          -0.37531766734325245,
          1.448880894334845,
          1.7442508482740573,
          0.80286199851934,
          0.34726250843537765,
          0.32263984700569687,
          1.1180146959325927,
          1.4799830921541985,
          -0.16057823585218275,
          1.2833671518023766,
          0.48815358953816157,
          0.636294578746827,
          0.9932814042509062,
          0.6832516265627019,
          1.1962230975161645,
          -0.18262962046895947,
          0.7392672945220037,
          1.502175825778478,
          -0.034197822550033605,
          0.5817846834004928,
          1.1962230975161645,
          -0.0862855970318081,
          1.7742872381390538,
          1.4618474703006195,
          1.4268295097180683,
          0.040094816270340665,
          0.41627094086802785,
          0.7847263766657601,
          1.7990515523306487,
          1.6036505758815274
         ],
         "xaxis": "x",
         "y": [
          -0.5927851083025908,
          -0.2628053003530092,
          0.7643594302207003,
          -0.027868460246263806,
          -0.7231085734439165,
          -0.7020886597114427,
          0.671871809797823,
          -0.10012918221771192,
          0.8568470506435766,
          0.6878947255027569,
          0.7349315509952391,
          -0.26280530035301175,
          0.8021952749391478,
          0.7413458192094212,
          0.6038150705728718,
          -0.17332098067886414,
          -0.18961350189185858,
          0.7601554474742057,
          -0.0530923567252327,
          -0.13889610342586678,
          -0.5969890910490866,
          0.6886877407838022,
          -0.7293062534692194,
          -0.06742839673546197,
          -0.7911653126688687,
          -0.17580087165461086,
          -0.5969890910490866,
          0.697095706276791,
          -0.5465412980911522,
          -0.666246512271802,
          -0.015256512006781279,
          -0.6978846769649493,
          -0.2489926701157644,
          -0.7196976059784663,
          -0.6368186330463416,
          -0.6482298992880599
         ],
         "yaxis": "y"
        },
        {
         "customdata": [
          [
           37
          ],
          [
           38
          ],
          [
           39
          ],
          [
           40
          ],
          [
           41
          ],
          [
           42
          ],
          [
           43
          ],
          [
           44
          ],
          [
           45
          ],
          [
           46
          ],
          [
           47
          ],
          [
           48
          ],
          [
           49
          ],
          [
           50
          ],
          [
           51
          ],
          [
           52
          ],
          [
           53
          ],
          [
           54
          ],
          [
           55
          ],
          [
           56
          ],
          [
           57
          ],
          [
           58
          ],
          [
           59
          ],
          [
           60
          ],
          [
           61
          ],
          [
           62
          ],
          [
           63
          ],
          [
           64
          ],
          [
           65
          ],
          [
           66
          ],
          [
           67
          ],
          [
           68
          ],
          [
           69
          ],
          [
           70
          ],
          [
           71
          ],
          [
           72
          ],
          [
           73
          ],
          [
           74
          ],
          [
           75
          ],
          [
           76
          ],
          [
           77
          ],
          [
           78
          ],
          [
           79
          ],
          [
           80
          ],
          [
           81
          ],
          [
           82
          ],
          [
           83
          ]
         ],
         "hoverlabel": {
          "namelength": 0
         },
         "hovertemplate": "Cluster=Cluster 1<br>PCA1=%{x}<br>PCA2=%{y}<br>Feature=%{customdata[0]}",
         "legendgroup": "Cluster=Cluster 1",
         "marker": {
          "color": "#EF553B",
          "opacity": 0.5,
          "symbol": "circle"
         },
         "mode": "markers",
         "name": "Cluster=Cluster 1",
         "showlegend": true,
         "textposition": "top center",
         "type": "scatter",
         "x": [
          -1.3204828554197205,
          -1.0116680416342259,
          -1.3686548671382968,
          -1.1941024421175732,
          -1.080837760729543,
          -1.1771817841666943,
          -0.501558656203924,
          -1.369869831040997,
          -0.9363217255737966,
          -1.0116680416342259,
          -0.9832787733896712,
          -1.0796227968268224,
          -1.0598400533528014,
          -1.0326657490109479,
          -1.348872123664255,
          -0.2890878658555807,
          -0.9832787733896712,
          -0.2306622077460451,
          -1.2723108437011452,
          -1.2723108437011452,
          -1.2422744538361483,
          -0.4298275626895867,
          -1.369869831040997,
          -0.8881497138552211,
          -1.464998890575448,
          -1.2904464655547243,
          -1.3386184772732996,
          -0.9832787733896712,
          -1.0977584186804215,
          -1.4168268788568719,
          -0.7708079830413279,
          -0.45460160838804914,
          -1.0495864069618455,
          -1.3386184772732996,
          -1.3686548671382968,
          -0.42335025462035253,
          -1.4180418427595722,
          -1.2723108437011452,
          -1.1941024421175732,
          -0.3570426210481924,
          -1.2241388319825695,
          -1.1561840767899525,
          -1.3386184772732996,
          -1.4168268788568719,
          -0.8399777021366449,
          -0.21374154979516855,
          -1.2904464655547243
         ],
         "xaxis": "x",
         "y": [
          0.6643313693842937,
          -0.15312041756163788,
          0.6601273866377995,
          -0.7306490138574465,
          -0.21790425052980175,
          -0.22631221602279036,
          0.7357990760746959,
          -0.24312814700876775,
          -0.20529230229032153,
          -0.1531204175616379,
          0.6937592486097511,
          0.6853512831167625,
          -0.15732440030813222,
          -0.21370026778331014,
          -0.18254829678709814,
          -0.09006067636422449,
          0.693759248609751,
          -0.6465693589275622,
          0.668535352130788,
          0.6685353521307883,
          -0.7348529966039412,
          -0.2640845093309931,
          -0.24312814700876775,
          -0.2010883195438272,
          0.6517194211448107,
          -0.7390569793504354,
          -0.7432609620969297,
          0.6937592486097511,
          -0.7222410483644581,
          0.655923403891305,
          -0.13210050382916894,
          -0.16325247482537694,
          -0.7180370656179638,
          -0.7432609620969297,
          0.6601273866377995,
          -0.6633852899135388,
          -0.2473321297552621,
          0.668535352130788,
          -0.7306490138574465,
          0.7484110243141782,
          0.6727393348772824,
          -0.16573236580112077,
          -0.7432609620969297,
          0.655923403891305,
          -0.19688433679733292,
          -0.14223256109290566,
          -0.7390569793504352
         ],
         "yaxis": "y"
        },
        {
         "customdata": [
          [
           84
          ],
          [
           85
          ],
          [
           86
          ],
          [
           87
          ],
          [
           88
          ],
          [
           89
          ],
          [
           90
          ],
          [
           91
          ],
          [
           92
          ],
          [
           93
          ],
          [
           94
          ],
          [
           95
          ],
          [
           96
          ],
          [
           97
          ],
          [
           98
          ],
          [
           99
          ],
          [
           100
          ],
          [
           101
          ],
          [
           102
          ],
          [
           103
          ],
          [
           104
          ],
          [
           105
          ],
          [
           106
          ],
          [
           107
          ],
          [
           108
          ],
          [
           109
          ]
         ],
         "hoverlabel": {
          "namelength": 0
         },
         "hovertemplate": "Cluster=Cluster 2<br>PCA1=%{x}<br>PCA2=%{y}<br>Feature=%{customdata[0]}",
         "legendgroup": "Cluster=Cluster 2",
         "marker": {
          "color": "#00cc96",
          "opacity": 0.5,
          "symbol": "circle"
         },
         "mode": "markers",
         "name": "Cluster=Cluster 2",
         "showlegend": true,
         "textposition": "top center",
         "type": "scatter",
         "x": [
          0.8670404153902442,
          0.5570106377020492,
          0.9633844388273768,
          1.300588520857406,
          1.135074778324937,
          0.010197850846830838,
          0.9423867314506351,
          -0.11618256245531638,
          1.5414485794502844,
          0.17284950785613507,
          0.24080426304875133,
          0.7990856601976093,
          1.0115564505459524,
          1.1663261320926344,
          1.3289777891019408,
          1.232633765664789,
          1.0218100969369075,
          1.2314188017620884,
          0.15471388600255595,
          1.1362897422276377,
          0.9423867314506351,
          -0.11739752635801684,
          0.5100535898861744,
          1.4451045560131328,
          0.17284950785613495,
          1.2144981438112101
         ],
         "xaxis": "x",
         "y": [
          0.010834909551637975,
          -0.07496883714899752,
          0.01924287504462931,
          0.04867075427008971,
          -0.024521044191062845,
          -0.6255494451950903,
          -0.04133697517704002,
          0.7694309380466502,
          0.06969066800256145,
          0.7946548345256162,
          -0.04381686615278676,
          0.8493066102300438,
          0.02344685779112395,
          -0.5246538592792247,
          0.8955504204414815,
          0.8871424549484929,
          -0.5372658075187076,
          -0.01611307869807409,
          -0.612937496955607,
          0.8787344894555044,
          -0.04133697517704002,
          -0.1338245955999171,
          0.8240827137510753,
          0.06128270250957274,
          0.7946548345256165,
          -0.5204498765327303
         ],
         "yaxis": "y"
        }
       ],
       "layout": {
        "height": 600,
        "legend": {
         "tracegroupgap": 0
        },
        "margin": {
         "t": 60
        },
        "plot_bgcolor": "rgb(240,240,240)",
        "template": {
         "data": {
          "bar": [
           {
            "error_x": {
             "color": "#2a3f5f"
            },
            "error_y": {
             "color": "#2a3f5f"
            },
            "marker": {
             "line": {
              "color": "#E5ECF6",
              "width": 0.5
             }
            },
            "type": "bar"
           }
          ],
          "barpolar": [
           {
            "marker": {
             "line": {
              "color": "#E5ECF6",
              "width": 0.5
             }
            },
            "type": "barpolar"
           }
          ],
          "carpet": [
           {
            "aaxis": {
             "endlinecolor": "#2a3f5f",
             "gridcolor": "white",
             "linecolor": "white",
             "minorgridcolor": "white",
             "startlinecolor": "#2a3f5f"
            },
            "baxis": {
             "endlinecolor": "#2a3f5f",
             "gridcolor": "white",
             "linecolor": "white",
             "minorgridcolor": "white",
             "startlinecolor": "#2a3f5f"
            },
            "type": "carpet"
           }
          ],
          "choropleth": [
           {
            "colorbar": {
             "outlinewidth": 0,
             "ticks": ""
            },
            "type": "choropleth"
           }
          ],
          "contour": [
           {
            "colorbar": {
             "outlinewidth": 0,
             "ticks": ""
            },
            "colorscale": [
             [
              0,
              "#0d0887"
             ],
             [
              0.1111111111111111,
              "#46039f"
             ],
             [
              0.2222222222222222,
              "#7201a8"
             ],
             [
              0.3333333333333333,
              "#9c179e"
             ],
             [
              0.4444444444444444,
              "#bd3786"
             ],
             [
              0.5555555555555556,
              "#d8576b"
             ],
             [
              0.6666666666666666,
              "#ed7953"
             ],
             [
              0.7777777777777778,
              "#fb9f3a"
             ],
             [
              0.8888888888888888,
              "#fdca26"
             ],
             [
              1,
              "#f0f921"
             ]
            ],
            "type": "contour"
           }
          ],
          "contourcarpet": [
           {
            "colorbar": {
             "outlinewidth": 0,
             "ticks": ""
            },
            "type": "contourcarpet"
           }
          ],
          "heatmap": [
           {
            "colorbar": {
             "outlinewidth": 0,
             "ticks": ""
            },
            "colorscale": [
             [
              0,
              "#0d0887"
             ],
             [
              0.1111111111111111,
              "#46039f"
             ],
             [
              0.2222222222222222,
              "#7201a8"
             ],
             [
              0.3333333333333333,
              "#9c179e"
             ],
             [
              0.4444444444444444,
              "#bd3786"
             ],
             [
              0.5555555555555556,
              "#d8576b"
             ],
             [
              0.6666666666666666,
              "#ed7953"
             ],
             [
              0.7777777777777778,
              "#fb9f3a"
             ],
             [
              0.8888888888888888,
              "#fdca26"
             ],
             [
              1,
              "#f0f921"
             ]
            ],
            "type": "heatmap"
           }
          ],
          "heatmapgl": [
           {
            "colorbar": {
             "outlinewidth": 0,
             "ticks": ""
            },
            "colorscale": [
             [
              0,
              "#0d0887"
             ],
             [
              0.1111111111111111,
              "#46039f"
             ],
             [
              0.2222222222222222,
              "#7201a8"
             ],
             [
              0.3333333333333333,
              "#9c179e"
             ],
             [
              0.4444444444444444,
              "#bd3786"
             ],
             [
              0.5555555555555556,
              "#d8576b"
             ],
             [
              0.6666666666666666,
              "#ed7953"
             ],
             [
              0.7777777777777778,
              "#fb9f3a"
             ],
             [
              0.8888888888888888,
              "#fdca26"
             ],
             [
              1,
              "#f0f921"
             ]
            ],
            "type": "heatmapgl"
           }
          ],
          "histogram": [
           {
            "marker": {
             "colorbar": {
              "outlinewidth": 0,
              "ticks": ""
             }
            },
            "type": "histogram"
           }
          ],
          "histogram2d": [
           {
            "colorbar": {
             "outlinewidth": 0,
             "ticks": ""
            },
            "colorscale": [
             [
              0,
              "#0d0887"
             ],
             [
              0.1111111111111111,
              "#46039f"
             ],
             [
              0.2222222222222222,
              "#7201a8"
             ],
             [
              0.3333333333333333,
              "#9c179e"
             ],
             [
              0.4444444444444444,
              "#bd3786"
             ],
             [
              0.5555555555555556,
              "#d8576b"
             ],
             [
              0.6666666666666666,
              "#ed7953"
             ],
             [
              0.7777777777777778,
              "#fb9f3a"
             ],
             [
              0.8888888888888888,
              "#fdca26"
             ],
             [
              1,
              "#f0f921"
             ]
            ],
            "type": "histogram2d"
           }
          ],
          "histogram2dcontour": [
           {
            "colorbar": {
             "outlinewidth": 0,
             "ticks": ""
            },
            "colorscale": [
             [
              0,
              "#0d0887"
             ],
             [
              0.1111111111111111,
              "#46039f"
             ],
             [
              0.2222222222222222,
              "#7201a8"
             ],
             [
              0.3333333333333333,
              "#9c179e"
             ],
             [
              0.4444444444444444,
              "#bd3786"
             ],
             [
              0.5555555555555556,
              "#d8576b"
             ],
             [
              0.6666666666666666,
              "#ed7953"
             ],
             [
              0.7777777777777778,
              "#fb9f3a"
             ],
             [
              0.8888888888888888,
              "#fdca26"
             ],
             [
              1,
              "#f0f921"
             ]
            ],
            "type": "histogram2dcontour"
           }
          ],
          "mesh3d": [
           {
            "colorbar": {
             "outlinewidth": 0,
             "ticks": ""
            },
            "type": "mesh3d"
           }
          ],
          "parcoords": [
           {
            "line": {
             "colorbar": {
              "outlinewidth": 0,
              "ticks": ""
             }
            },
            "type": "parcoords"
           }
          ],
          "pie": [
           {
            "automargin": true,
            "type": "pie"
           }
          ],
          "scatter": [
           {
            "marker": {
             "colorbar": {
              "outlinewidth": 0,
              "ticks": ""
             }
            },
            "type": "scatter"
           }
          ],
          "scatter3d": [
           {
            "line": {
             "colorbar": {
              "outlinewidth": 0,
              "ticks": ""
             }
            },
            "marker": {
             "colorbar": {
              "outlinewidth": 0,
              "ticks": ""
             }
            },
            "type": "scatter3d"
           }
          ],
          "scattercarpet": [
           {
            "marker": {
             "colorbar": {
              "outlinewidth": 0,
              "ticks": ""
             }
            },
            "type": "scattercarpet"
           }
          ],
          "scattergeo": [
           {
            "marker": {
             "colorbar": {
              "outlinewidth": 0,
              "ticks": ""
             }
            },
            "type": "scattergeo"
           }
          ],
          "scattergl": [
           {
            "marker": {
             "colorbar": {
              "outlinewidth": 0,
              "ticks": ""
             }
            },
            "type": "scattergl"
           }
          ],
          "scattermapbox": [
           {
            "marker": {
             "colorbar": {
              "outlinewidth": 0,
              "ticks": ""
             }
            },
            "type": "scattermapbox"
           }
          ],
          "scatterpolar": [
           {
            "marker": {
             "colorbar": {
              "outlinewidth": 0,
              "ticks": ""
             }
            },
            "type": "scatterpolar"
           }
          ],
          "scatterpolargl": [
           {
            "marker": {
             "colorbar": {
              "outlinewidth": 0,
              "ticks": ""
             }
            },
            "type": "scatterpolargl"
           }
          ],
          "scatterternary": [
           {
            "marker": {
             "colorbar": {
              "outlinewidth": 0,
              "ticks": ""
             }
            },
            "type": "scatterternary"
           }
          ],
          "surface": [
           {
            "colorbar": {
             "outlinewidth": 0,
             "ticks": ""
            },
            "colorscale": [
             [
              0,
              "#0d0887"
             ],
             [
              0.1111111111111111,
              "#46039f"
             ],
             [
              0.2222222222222222,
              "#7201a8"
             ],
             [
              0.3333333333333333,
              "#9c179e"
             ],
             [
              0.4444444444444444,
              "#bd3786"
             ],
             [
              0.5555555555555556,
              "#d8576b"
             ],
             [
              0.6666666666666666,
              "#ed7953"
             ],
             [
              0.7777777777777778,
              "#fb9f3a"
             ],
             [
              0.8888888888888888,
              "#fdca26"
             ],
             [
              1,
              "#f0f921"
             ]
            ],
            "type": "surface"
           }
          ],
          "table": [
           {
            "cells": {
             "fill": {
              "color": "#EBF0F8"
             },
             "line": {
              "color": "white"
             }
            },
            "header": {
             "fill": {
              "color": "#C8D4E3"
             },
             "line": {
              "color": "white"
             }
            },
            "type": "table"
           }
          ]
         },
         "layout": {
          "annotationdefaults": {
           "arrowcolor": "#2a3f5f",
           "arrowhead": 0,
           "arrowwidth": 1
          },
          "coloraxis": {
           "colorbar": {
            "outlinewidth": 0,
            "ticks": ""
           }
          },
          "colorscale": {
           "diverging": [
            [
             0,
             "#8e0152"
            ],
            [
             0.1,
             "#c51b7d"
            ],
            [
             0.2,
             "#de77ae"
            ],
            [
             0.3,
             "#f1b6da"
            ],
            [
             0.4,
             "#fde0ef"
            ],
            [
             0.5,
             "#f7f7f7"
            ],
            [
             0.6,
             "#e6f5d0"
            ],
            [
             0.7,
             "#b8e186"
            ],
            [
             0.8,
             "#7fbc41"
            ],
            [
             0.9,
             "#4d9221"
            ],
            [
             1,
             "#276419"
            ]
           ],
           "sequential": [
            [
             0,
             "#0d0887"
            ],
            [
             0.1111111111111111,
             "#46039f"
            ],
            [
             0.2222222222222222,
             "#7201a8"
            ],
            [
             0.3333333333333333,
             "#9c179e"
            ],
            [
             0.4444444444444444,
             "#bd3786"
            ],
            [
             0.5555555555555556,
             "#d8576b"
            ],
            [
             0.6666666666666666,
             "#ed7953"
            ],
            [
             0.7777777777777778,
             "#fb9f3a"
            ],
            [
             0.8888888888888888,
             "#fdca26"
            ],
            [
             1,
             "#f0f921"
            ]
           ],
           "sequentialminus": [
            [
             0,
             "#0d0887"
            ],
            [
             0.1111111111111111,
             "#46039f"
            ],
            [
             0.2222222222222222,
             "#7201a8"
            ],
            [
             0.3333333333333333,
             "#9c179e"
            ],
            [
             0.4444444444444444,
             "#bd3786"
            ],
            [
             0.5555555555555556,
             "#d8576b"
            ],
            [
             0.6666666666666666,
             "#ed7953"
            ],
            [
             0.7777777777777778,
             "#fb9f3a"
            ],
            [
             0.8888888888888888,
             "#fdca26"
            ],
            [
             1,
             "#f0f921"
            ]
           ]
          },
          "colorway": [
           "#636efa",
           "#EF553B",
           "#00cc96",
           "#ab63fa",
           "#FFA15A",
           "#19d3f3",
           "#FF6692",
           "#B6E880",
           "#FF97FF",
           "#FECB52"
          ],
          "font": {
           "color": "#2a3f5f"
          },
          "geo": {
           "bgcolor": "white",
           "lakecolor": "white",
           "landcolor": "#E5ECF6",
           "showlakes": true,
           "showland": true,
           "subunitcolor": "white"
          },
          "hoverlabel": {
           "align": "left"
          },
          "hovermode": "closest",
          "mapbox": {
           "style": "light"
          },
          "paper_bgcolor": "white",
          "plot_bgcolor": "#E5ECF6",
          "polar": {
           "angularaxis": {
            "gridcolor": "white",
            "linecolor": "white",
            "ticks": ""
           },
           "bgcolor": "#E5ECF6",
           "radialaxis": {
            "gridcolor": "white",
            "linecolor": "white",
            "ticks": ""
           }
          },
          "scene": {
           "xaxis": {
            "backgroundcolor": "#E5ECF6",
            "gridcolor": "white",
            "gridwidth": 2,
            "linecolor": "white",
            "showbackground": true,
            "ticks": "",
            "zerolinecolor": "white"
           },
           "yaxis": {
            "backgroundcolor": "#E5ECF6",
            "gridcolor": "white",
            "gridwidth": 2,
            "linecolor": "white",
            "showbackground": true,
            "ticks": "",
            "zerolinecolor": "white"
           },
           "zaxis": {
            "backgroundcolor": "#E5ECF6",
            "gridcolor": "white",
            "gridwidth": 2,
            "linecolor": "white",
            "showbackground": true,
            "ticks": "",
            "zerolinecolor": "white"
           }
          },
          "shapedefaults": {
           "line": {
            "color": "#2a3f5f"
           }
          },
          "ternary": {
           "aaxis": {
            "gridcolor": "white",
            "linecolor": "white",
            "ticks": ""
           },
           "baxis": {
            "gridcolor": "white",
            "linecolor": "white",
            "ticks": ""
           },
           "bgcolor": "#E5ECF6",
           "caxis": {
            "gridcolor": "white",
            "linecolor": "white",
            "ticks": ""
           }
          },
          "title": {
           "x": 0.05
          },
          "xaxis": {
           "automargin": true,
           "gridcolor": "white",
           "linecolor": "white",
           "ticks": "",
           "title": {
            "standoff": 15
           },
           "zerolinecolor": "white",
           "zerolinewidth": 2
          },
          "yaxis": {
           "automargin": true,
           "gridcolor": "white",
           "linecolor": "white",
           "ticks": "",
           "title": {
            "standoff": 15
           },
           "zerolinecolor": "white",
           "zerolinewidth": 2
          }
         }
        },
        "title": {
         "text": "2D Cluster PCA Plot"
        },
        "xaxis": {
         "anchor": "y",
         "domain": [
          0,
          1
         ],
         "title": {
          "text": "PCA1"
         }
        },
        "yaxis": {
         "anchor": "x",
         "domain": [
          0,
          1
         ],
         "title": {
          "text": "PCA2"
         }
        }
       }
      },
      "text/html": [
       "<div>\n",
       "        \n",
       "        \n",
       "            <div id=\"e6a23891-78cd-46fc-b93f-1d75a996b415\" class=\"plotly-graph-div\" style=\"height:600px; width:100%;\"></div>\n",
       "            <script type=\"text/javascript\">\n",
       "                require([\"plotly\"], function(Plotly) {\n",
       "                    window.PLOTLYENV=window.PLOTLYENV || {};\n",
       "                    \n",
       "                if (document.getElementById(\"e6a23891-78cd-46fc-b93f-1d75a996b415\")) {\n",
       "                    Plotly.newPlot(\n",
       "                        'e6a23891-78cd-46fc-b93f-1d75a996b415',\n",
       "                        [{\"customdata\": [[1], [2], [3], [4], [5], [6], [7], [8], [9], [10], [11], [12], [13], [14], [15], [16], [17], [18], [19], [20], [21], [22], [23], [24], [25], [26], [27], [28], [29], [30], [31], [32], [33], [34], [35], [36]], \"hoverlabel\": {\"namelength\": 0}, \"hovertemplate\": \"Cluster=Cluster 0<br>PCA1=%{x}<br>PCA2=%{y}<br>Feature=%{customdata[0]}\", \"legendgroup\": \"Cluster=Cluster 0\", \"marker\": {\"color\": \"#636efa\", \"opacity\": 0.5, \"symbol\": \"circle\"}, \"mode\": \"markers\", \"name\": \"Cluster=Cluster 0\", \"showlegend\": true, \"textposition\": \"top center\", \"type\": \"scatter\", \"x\": [1.2443951092347338, 0.3226398470057006, 0.6844665904654113, 1.2823134745623412, -0.24893725404110534, -0.00807719544823641, -0.37531766734325245, 1.448880894334845, 1.7442508482740573, 0.80286199851934, 0.34726250843537765, 0.32263984700569687, 1.1180146959325927, 1.4799830921541985, -0.16057823585218275, 1.2833671518023766, 0.48815358953816157, 0.636294578746827, 0.9932814042509062, 0.6832516265627019, 1.1962230975161645, -0.18262962046895947, 0.7392672945220037, 1.502175825778478, -0.034197822550033605, 0.5817846834004928, 1.1962230975161645, -0.0862855970318081, 1.7742872381390538, 1.4618474703006195, 1.4268295097180683, 0.040094816270340665, 0.41627094086802785, 0.7847263766657601, 1.7990515523306487, 1.6036505758815274], \"xaxis\": \"x\", \"y\": [-0.5927851083025908, -0.2628053003530092, 0.7643594302207003, -0.027868460246263806, -0.7231085734439165, -0.7020886597114427, 0.671871809797823, -0.10012918221771192, 0.8568470506435766, 0.6878947255027569, 0.7349315509952391, -0.26280530035301175, 0.8021952749391478, 0.7413458192094212, 0.6038150705728718, -0.17332098067886414, -0.18961350189185858, 0.7601554474742057, -0.0530923567252327, -0.13889610342586678, -0.5969890910490866, 0.6886877407838022, -0.7293062534692194, -0.06742839673546197, -0.7911653126688687, -0.17580087165461086, -0.5969890910490866, 0.697095706276791, -0.5465412980911522, -0.666246512271802, -0.015256512006781279, -0.6978846769649493, -0.2489926701157644, -0.7196976059784663, -0.6368186330463416, -0.6482298992880599], \"yaxis\": \"y\"}, {\"customdata\": [[37], [38], [39], [40], [41], [42], [43], [44], [45], [46], [47], [48], [49], [50], [51], [52], [53], [54], [55], [56], [57], [58], [59], [60], [61], [62], [63], [64], [65], [66], [67], [68], [69], [70], [71], [72], [73], [74], [75], [76], [77], [78], [79], [80], [81], [82], [83]], \"hoverlabel\": {\"namelength\": 0}, \"hovertemplate\": \"Cluster=Cluster 1<br>PCA1=%{x}<br>PCA2=%{y}<br>Feature=%{customdata[0]}\", \"legendgroup\": \"Cluster=Cluster 1\", \"marker\": {\"color\": \"#EF553B\", \"opacity\": 0.5, \"symbol\": \"circle\"}, \"mode\": \"markers\", \"name\": \"Cluster=Cluster 1\", \"showlegend\": true, \"textposition\": \"top center\", \"type\": \"scatter\", \"x\": [-1.3204828554197205, -1.0116680416342259, -1.3686548671382968, -1.1941024421175732, -1.080837760729543, -1.1771817841666943, -0.501558656203924, -1.369869831040997, -0.9363217255737966, -1.0116680416342259, -0.9832787733896712, -1.0796227968268224, -1.0598400533528014, -1.0326657490109479, -1.348872123664255, -0.2890878658555807, -0.9832787733896712, -0.2306622077460451, -1.2723108437011452, -1.2723108437011452, -1.2422744538361483, -0.4298275626895867, -1.369869831040997, -0.8881497138552211, -1.464998890575448, -1.2904464655547243, -1.3386184772732996, -0.9832787733896712, -1.0977584186804215, -1.4168268788568719, -0.7708079830413279, -0.45460160838804914, -1.0495864069618455, -1.3386184772732996, -1.3686548671382968, -0.42335025462035253, -1.4180418427595722, -1.2723108437011452, -1.1941024421175732, -0.3570426210481924, -1.2241388319825695, -1.1561840767899525, -1.3386184772732996, -1.4168268788568719, -0.8399777021366449, -0.21374154979516855, -1.2904464655547243], \"xaxis\": \"x\", \"y\": [0.6643313693842937, -0.15312041756163788, 0.6601273866377995, -0.7306490138574465, -0.21790425052980175, -0.22631221602279036, 0.7357990760746959, -0.24312814700876775, -0.20529230229032153, -0.1531204175616379, 0.6937592486097511, 0.6853512831167625, -0.15732440030813222, -0.21370026778331014, -0.18254829678709814, -0.09006067636422449, 0.693759248609751, -0.6465693589275622, 0.668535352130788, 0.6685353521307883, -0.7348529966039412, -0.2640845093309931, -0.24312814700876775, -0.2010883195438272, 0.6517194211448107, -0.7390569793504354, -0.7432609620969297, 0.6937592486097511, -0.7222410483644581, 0.655923403891305, -0.13210050382916894, -0.16325247482537694, -0.7180370656179638, -0.7432609620969297, 0.6601273866377995, -0.6633852899135388, -0.2473321297552621, 0.668535352130788, -0.7306490138574465, 0.7484110243141782, 0.6727393348772824, -0.16573236580112077, -0.7432609620969297, 0.655923403891305, -0.19688433679733292, -0.14223256109290566, -0.7390569793504352], \"yaxis\": \"y\"}, {\"customdata\": [[84], [85], [86], [87], [88], [89], [90], [91], [92], [93], [94], [95], [96], [97], [98], [99], [100], [101], [102], [103], [104], [105], [106], [107], [108], [109]], \"hoverlabel\": {\"namelength\": 0}, \"hovertemplate\": \"Cluster=Cluster 2<br>PCA1=%{x}<br>PCA2=%{y}<br>Feature=%{customdata[0]}\", \"legendgroup\": \"Cluster=Cluster 2\", \"marker\": {\"color\": \"#00cc96\", \"opacity\": 0.5, \"symbol\": \"circle\"}, \"mode\": \"markers\", \"name\": \"Cluster=Cluster 2\", \"showlegend\": true, \"textposition\": \"top center\", \"type\": \"scatter\", \"x\": [0.8670404153902442, 0.5570106377020492, 0.9633844388273768, 1.300588520857406, 1.135074778324937, 0.010197850846830838, 0.9423867314506351, -0.11618256245531638, 1.5414485794502844, 0.17284950785613507, 0.24080426304875133, 0.7990856601976093, 1.0115564505459524, 1.1663261320926344, 1.3289777891019408, 1.232633765664789, 1.0218100969369075, 1.2314188017620884, 0.15471388600255595, 1.1362897422276377, 0.9423867314506351, -0.11739752635801684, 0.5100535898861744, 1.4451045560131328, 0.17284950785613495, 1.2144981438112101], \"xaxis\": \"x\", \"y\": [0.010834909551637975, -0.07496883714899752, 0.01924287504462931, 0.04867075427008971, -0.024521044191062845, -0.6255494451950903, -0.04133697517704002, 0.7694309380466502, 0.06969066800256145, 0.7946548345256162, -0.04381686615278676, 0.8493066102300438, 0.02344685779112395, -0.5246538592792247, 0.8955504204414815, 0.8871424549484929, -0.5372658075187076, -0.01611307869807409, -0.612937496955607, 0.8787344894555044, -0.04133697517704002, -0.1338245955999171, 0.8240827137510753, 0.06128270250957274, 0.7946548345256165, -0.5204498765327303], \"yaxis\": \"y\"}],\n",
       "                        {\"height\": 600, \"legend\": {\"tracegroupgap\": 0}, \"margin\": {\"t\": 60}, \"plot_bgcolor\": \"rgb(240,240,240)\", \"template\": {\"data\": {\"bar\": [{\"error_x\": {\"color\": \"#2a3f5f\"}, \"error_y\": {\"color\": \"#2a3f5f\"}, \"marker\": {\"line\": {\"color\": \"#E5ECF6\", \"width\": 0.5}}, \"type\": \"bar\"}], \"barpolar\": [{\"marker\": {\"line\": {\"color\": \"#E5ECF6\", \"width\": 0.5}}, \"type\": \"barpolar\"}], \"carpet\": [{\"aaxis\": {\"endlinecolor\": \"#2a3f5f\", \"gridcolor\": \"white\", \"linecolor\": \"white\", \"minorgridcolor\": \"white\", \"startlinecolor\": \"#2a3f5f\"}, \"baxis\": {\"endlinecolor\": \"#2a3f5f\", \"gridcolor\": \"white\", \"linecolor\": \"white\", \"minorgridcolor\": \"white\", \"startlinecolor\": \"#2a3f5f\"}, \"type\": \"carpet\"}], \"choropleth\": [{\"colorbar\": {\"outlinewidth\": 0, \"ticks\": \"\"}, \"type\": \"choropleth\"}], \"contour\": [{\"colorbar\": {\"outlinewidth\": 0, \"ticks\": \"\"}, \"colorscale\": [[0.0, \"#0d0887\"], [0.1111111111111111, \"#46039f\"], [0.2222222222222222, \"#7201a8\"], [0.3333333333333333, \"#9c179e\"], [0.4444444444444444, \"#bd3786\"], [0.5555555555555556, \"#d8576b\"], [0.6666666666666666, \"#ed7953\"], [0.7777777777777778, \"#fb9f3a\"], [0.8888888888888888, \"#fdca26\"], [1.0, \"#f0f921\"]], \"type\": \"contour\"}], \"contourcarpet\": [{\"colorbar\": {\"outlinewidth\": 0, \"ticks\": \"\"}, \"type\": \"contourcarpet\"}], \"heatmap\": [{\"colorbar\": {\"outlinewidth\": 0, \"ticks\": \"\"}, \"colorscale\": [[0.0, \"#0d0887\"], [0.1111111111111111, \"#46039f\"], [0.2222222222222222, \"#7201a8\"], [0.3333333333333333, \"#9c179e\"], [0.4444444444444444, \"#bd3786\"], [0.5555555555555556, \"#d8576b\"], [0.6666666666666666, \"#ed7953\"], [0.7777777777777778, \"#fb9f3a\"], [0.8888888888888888, \"#fdca26\"], [1.0, \"#f0f921\"]], \"type\": \"heatmap\"}], \"heatmapgl\": [{\"colorbar\": {\"outlinewidth\": 0, \"ticks\": \"\"}, \"colorscale\": [[0.0, \"#0d0887\"], [0.1111111111111111, \"#46039f\"], [0.2222222222222222, \"#7201a8\"], [0.3333333333333333, \"#9c179e\"], [0.4444444444444444, \"#bd3786\"], [0.5555555555555556, \"#d8576b\"], [0.6666666666666666, \"#ed7953\"], [0.7777777777777778, \"#fb9f3a\"], [0.8888888888888888, \"#fdca26\"], [1.0, \"#f0f921\"]], \"type\": \"heatmapgl\"}], \"histogram\": [{\"marker\": {\"colorbar\": {\"outlinewidth\": 0, \"ticks\": \"\"}}, \"type\": \"histogram\"}], \"histogram2d\": [{\"colorbar\": {\"outlinewidth\": 0, \"ticks\": \"\"}, \"colorscale\": [[0.0, \"#0d0887\"], [0.1111111111111111, \"#46039f\"], [0.2222222222222222, \"#7201a8\"], [0.3333333333333333, \"#9c179e\"], [0.4444444444444444, \"#bd3786\"], [0.5555555555555556, \"#d8576b\"], [0.6666666666666666, \"#ed7953\"], [0.7777777777777778, \"#fb9f3a\"], [0.8888888888888888, \"#fdca26\"], [1.0, \"#f0f921\"]], \"type\": \"histogram2d\"}], \"histogram2dcontour\": [{\"colorbar\": {\"outlinewidth\": 0, \"ticks\": \"\"}, \"colorscale\": [[0.0, \"#0d0887\"], [0.1111111111111111, \"#46039f\"], [0.2222222222222222, \"#7201a8\"], [0.3333333333333333, \"#9c179e\"], [0.4444444444444444, \"#bd3786\"], [0.5555555555555556, \"#d8576b\"], [0.6666666666666666, \"#ed7953\"], [0.7777777777777778, \"#fb9f3a\"], [0.8888888888888888, \"#fdca26\"], [1.0, \"#f0f921\"]], \"type\": \"histogram2dcontour\"}], \"mesh3d\": [{\"colorbar\": {\"outlinewidth\": 0, \"ticks\": \"\"}, \"type\": \"mesh3d\"}], \"parcoords\": [{\"line\": {\"colorbar\": {\"outlinewidth\": 0, \"ticks\": \"\"}}, \"type\": \"parcoords\"}], \"pie\": [{\"automargin\": true, \"type\": \"pie\"}], \"scatter\": [{\"marker\": {\"colorbar\": {\"outlinewidth\": 0, \"ticks\": \"\"}}, \"type\": \"scatter\"}], \"scatter3d\": [{\"line\": {\"colorbar\": {\"outlinewidth\": 0, \"ticks\": \"\"}}, \"marker\": {\"colorbar\": {\"outlinewidth\": 0, \"ticks\": \"\"}}, \"type\": \"scatter3d\"}], \"scattercarpet\": [{\"marker\": {\"colorbar\": {\"outlinewidth\": 0, \"ticks\": \"\"}}, \"type\": \"scattercarpet\"}], \"scattergeo\": [{\"marker\": {\"colorbar\": {\"outlinewidth\": 0, \"ticks\": \"\"}}, \"type\": \"scattergeo\"}], \"scattergl\": [{\"marker\": {\"colorbar\": {\"outlinewidth\": 0, \"ticks\": \"\"}}, \"type\": \"scattergl\"}], \"scattermapbox\": [{\"marker\": {\"colorbar\": {\"outlinewidth\": 0, \"ticks\": \"\"}}, \"type\": \"scattermapbox\"}], \"scatterpolar\": [{\"marker\": {\"colorbar\": {\"outlinewidth\": 0, \"ticks\": \"\"}}, \"type\": \"scatterpolar\"}], \"scatterpolargl\": [{\"marker\": {\"colorbar\": {\"outlinewidth\": 0, \"ticks\": \"\"}}, \"type\": \"scatterpolargl\"}], \"scatterternary\": [{\"marker\": {\"colorbar\": {\"outlinewidth\": 0, \"ticks\": \"\"}}, \"type\": \"scatterternary\"}], \"surface\": [{\"colorbar\": {\"outlinewidth\": 0, \"ticks\": \"\"}, \"colorscale\": [[0.0, \"#0d0887\"], [0.1111111111111111, \"#46039f\"], [0.2222222222222222, \"#7201a8\"], [0.3333333333333333, \"#9c179e\"], [0.4444444444444444, \"#bd3786\"], [0.5555555555555556, \"#d8576b\"], [0.6666666666666666, \"#ed7953\"], [0.7777777777777778, \"#fb9f3a\"], [0.8888888888888888, \"#fdca26\"], [1.0, \"#f0f921\"]], \"type\": \"surface\"}], \"table\": [{\"cells\": {\"fill\": {\"color\": \"#EBF0F8\"}, \"line\": {\"color\": \"white\"}}, \"header\": {\"fill\": {\"color\": \"#C8D4E3\"}, \"line\": {\"color\": \"white\"}}, \"type\": \"table\"}]}, \"layout\": {\"annotationdefaults\": {\"arrowcolor\": \"#2a3f5f\", \"arrowhead\": 0, \"arrowwidth\": 1}, \"coloraxis\": {\"colorbar\": {\"outlinewidth\": 0, \"ticks\": \"\"}}, \"colorscale\": {\"diverging\": [[0, \"#8e0152\"], [0.1, \"#c51b7d\"], [0.2, \"#de77ae\"], [0.3, \"#f1b6da\"], [0.4, \"#fde0ef\"], [0.5, \"#f7f7f7\"], [0.6, \"#e6f5d0\"], [0.7, \"#b8e186\"], [0.8, \"#7fbc41\"], [0.9, \"#4d9221\"], [1, \"#276419\"]], \"sequential\": [[0.0, \"#0d0887\"], [0.1111111111111111, \"#46039f\"], [0.2222222222222222, \"#7201a8\"], [0.3333333333333333, \"#9c179e\"], [0.4444444444444444, \"#bd3786\"], [0.5555555555555556, \"#d8576b\"], [0.6666666666666666, \"#ed7953\"], [0.7777777777777778, \"#fb9f3a\"], [0.8888888888888888, \"#fdca26\"], [1.0, \"#f0f921\"]], \"sequentialminus\": [[0.0, \"#0d0887\"], [0.1111111111111111, \"#46039f\"], [0.2222222222222222, \"#7201a8\"], [0.3333333333333333, \"#9c179e\"], [0.4444444444444444, \"#bd3786\"], [0.5555555555555556, \"#d8576b\"], [0.6666666666666666, \"#ed7953\"], [0.7777777777777778, \"#fb9f3a\"], [0.8888888888888888, \"#fdca26\"], [1.0, \"#f0f921\"]]}, \"colorway\": [\"#636efa\", \"#EF553B\", \"#00cc96\", \"#ab63fa\", \"#FFA15A\", \"#19d3f3\", \"#FF6692\", \"#B6E880\", \"#FF97FF\", \"#FECB52\"], \"font\": {\"color\": \"#2a3f5f\"}, \"geo\": {\"bgcolor\": \"white\", \"lakecolor\": \"white\", \"landcolor\": \"#E5ECF6\", \"showlakes\": true, \"showland\": true, \"subunitcolor\": \"white\"}, \"hoverlabel\": {\"align\": \"left\"}, \"hovermode\": \"closest\", \"mapbox\": {\"style\": \"light\"}, \"paper_bgcolor\": \"white\", \"plot_bgcolor\": \"#E5ECF6\", \"polar\": {\"angularaxis\": {\"gridcolor\": \"white\", \"linecolor\": \"white\", \"ticks\": \"\"}, \"bgcolor\": \"#E5ECF6\", \"radialaxis\": {\"gridcolor\": \"white\", \"linecolor\": \"white\", \"ticks\": \"\"}}, \"scene\": {\"xaxis\": {\"backgroundcolor\": \"#E5ECF6\", \"gridcolor\": \"white\", \"gridwidth\": 2, \"linecolor\": \"white\", \"showbackground\": true, \"ticks\": \"\", \"zerolinecolor\": \"white\"}, \"yaxis\": {\"backgroundcolor\": \"#E5ECF6\", \"gridcolor\": \"white\", \"gridwidth\": 2, \"linecolor\": \"white\", \"showbackground\": true, \"ticks\": \"\", \"zerolinecolor\": \"white\"}, \"zaxis\": {\"backgroundcolor\": \"#E5ECF6\", \"gridcolor\": \"white\", \"gridwidth\": 2, \"linecolor\": \"white\", \"showbackground\": true, \"ticks\": \"\", \"zerolinecolor\": \"white\"}}, \"shapedefaults\": {\"line\": {\"color\": \"#2a3f5f\"}}, \"ternary\": {\"aaxis\": {\"gridcolor\": \"white\", \"linecolor\": \"white\", \"ticks\": \"\"}, \"baxis\": {\"gridcolor\": \"white\", \"linecolor\": \"white\", \"ticks\": \"\"}, \"bgcolor\": \"#E5ECF6\", \"caxis\": {\"gridcolor\": \"white\", \"linecolor\": \"white\", \"ticks\": \"\"}}, \"title\": {\"x\": 0.05}, \"xaxis\": {\"automargin\": true, \"gridcolor\": \"white\", \"linecolor\": \"white\", \"ticks\": \"\", \"title\": {\"standoff\": 15}, \"zerolinecolor\": \"white\", \"zerolinewidth\": 2}, \"yaxis\": {\"automargin\": true, \"gridcolor\": \"white\", \"linecolor\": \"white\", \"ticks\": \"\", \"title\": {\"standoff\": 15}, \"zerolinecolor\": \"white\", \"zerolinewidth\": 2}}}, \"title\": {\"text\": \"2D Cluster PCA Plot\"}, \"xaxis\": {\"anchor\": \"y\", \"domain\": [0.0, 1.0], \"title\": {\"text\": \"PCA1\"}}, \"yaxis\": {\"anchor\": \"x\", \"domain\": [0.0, 1.0], \"title\": {\"text\": \"PCA2\"}}},\n",
       "                        {\"responsive\": true}\n",
       "                    ).then(function(){\n",
       "                            \n",
       "var gd = document.getElementById('e6a23891-78cd-46fc-b93f-1d75a996b415');\n",
       "var x = new MutationObserver(function (mutations, observer) {{\n",
       "        var display = window.getComputedStyle(gd).display;\n",
       "        if (!display || display === 'none') {{\n",
       "            console.log([gd, 'removed!']);\n",
       "            Plotly.purge(gd);\n",
       "            observer.disconnect();\n",
       "        }}\n",
       "}});\n",
       "\n",
       "// Listen for the removal of the full notebook cells\n",
       "var notebookContainer = gd.closest('#notebook-container');\n",
       "if (notebookContainer) {{\n",
       "    x.observe(notebookContainer, {childList: true});\n",
       "}}\n",
       "\n",
       "// Listen for the clearing of the current output cell\n",
       "var outputEl = gd.closest('.output');\n",
       "if (outputEl) {{\n",
       "    x.observe(outputEl, {childList: true});\n",
       "}}\n",
       "\n",
       "                        })\n",
       "                };\n",
       "                });\n",
       "            </script>\n",
       "        </div>"
      ]
     },
     "metadata": {},
     "output_type": "display_data"
    }
   ],
   "source": [
    "plot_model(kmeans)"
   ]
  },
  {
   "cell_type": "code",
   "execution_count": 11,
   "metadata": {},
   "outputs": [
    {
     "data": {
      "text/html": [
       "        <script type=\"text/javascript\">\n",
       "        window.PlotlyConfig = {MathJaxConfig: 'local'};\n",
       "        if (window.MathJax) {MathJax.Hub.Config({SVG: {font: \"STIX-Web\"}});}\n",
       "        if (typeof require !== 'undefined') {\n",
       "        require.undef(\"plotly\");\n",
       "        requirejs.config({\n",
       "            paths: {\n",
       "                'plotly': ['https://cdn.plot.ly/plotly-latest.min']\n",
       "            }\n",
       "        });\n",
       "        require(['plotly'], function(Plotly) {\n",
       "            window._Plotly = Plotly;\n",
       "        });\n",
       "        }\n",
       "        </script>\n",
       "        "
      ]
     },
     "metadata": {},
     "output_type": "display_data"
    },
    {
     "data": {
      "image/png": "[encoded data removed]",
      "text/plain": [
       "<Figure size 576x396 with 1 Axes>"
      ]
     },
     "metadata": {},
     "output_type": "display_data"
    }
   ],
   "source": [
    "plot_model(kmeans, plot = 'elbow')"
   ]
  },
  {
   "cell_type": "code",
   "execution_count": 12,
   "metadata": {},
   "outputs": [
    {
     "data": {
      "text/html": [
       "        <script type=\"text/javascript\">\n",
       "        window.PlotlyConfig = {MathJaxConfig: 'local'};\n",
       "        if (window.MathJax) {MathJax.Hub.Config({SVG: {font: \"STIX-Web\"}});}\n",
       "        if (typeof require !== 'undefined') {\n",
       "        require.undef(\"plotly\");\n",
       "        requirejs.config({\n",
       "            paths: {\n",
       "                'plotly': ['https://cdn.plot.ly/plotly-latest.min']\n",
       "            }\n",
       "        });\n",
       "        require(['plotly'], function(Plotly) {\n",
       "            window._Plotly = Plotly;\n",
       "        });\n",
       "        }\n",
       "        </script>\n",
       "        "
      ]
     },
     "metadata": {},
     "output_type": "display_data"
    },
    {
     "data": {
      "application/vnd.plotly.v1+json": {
       "config": {
        "plotlyServerURL": "https://plot.ly"
       },
       "data": [
        {
         "alignmentgroup": "True",
         "bingroup": "x",
         "hoverlabel": {
          "namelength": 0
         },
         "hovertemplate": "Cluster=%{x}<br>count=%{y}",
         "legendgroup": "Cluster=Cluster 0",
         "marker": {
          "color": "#636efa",
          "opacity": 0.7
         },
         "name": "Cluster=Cluster 0",
         "offsetgroup": "Cluster=Cluster 0",
         "orientation": "v",
         "showlegend": true,
         "type": "histogram",
         "x": [
          "Cluster 0",
          "Cluster 0",
          "Cluster 0",
          "Cluster 0",
          "Cluster 0",
          "Cluster 0",
          "Cluster 0",
          "Cluster 0",
          "Cluster 0",
          "Cluster 0",
          "Cluster 0",
          "Cluster 0",
          "Cluster 0",
          "Cluster 0",
          "Cluster 0",
          "Cluster 0",
          "Cluster 0",
          "Cluster 0",
          "Cluster 0",
          "Cluster 0",
          "Cluster 0",
          "Cluster 0",
          "Cluster 0",
          "Cluster 0",
          "Cluster 0",
          "Cluster 0",
          "Cluster 0",
          "Cluster 0",
          "Cluster 0",
          "Cluster 0",
          "Cluster 0",
          "Cluster 0",
          "Cluster 0",
          "Cluster 0",
          "Cluster 0",
          "Cluster 0"
         ],
         "xaxis": "x",
         "yaxis": "y"
        },
        {
         "alignmentgroup": "True",
         "customdata": [
          [
           109,
           "Agnano Brito",
           52,
           4,
           3,
           "Cluster 0"
          ],
          [
           86,
           "Arnold Valenti",
           35,
           2,
           4,
           "Cluster 0"
          ],
          [
           59,
           "Victoria Holloway",
           42,
           1,
           3,
           "Cluster 0"
          ],
          [
           84,
           "Rajab Shammas",
           52,
           3,
           3,
           "Cluster 0"
          ],
          [
           83,
           "Kari Tran",
           21,
           4,
           3,
           "Cluster 0"
          ],
          [
           32,
           "Billie Stonge",
           26,
           4,
           3,
           "Cluster 0"
          ],
          [
           80,
           "Nickolas McLaughlin",
           20,
           1,
           3,
           "Cluster 0"
          ],
          [
           34,
           "Jeanne Vestergaard",
           57,
           3,
           5,
           "Cluster 0"
          ],
          [
           35,
           "Alaine Poisson",
           64,
           1,
           3,
           "Cluster 0"
          ],
          [
           78,
           "Rosie Reeves",
           46,
           1,
           5,
           "Cluster 0"
          ],
          [
           76,
           "Letha Walls",
           35,
           1,
           3,
           "Cluster 0"
          ],
          [
           43,
           "Rhonda Hughes",
           35,
           2,
           4,
           "Cluster 0"
          ],
          [
           44,
           "Linwood Guay",
           51,
           1,
           3,
           "Cluster 0"
          ],
          [
           71,
           "Jensigne Carlsen",
           60,
           1,
           4,
           "Cluster 0"
          ],
          [
           70,
           "Nelida Zamora",
           26,
           1,
           5,
           "Cluster 0"
          ],
          [
           69,
           "Germain Arenas",
           55,
           2,
           5,
           "Cluster 0"
          ],
          [
           49,
           "Joann Chambers",
           37,
           3,
           4,
           "Cluster 0"
          ],
          [
           65,
           "Rodrigo Romani",
           41,
           1,
           3,
           "Cluster 0"
          ],
          [
           53,
           "Jeanette Frandsen",
           46,
           3,
           3,
           "Cluster 0"
          ],
          [
           63,
           "Erembourg Ratte",
           41,
           2,
           3,
           "Cluster 0"
          ],
          [
           88,
           "Aisha Witt",
           51,
           4,
           3,
           "Cluster 0"
          ],
          [
           24,
           "Carlene O'Neill",
           24,
           1,
           3,
           "Cluster 0"
          ],
          [
           85,
           "Aaliyah Briggs",
           43,
           4,
           4,
           "Cluster 0"
          ],
          [
           58,
           "Giovanni Vera",
           58,
           2,
           3,
           "Cluster 0"
          ],
          [
           8,
           "Maya Steele",
           27,
           4,
           5,
           "Cluster 0"
          ],
          [
           103,
           "Viv Pichardo",
           39,
           3,
           5,
           "Cluster 0"
          ],
          [
           5,
           "Noreen Branch",
           51,
           4,
           3,
           "Cluster 0"
          ],
          [
           101,
           "Daisuke Nakayama",
           26,
           1,
           3,
           "Cluster 0"
          ],
          [
           10,
           "Niew Leekpai",
           63,
           4,
           3,
           "Cluster 0"
          ],
          [
           16,
           "Jeanie Sheppard",
           58,
           4,
           4,
           "Cluster 0"
          ],
          [
           9,
           "Dan Drayton",
           55,
           3,
           3,
           "Cluster 0"
          ],
          [
           3,
           "Kian Goddard",
           27,
           4,
           3,
           "Cluster 0"
          ],
          [
           95,
           "Abel Bevins",
           37,
           2,
           5,
           "Cluster 0"
          ],
          [
           2,
           "Francine Fischer",
           44,
           4,
           5,
           "Cluster 0"
          ],
          [
           21,
           "Carolos Lamy",
           65,
           4,
           4,
           "Cluster 0"
          ],
          [
           17,
           "Burnell Plourde",
           61,
           4,
           5,
           "Cluster 0"
          ]
         ],
         "hoverlabel": {
          "namelength": 0
         },
         "hovertemplate": "Cluster=%{customdata[5]}<br>CustomerID=%{customdata[0]}<br>Name=%{customdata[1]}<br>Age=%{customdata[2]}<br>AvgWeeklySales=%{customdata[3]}<br>AvgDrinks=%{customdata[4]}",
         "legendgroup": "Cluster=Cluster 0",
         "marker": {
          "color": "#636efa"
         },
         "name": "Cluster=Cluster 0",
         "notched": true,
         "offsetgroup": "Cluster=Cluster 0",
         "showlegend": false,
         "type": "box",
         "x": [
          "Cluster 0",
          "Cluster 0",
          "Cluster 0",
          "Cluster 0",
          "Cluster 0",
          "Cluster 0",
          "Cluster 0",
          "Cluster 0",
          "Cluster 0",
          "Cluster 0",
          "Cluster 0",
          "Cluster 0",
          "Cluster 0",
          "Cluster 0",
          "Cluster 0",
          "Cluster 0",
          "Cluster 0",
          "Cluster 0",
          "Cluster 0",
          "Cluster 0",
          "Cluster 0",
          "Cluster 0",
          "Cluster 0",
          "Cluster 0",
          "Cluster 0",
          "Cluster 0",
          "Cluster 0",
          "Cluster 0",
          "Cluster 0",
          "Cluster 0",
          "Cluster 0",
          "Cluster 0",
          "Cluster 0",
          "Cluster 0",
          "Cluster 0",
          "Cluster 0"
         ],
         "xaxis": "x2",
         "yaxis": "y2"
        },
        {
         "alignmentgroup": "True",
         "bingroup": "x",
         "hoverlabel": {
          "namelength": 0
         },
         "hovertemplate": "Cluster=%{x}<br>count=%{y}",
         "legendgroup": "Cluster=Cluster 1",
         "marker": {
          "color": "#EF553B",
          "opacity": 0.7
         },
         "name": "Cluster=Cluster 1",
         "offsetgroup": "Cluster=Cluster 1",
         "orientation": "v",
         "showlegend": true,
         "type": "histogram",
         "x": [
          "Cluster 1",
          "Cluster 1",
          "Cluster 1",
          "Cluster 1",
          "Cluster 1",
          "Cluster 1",
          "Cluster 1",
          "Cluster 1",
          "Cluster 1",
          "Cluster 1",
          "Cluster 1",
          "Cluster 1",
          "Cluster 1",
          "Cluster 1",
          "Cluster 1",
          "Cluster 1",
          "Cluster 1",
          "Cluster 1",
          "Cluster 1",
          "Cluster 1",
          "Cluster 1",
          "Cluster 1",
          "Cluster 1",
          "Cluster 1",
          "Cluster 1",
          "Cluster 1",
          "Cluster 1",
          "Cluster 1",
          "Cluster 1",
          "Cluster 1",
          "Cluster 1",
          "Cluster 1",
          "Cluster 1",
          "Cluster 1",
          "Cluster 1",
          "Cluster 1",
          "Cluster 1",
          "Cluster 1",
          "Cluster 1",
          "Cluster 1",
          "Cluster 1",
          "Cluster 1",
          "Cluster 1",
          "Cluster 1",
          "Cluster 1",
          "Cluster 1",
          "Cluster 1"
         ],
         "xaxis": "x",
         "yaxis": "y"
        },
        {
         "alignmentgroup": "True",
         "customdata": [
          [
           64,
           "Nazzareno Piccio",
           8,
           1,
           1,
           "Cluster 1"
          ],
          [
           66,
           "Vaughn Oquendo",
           12,
           3,
           1,
           "Cluster 1"
          ],
          [
           67,
           "Jennifer Davey",
           7,
           1,
           1,
           "Cluster 1"
          ],
          [
           62,
           "Ireneo Piccio",
           9,
           4,
           1,
           "Cluster 1"
          ],
          [
           105,
           "Den Kojima",
           12,
           2,
           1,
           "Cluster 1"
          ],
          [
           104,
           "Fabio Jaramillo",
           10,
           2,
           1,
           "Cluster 1"
          ],
          [
           61,
           "Autumn Prince",
           25,
           1,
           1,
           "Cluster 1"
          ],
          [
           107,
           "Jeannette Kjaer",
           6,
           2,
           1,
           "Cluster 1"
          ],
          [
           93,
           "Jimmie Turman",
           15,
           2,
           1,
           "Cluster 1"
          ],
          [
           92,
           "Generosa Esposito",
           12,
           3,
           1,
           "Cluster 1"
          ],
          [
           75,
           "Erik Collado",
           15,
           1,
           1,
           "Cluster 1"
          ],
          [
           77,
           "Bellamy Garnier",
           13,
           1,
           1,
           "Cluster 1"
          ],
          [
           102,
           "Francesca Lombardi",
           11,
           3,
           1,
           "Cluster 1"
          ],
          [
           79,
           "Amalio Pizarro",
           13,
           2,
           1,
           "Cluster 1"
          ],
          [
           98,
           "Frederic Towle",
           5,
           3,
           1,
           "Cluster 1"
          ],
          [
           97,
           "Corinne Horn",
           27,
           3,
           1,
           "Cluster 1"
          ],
          [
           96,
           "Abdul-Alim Mikhail",
           15,
           1,
           1,
           "Cluster 1"
          ],
          [
           94,
           "Naomi Sharp",
           29,
           4,
           1,
           "Cluster 1"
          ],
          [
           90,
           "Vittoria Mancini",
           9,
           1,
           1,
           "Cluster 1"
          ],
          [
           91,
           "Adam Bjerregaard",
           9,
           1,
           1,
           "Cluster 1"
          ],
          [
           72,
           "Wade Munger",
           8,
           4,
           1,
           "Cluster 1"
          ],
          [
           73,
           "Demi Vadeboncoeur",
           18,
           3,
           5,
           "Cluster 1"
          ],
          [
           1,
           "Marva Cardenas",
           6,
           2,
           1,
           "Cluster 1"
          ],
          [
           12,
           "Naiyana Kunakorn",
           16,
           2,
           1,
           "Cluster 1"
          ],
          [
           22,
           "Rocco Yarborough",
           5,
           1,
           1,
           "Cluster 1"
          ],
          [
           27,
           "Sonia Harrison",
           7,
           4,
           1,
           "Cluster 1"
          ],
          [
           20,
           "Freda Conley",
           6,
           4,
           1,
           "Cluster 1"
          ],
          [
           28,
           "Roman Pilcher",
           15,
           1,
           1,
           "Cluster 1"
          ],
          [
           19,
           "Elwood McGee",
           11,
           4,
           1,
           "Cluster 1"
          ],
          [
           15,
           "Eleanor Bryan",
           6,
           1,
           1,
           "Cluster 1"
          ],
          [
           14,
           "Ansel Loiselle",
           17,
           3,
           1,
           "Cluster 1"
          ],
          [
           33,
           "Delmar Pelchat",
           25,
           2,
           1,
           "Cluster 1"
          ],
          [
           37,
           "Daitaro Ishida",
           12,
           4,
           1,
           "Cluster 1"
          ],
          [
           39,
           "Anthony Frizzell",
           6,
           4,
           1,
           "Cluster 1"
          ],
          [
           23,
           "Janna Gamble",
           7,
           1,
           1,
           "Cluster 1"
          ],
          [
           41,
           "Mara Rasmussen",
           25,
           4,
           1,
           "Cluster 1"
          ],
          [
           25,
           "Neandro Baeza",
           5,
           2,
           1,
           "Cluster 1"
          ],
          [
           48,
           "Jenny Norgaard",
           9,
           1,
           1,
           "Cluster 1"
          ],
          [
           45,
           "Margo Ayers",
           9,
           4,
           1,
           "Cluster 1"
          ],
          [
           6,
           "Brain Dulaney",
           28,
           1,
           1,
           "Cluster 1"
          ],
          [
           56,
           "Ethan Rincon",
           10,
           1,
           1,
           "Cluster 1"
          ],
          [
           47,
           "Margret Villarreal",
           9,
           3,
           1,
           "Cluster 1"
          ],
          [
           108,
           "Mayra Stephenson",
           6,
           4,
           1,
           "Cluster 1"
          ],
          [
           4,
           "Jibran Quraishi",
           6,
           1,
           1,
           "Cluster 1"
          ],
          [
           52,
           "Naowarat Kurusarttra",
           17,
           2,
           1,
           "Cluster 1"
          ],
          [
           51,
           "Victoria Gray",
           30,
           2,
           1,
           "Cluster 1"
          ],
          [
           50,
           "Abby Burris",
           7,
           4,
           1,
           "Cluster 1"
          ]
         ],
         "hoverlabel": {
          "namelength": 0
         },
         "hovertemplate": "Cluster=%{customdata[5]}<br>CustomerID=%{customdata[0]}<br>Name=%{customdata[1]}<br>Age=%{customdata[2]}<br>AvgWeeklySales=%{customdata[3]}<br>AvgDrinks=%{customdata[4]}",
         "legendgroup": "Cluster=Cluster 1",
         "marker": {
          "color": "#EF553B"
         },
         "name": "Cluster=Cluster 1",
         "notched": true,
         "offsetgroup": "Cluster=Cluster 1",
         "showlegend": false,
         "type": "box",
         "x": [
          "Cluster 1",
          "Cluster 1",
          "Cluster 1",
          "Cluster 1",
          "Cluster 1",
          "Cluster 1",
          "Cluster 1",
          "Cluster 1",
          "Cluster 1",
          "Cluster 1",
          "Cluster 1",
          "Cluster 1",
          "Cluster 1",
          "Cluster 1",
          "Cluster 1",
          "Cluster 1",
          "Cluster 1",
          "Cluster 1",
          "Cluster 1",
          "Cluster 1",
          "Cluster 1",
          "Cluster 1",
          "Cluster 1",
          "Cluster 1",
          "Cluster 1",
          "Cluster 1",
          "Cluster 1",
          "Cluster 1",
          "Cluster 1",
          "Cluster 1",
          "Cluster 1",
          "Cluster 1",
          "Cluster 1",
          "Cluster 1",
          "Cluster 1",
          "Cluster 1",
          "Cluster 1",
          "Cluster 1",
          "Cluster 1",
          "Cluster 1",
          "Cluster 1",
          "Cluster 1",
          "Cluster 1",
          "Cluster 1",
          "Cluster 1",
          "Cluster 1",
          "Cluster 1"
         ],
         "xaxis": "x2",
         "yaxis": "y2"
        },
        {
         "alignmentgroup": "True",
         "bingroup": "x",
         "hoverlabel": {
          "namelength": 0
         },
         "hovertemplate": "Cluster=%{x}<br>count=%{y}",
         "legendgroup": "Cluster=Cluster 2",
         "marker": {
          "color": "#00cc96",
          "opacity": 0.7
         },
         "name": "Cluster=Cluster 2",
         "offsetgroup": "Cluster=Cluster 2",
         "orientation": "v",
         "showlegend": true,
         "type": "histogram",
         "x": [
          "Cluster 2",
          "Cluster 2",
          "Cluster 2",
          "Cluster 2",
          "Cluster 2",
          "Cluster 2",
          "Cluster 2",
          "Cluster 2",
          "Cluster 2",
          "Cluster 2",
          "Cluster 2",
          "Cluster 2",
          "Cluster 2",
          "Cluster 2",
          "Cluster 2",
          "Cluster 2",
          "Cluster 2",
          "Cluster 2",
          "Cluster 2",
          "Cluster 2",
          "Cluster 2",
          "Cluster 2",
          "Cluster 2",
          "Cluster 2",
          "Cluster 2",
          "Cluster 2"
         ],
         "xaxis": "x",
         "yaxis": "y"
        },
        {
         "alignmentgroup": "True",
         "customdata": [
          [
           11,
           "Vinicio Robles",
           51,
           3,
           1,
           "Cluster 2"
          ],
          [
           7,
           "Armen Romo",
           46,
           2,
           1,
           "Cluster 2"
          ],
          [
           99,
           "Dwayne Passmore",
           53,
           3,
           1,
           "Cluster 2"
          ],
          [
           106,
           "Sheldon Comeaux",
           60,
           3,
           1,
           "Cluster 2"
          ],
          [
           100,
           "Gordon Fredrickson",
           58,
           2,
           1,
           "Cluster 2"
          ],
          [
           13,
           "Gerson Toro",
           34,
           4,
           1,
           "Cluster 2"
          ],
          [
           18,
           "Consuelo Navarro",
           54,
           2,
           1,
           "Cluster 2"
          ],
          [
           60,
           "Lucas Sondergaard",
           33,
           1,
           1,
           "Cluster 2"
          ],
          [
           30,
           "Zachary Parsons",
           65,
           3,
           1,
           "Cluster 2"
          ],
          [
           89,
           "Zachary Fellows",
           39,
           1,
           1,
           "Cluster 2"
          ],
          [
           54,
           "Pedro Fielder",
           38,
           3,
           1,
           "Cluster 2"
          ],
          [
           68,
           "Joshua Murphy",
           52,
           1,
           1,
           "Cluster 2"
          ],
          [
           46,
           "Abbi Byrne",
           54,
           3,
           1,
           "Cluster 2"
          ],
          [
           42,
           "Lonnie Schindler",
           58,
           4,
           1,
           "Cluster 2"
          ],
          [
           74,
           "Carey Merrill",
           63,
           1,
           1,
           "Cluster 2"
          ],
          [
           40,
           "Chad Corbitt",
           61,
           1,
           1,
           "Cluster 2"
          ],
          [
           26,
           "Patrick Lorenzen",
           55,
           4,
           1,
           "Cluster 2"
          ],
          [
           38,
           "Nicholas Rose",
           60,
           2,
           1,
           "Cluster 2"
          ],
          [
           81,
           "Modesto Cabán",
           37,
           4,
           1,
           "Cluster 2"
          ],
          [
           82,
           "Holly Franklin",
           59,
           1,
           1,
           "Cluster 2"
          ],
          [
           31,
           "Deanna Ball",
           54,
           2,
           1,
           "Cluster 2"
          ],
          [
           57,
           "Thaddeus Danforth",
           32,
           2,
           1,
           "Cluster 2"
          ],
          [
           29,
           "Vicky Erickson",
           46,
           1,
           1,
           "Cluster 2"
          ],
          [
           87,
           "Adam Brooks",
           63,
           3,
           1,
           "Cluster 2"
          ],
          [
           36,
           "Sophia Garner",
           39,
           1,
           1,
           "Cluster 2"
          ],
          [
           55,
           "Iselda Bahena",
           59,
           4,
           1,
           "Cluster 2"
          ]
         ],
         "hoverlabel": {
          "namelength": 0
         },
         "hovertemplate": "Cluster=%{customdata[5]}<br>CustomerID=%{customdata[0]}<br>Name=%{customdata[1]}<br>Age=%{customdata[2]}<br>AvgWeeklySales=%{customdata[3]}<br>AvgDrinks=%{customdata[4]}",
         "legendgroup": "Cluster=Cluster 2",
         "marker": {
          "color": "#00cc96"
         },
         "name": "Cluster=Cluster 2",
         "notched": true,
         "offsetgroup": "Cluster=Cluster 2",
         "showlegend": false,
         "type": "box",
         "x": [
          "Cluster 2",
          "Cluster 2",
          "Cluster 2",
          "Cluster 2",
          "Cluster 2",
          "Cluster 2",
          "Cluster 2",
          "Cluster 2",
          "Cluster 2",
          "Cluster 2",
          "Cluster 2",
          "Cluster 2",
          "Cluster 2",
          "Cluster 2",
          "Cluster 2",
          "Cluster 2",
          "Cluster 2",
          "Cluster 2",
          "Cluster 2",
          "Cluster 2",
          "Cluster 2",
          "Cluster 2",
          "Cluster 2",
          "Cluster 2",
          "Cluster 2",
          "Cluster 2"
         ],
         "xaxis": "x2",
         "yaxis": "y2"
        }
       ],
       "layout": {
        "barmode": "relative",
        "legend": {
         "tracegroupgap": 0
        },
        "margin": {
         "t": 60
        },
        "template": {
         "data": {
          "bar": [
           {
            "error_x": {
             "color": "#2a3f5f"
            },
            "error_y": {
             "color": "#2a3f5f"
            },
            "marker": {
             "line": {
              "color": "#E5ECF6",
              "width": 0.5
             }
            },
            "type": "bar"
           }
          ],
          "barpolar": [
           {
            "marker": {
             "line": {
              "color": "#E5ECF6",
              "width": 0.5
             }
            },
            "type": "barpolar"
           }
          ],
          "carpet": [
           {
            "aaxis": {
             "endlinecolor": "#2a3f5f",
             "gridcolor": "white",
             "linecolor": "white",
             "minorgridcolor": "white",
             "startlinecolor": "#2a3f5f"
            },
            "baxis": {
             "endlinecolor": "#2a3f5f",
             "gridcolor": "white",
             "linecolor": "white",
             "minorgridcolor": "white",
             "startlinecolor": "#2a3f5f"
            },
            "type": "carpet"
           }
          ],
          "choropleth": [
           {
            "colorbar": {
             "outlinewidth": 0,
             "ticks": ""
            },
            "type": "choropleth"
           }
          ],
          "contour": [
           {
            "colorbar": {
             "outlinewidth": 0,
             "ticks": ""
            },
            "colorscale": [
             [
              0,
              "#0d0887"
             ],
             [
              0.1111111111111111,
              "#46039f"
             ],
             [
              0.2222222222222222,
              "#7201a8"
             ],
             [
              0.3333333333333333,
              "#9c179e"
             ],
             [
              0.4444444444444444,
              "#bd3786"
             ],
             [
              0.5555555555555556,
              "#d8576b"
             ],
             [
              0.6666666666666666,
              "#ed7953"
             ],
             [
              0.7777777777777778,
              "#fb9f3a"
             ],
             [
              0.8888888888888888,
              "#fdca26"
             ],
             [
              1,
              "#f0f921"
             ]
            ],
            "type": "contour"
           }
          ],
          "contourcarpet": [
           {
            "colorbar": {
             "outlinewidth": 0,
             "ticks": ""
            },
            "type": "contourcarpet"
           }
          ],
          "heatmap": [
           {
            "colorbar": {
             "outlinewidth": 0,
             "ticks": ""
            },
            "colorscale": [
             [
              0,
              "#0d0887"
             ],
             [
              0.1111111111111111,
              "#46039f"
             ],
             [
              0.2222222222222222,
              "#7201a8"
             ],
             [
              0.3333333333333333,
              "#9c179e"
             ],
             [
              0.4444444444444444,
              "#bd3786"
             ],
             [
              0.5555555555555556,
              "#d8576b"
             ],
             [
              0.6666666666666666,
              "#ed7953"
             ],
             [
              0.7777777777777778,
              "#fb9f3a"
             ],
             [
              0.8888888888888888,
              "#fdca26"
             ],
             [
              1,
              "#f0f921"
             ]
            ],
            "type": "heatmap"
           }
          ],
          "heatmapgl": [
           {
            "colorbar": {
             "outlinewidth": 0,
             "ticks": ""
            },
            "colorscale": [
             [
              0,
              "#0d0887"
             ],
             [
              0.1111111111111111,
              "#46039f"
             ],
             [
              0.2222222222222222,
              "#7201a8"
             ],
             [
              0.3333333333333333,
              "#9c179e"
             ],
             [
              0.4444444444444444,
              "#bd3786"
             ],
             [
              0.5555555555555556,
              "#d8576b"
             ],
             [
              0.6666666666666666,
              "#ed7953"
             ],
             [
              0.7777777777777778,
              "#fb9f3a"
             ],
             [
              0.8888888888888888,
              "#fdca26"
             ],
             [
              1,
              "#f0f921"
             ]
            ],
            "type": "heatmapgl"
           }
          ],
          "histogram": [
           {
            "marker": {
             "colorbar": {
              "outlinewidth": 0,
              "ticks": ""
             }
            },
            "type": "histogram"
           }
          ],
          "histogram2d": [
           {
            "colorbar": {
             "outlinewidth": 0,
             "ticks": ""
            },
            "colorscale": [
             [
              0,
              "#0d0887"
             ],
             [
              0.1111111111111111,
              "#46039f"
             ],
             [
              0.2222222222222222,
              "#7201a8"
             ],
             [
              0.3333333333333333,
              "#9c179e"
             ],
             [
              0.4444444444444444,
              "#bd3786"
             ],
             [
              0.5555555555555556,
              "#d8576b"
             ],
             [
              0.6666666666666666,
              "#ed7953"
             ],
             [
              0.7777777777777778,
              "#fb9f3a"
             ],
             [
              0.8888888888888888,
              "#fdca26"
             ],
             [
              1,
              "#f0f921"
             ]
            ],
            "type": "histogram2d"
           }
          ],
          "histogram2dcontour": [
           {
            "colorbar": {
             "outlinewidth": 0,
             "ticks": ""
            },
            "colorscale": [
             [
              0,
              "#0d0887"
             ],
             [
              0.1111111111111111,
              "#46039f"
             ],
             [
              0.2222222222222222,
              "#7201a8"
             ],
             [
              0.3333333333333333,
              "#9c179e"
             ],
             [
              0.4444444444444444,
              "#bd3786"
             ],
             [
              0.5555555555555556,
              "#d8576b"
             ],
             [
              0.6666666666666666,
              "#ed7953"
             ],
             [
              0.7777777777777778,
              "#fb9f3a"
             ],
             [
              0.8888888888888888,
              "#fdca26"
             ],
             [
              1,
              "#f0f921"
             ]
            ],
            "type": "histogram2dcontour"
           }
          ],
          "mesh3d": [
           {
            "colorbar": {
             "outlinewidth": 0,
             "ticks": ""
            },
            "type": "mesh3d"
           }
          ],
          "parcoords": [
           {
            "line": {
             "colorbar": {
              "outlinewidth": 0,
              "ticks": ""
             }
            },
            "type": "parcoords"
           }
          ],
          "pie": [
           {
            "automargin": true,
            "type": "pie"
           }
          ],
          "scatter": [
           {
            "marker": {
             "colorbar": {
              "outlinewidth": 0,
              "ticks": ""
             }
            },
            "type": "scatter"
           }
          ],
          "scatter3d": [
           {
            "line": {
             "colorbar": {
              "outlinewidth": 0,
              "ticks": ""
             }
            },
            "marker": {
             "colorbar": {
              "outlinewidth": 0,
              "ticks": ""
             }
            },
            "type": "scatter3d"
           }
          ],
          "scattercarpet": [
           {
            "marker": {
             "colorbar": {
              "outlinewidth": 0,
              "ticks": ""
             }
            },
            "type": "scattercarpet"
           }
          ],
          "scattergeo": [
           {
            "marker": {
             "colorbar": {
              "outlinewidth": 0,
              "ticks": ""
             }
            },
            "type": "scattergeo"
           }
          ],
          "scattergl": [
           {
            "marker": {
             "colorbar": {
              "outlinewidth": 0,
              "ticks": ""
             }
            },
            "type": "scattergl"
           }
          ],
          "scattermapbox": [
           {
            "marker": {
             "colorbar": {
              "outlinewidth": 0,
              "ticks": ""
             }
            },
            "type": "scattermapbox"
           }
          ],
          "scatterpolar": [
           {
            "marker": {
             "colorbar": {
              "outlinewidth": 0,
              "ticks": ""
             }
            },
            "type": "scatterpolar"
           }
          ],
          "scatterpolargl": [
           {
            "marker": {
             "colorbar": {
              "outlinewidth": 0,
              "ticks": ""
             }
            },
            "type": "scatterpolargl"
           }
          ],
          "scatterternary": [
           {
            "marker": {
             "colorbar": {
              "outlinewidth": 0,
              "ticks": ""
             }
            },
            "type": "scatterternary"
           }
          ],
          "surface": [
           {
            "colorbar": {
             "outlinewidth": 0,
             "ticks": ""
            },
            "colorscale": [
             [
              0,
              "#0d0887"
             ],
             [
              0.1111111111111111,
              "#46039f"
             ],
             [
              0.2222222222222222,
              "#7201a8"
             ],
             [
              0.3333333333333333,
              "#9c179e"
             ],
             [
              0.4444444444444444,
              "#bd3786"
             ],
             [
              0.5555555555555556,
              "#d8576b"
             ],
             [
              0.6666666666666666,
              "#ed7953"
             ],
             [
              0.7777777777777778,
              "#fb9f3a"
             ],
             [
              0.8888888888888888,
              "#fdca26"
             ],
             [
              1,
              "#f0f921"
             ]
            ],
            "type": "surface"
           }
          ],
          "table": [
           {
            "cells": {
             "fill": {
              "color": "#EBF0F8"
             },
             "line": {
              "color": "white"
             }
            },
            "header": {
             "fill": {
              "color": "#C8D4E3"
             },
             "line": {
              "color": "white"
             }
            },
            "type": "table"
           }
          ]
         },
         "layout": {
          "annotationdefaults": {
           "arrowcolor": "#2a3f5f",
           "arrowhead": 0,
           "arrowwidth": 1
          },
          "coloraxis": {
           "colorbar": {
            "outlinewidth": 0,
            "ticks": ""
           }
          },
          "colorscale": {
           "diverging": [
            [
             0,
             "#8e0152"
            ],
            [
             0.1,
             "#c51b7d"
            ],
            [
             0.2,
             "#de77ae"
            ],
            [
             0.3,
             "#f1b6da"
            ],
            [
             0.4,
             "#fde0ef"
            ],
            [
             0.5,
             "#f7f7f7"
            ],
            [
             0.6,
             "#e6f5d0"
            ],
            [
             0.7,
             "#b8e186"
            ],
            [
             0.8,
             "#7fbc41"
            ],
            [
             0.9,
             "#4d9221"
            ],
            [
             1,
             "#276419"
            ]
           ],
           "sequential": [
            [
             0,
             "#0d0887"
            ],
            [
             0.1111111111111111,
             "#46039f"
            ],
            [
             0.2222222222222222,
             "#7201a8"
            ],
            [
             0.3333333333333333,
             "#9c179e"
            ],
            [
             0.4444444444444444,
             "#bd3786"
            ],
            [
             0.5555555555555556,
             "#d8576b"
            ],
            [
             0.6666666666666666,
             "#ed7953"
            ],
            [
             0.7777777777777778,
             "#fb9f3a"
            ],
            [
             0.8888888888888888,
             "#fdca26"
            ],
            [
             1,
             "#f0f921"
            ]
           ],
           "sequentialminus": [
            [
             0,
             "#0d0887"
            ],
            [
             0.1111111111111111,
             "#46039f"
            ],
            [
             0.2222222222222222,
             "#7201a8"
            ],
            [
             0.3333333333333333,
             "#9c179e"
            ],
            [
             0.4444444444444444,
             "#bd3786"
            ],
            [
             0.5555555555555556,
             "#d8576b"
            ],
            [
             0.6666666666666666,
             "#ed7953"
            ],
            [
             0.7777777777777778,
             "#fb9f3a"
            ],
            [
             0.8888888888888888,
             "#fdca26"
            ],
            [
             1,
             "#f0f921"
            ]
           ]
          },
          "colorway": [
           "#636efa",
           "#EF553B",
           "#00cc96",
           "#ab63fa",
           "#FFA15A",
           "#19d3f3",
           "#FF6692",
           "#B6E880",
           "#FF97FF",
           "#FECB52"
          ],
          "font": {
           "color": "#2a3f5f"
          },
          "geo": {
           "bgcolor": "white",
           "lakecolor": "white",
           "landcolor": "#E5ECF6",
           "showlakes": true,
           "showland": true,
           "subunitcolor": "white"
          },
          "hoverlabel": {
           "align": "left"
          },
          "hovermode": "closest",
          "mapbox": {
           "style": "light"
          },
          "paper_bgcolor": "white",
          "plot_bgcolor": "#E5ECF6",
          "polar": {
           "angularaxis": {
            "gridcolor": "white",
            "linecolor": "white",
            "ticks": ""
           },
           "bgcolor": "#E5ECF6",
           "radialaxis": {
            "gridcolor": "white",
            "linecolor": "white",
            "ticks": ""
           }
          },
          "scene": {
           "xaxis": {
            "backgroundcolor": "#E5ECF6",
            "gridcolor": "white",
            "gridwidth": 2,
            "linecolor": "white",
            "showbackground": true,
            "ticks": "",
            "zerolinecolor": "white"
           },
           "yaxis": {
            "backgroundcolor": "#E5ECF6",
            "gridcolor": "white",
            "gridwidth": 2,
            "linecolor": "white",
            "showbackground": true,
            "ticks": "",
            "zerolinecolor": "white"
           },
           "zaxis": {
            "backgroundcolor": "#E5ECF6",
            "gridcolor": "white",
            "gridwidth": 2,
            "linecolor": "white",
            "showbackground": true,
            "ticks": "",
            "zerolinecolor": "white"
           }
          },
          "shapedefaults": {
           "line": {
            "color": "#2a3f5f"
           }
          },
          "ternary": {
           "aaxis": {
            "gridcolor": "white",
            "linecolor": "white",
            "ticks": ""
           },
           "baxis": {
            "gridcolor": "white",
            "linecolor": "white",
            "ticks": ""
           },
           "bgcolor": "#E5ECF6",
           "caxis": {
            "gridcolor": "white",
            "linecolor": "white",
            "ticks": ""
           }
          },
          "title": {
           "x": 0.05
          },
          "xaxis": {
           "automargin": true,
           "gridcolor": "white",
           "linecolor": "white",
           "ticks": "",
           "title": {
            "standoff": 15
           },
           "zerolinecolor": "white",
           "zerolinewidth": 2
          },
          "yaxis": {
           "automargin": true,
           "gridcolor": "white",
           "linecolor": "white",
           "ticks": "",
           "title": {
            "standoff": 15
           },
           "zerolinecolor": "white",
           "zerolinewidth": 2
          }
         }
        },
        "xaxis": {
         "anchor": "y",
         "categoryarray": [
          "Cluster 0",
          "Cluster 1",
          "Cluster 2"
         ],
         "categoryorder": "array",
         "domain": [
          0,
          1
         ],
         "title": {
          "text": "Cluster"
         }
        },
        "xaxis2": {
         "anchor": "y2",
         "domain": [
          0,
          1
         ],
         "matches": "x",
         "showgrid": true,
         "showticklabels": false
        },
        "yaxis": {
         "anchor": "x",
         "domain": [
          0,
          0.7326
         ],
         "title": {
          "text": "count"
         }
        },
        "yaxis2": {
         "anchor": "x2",
         "domain": [
          0.7426,
          1
         ],
         "matches": "y2",
         "showgrid": false,
         "showline": false,
         "showticklabels": false,
         "ticks": ""
        }
       }
      },
      "text/html": [
       "<div>\n",
       "        \n",
       "        \n",
       "            <div id=\"8ef9de53-7dce-4cac-82c4-3422200e3a63\" class=\"plotly-graph-div\" style=\"height:525px; width:100%;\"></div>\n",
       "            <script type=\"text/javascript\">\n",
       "                require([\"plotly\"], function(Plotly) {\n",
       "                    window.PLOTLYENV=window.PLOTLYENV || {};\n",
       "                    \n",
       "                if (document.getElementById(\"8ef9de53-7dce-4cac-82c4-3422200e3a63\")) {\n",
       "                    Plotly.newPlot(\n",
       "                        '8ef9de53-7dce-4cac-82c4-3422200e3a63',\n",
       "                        [{\"alignmentgroup\": \"True\", \"bingroup\": \"x\", \"hoverlabel\": {\"namelength\": 0}, \"hovertemplate\": \"Cluster=%{x}<br>count=%{y}\", \"legendgroup\": \"Cluster=Cluster 0\", \"marker\": {\"color\": \"#636efa\", \"opacity\": 0.7}, \"name\": \"Cluster=Cluster 0\", \"offsetgroup\": \"Cluster=Cluster 0\", \"orientation\": \"v\", \"showlegend\": true, \"type\": \"histogram\", \"x\": [\"Cluster 0\", \"Cluster 0\", \"Cluster 0\", \"Cluster 0\", \"Cluster 0\", \"Cluster 0\", \"Cluster 0\", \"Cluster 0\", \"Cluster 0\", \"Cluster 0\", \"Cluster 0\", \"Cluster 0\", \"Cluster 0\", \"Cluster 0\", \"Cluster 0\", \"Cluster 0\", \"Cluster 0\", \"Cluster 0\", \"Cluster 0\", \"Cluster 0\", \"Cluster 0\", \"Cluster 0\", \"Cluster 0\", \"Cluster 0\", \"Cluster 0\", \"Cluster 0\", \"Cluster 0\", \"Cluster 0\", \"Cluster 0\", \"Cluster 0\", \"Cluster 0\", \"Cluster 0\", \"Cluster 0\", \"Cluster 0\", \"Cluster 0\", \"Cluster 0\"], \"xaxis\": \"x\", \"yaxis\": \"y\"}, {\"alignmentgroup\": \"True\", \"customdata\": [[109, \"Agnano Brito\", 52, 4, 3, \"Cluster 0\"], [86, \"Arnold Valenti\", 35, 2, 4, \"Cluster 0\"], [59, \"Victoria Holloway\", 42, 1, 3, \"Cluster 0\"], [84, \"Rajab Shammas\", 52, 3, 3, \"Cluster 0\"], [83, \"Kari Tran\", 21, 4, 3, \"Cluster 0\"], [32, \"Billie Stonge\", 26, 4, 3, \"Cluster 0\"], [80, \"Nickolas McLaughlin\", 20, 1, 3, \"Cluster 0\"], [34, \"Jeanne Vestergaard\", 57, 3, 5, \"Cluster 0\"], [35, \"Alaine Poisson\", 64, 1, 3, \"Cluster 0\"], [78, \"Rosie Reeves\", 46, 1, 5, \"Cluster 0\"], [76, \"Letha Walls\", 35, 1, 3, \"Cluster 0\"], [43, \"Rhonda Hughes\", 35, 2, 4, \"Cluster 0\"], [44, \"Linwood Guay\", 51, 1, 3, \"Cluster 0\"], [71, \"Jensigne Carlsen\", 60, 1, 4, \"Cluster 0\"], [70, \"Nelida Zamora\", 26, 1, 5, \"Cluster 0\"], [69, \"Germain Arenas\", 55, 2, 5, \"Cluster 0\"], [49, \"Joann Chambers\", 37, 3, 4, \"Cluster 0\"], [65, \"Rodrigo Romani\", 41, 1, 3, \"Cluster 0\"], [53, \"Jeanette Frandsen\", 46, 3, 3, \"Cluster 0\"], [63, \"Erembourg Ratte\", 41, 2, 3, \"Cluster 0\"], [88, \"Aisha Witt\", 51, 4, 3, \"Cluster 0\"], [24, \"Carlene O'Neill\", 24, 1, 3, \"Cluster 0\"], [85, \"Aaliyah Briggs\", 43, 4, 4, \"Cluster 0\"], [58, \"Giovanni Vera\", 58, 2, 3, \"Cluster 0\"], [8, \"Maya Steele\", 27, 4, 5, \"Cluster 0\"], [103, \"Viv Pichardo\", 39, 3, 5, \"Cluster 0\"], [5, \"Noreen Branch\", 51, 4, 3, \"Cluster 0\"], [101, \"Daisuke Nakayama\", 26, 1, 3, \"Cluster 0\"], [10, \"Niew Leekpai\", 63, 4, 3, \"Cluster 0\"], [16, \"Jeanie Sheppard\", 58, 4, 4, \"Cluster 0\"], [9, \"Dan Drayton\", 55, 3, 3, \"Cluster 0\"], [3, \"Kian Goddard\", 27, 4, 3, \"Cluster 0\"], [95, \"Abel Bevins\", 37, 2, 5, \"Cluster 0\"], [2, \"Francine Fischer\", 44, 4, 5, \"Cluster 0\"], [21, \"Carolos Lamy\", 65, 4, 4, \"Cluster 0\"], [17, \"Burnell Plourde\", 61, 4, 5, \"Cluster 0\"]], \"hoverlabel\": {\"namelength\": 0}, \"hovertemplate\": \"Cluster=%{customdata[5]}<br>CustomerID=%{customdata[0]}<br>Name=%{customdata[1]}<br>Age=%{customdata[2]}<br>AvgWeeklySales=%{customdata[3]}<br>AvgDrinks=%{customdata[4]}\", \"legendgroup\": \"Cluster=Cluster 0\", \"marker\": {\"color\": \"#636efa\"}, \"name\": \"Cluster=Cluster 0\", \"notched\": true, \"offsetgroup\": \"Cluster=Cluster 0\", \"showlegend\": false, \"type\": \"box\", \"x\": [\"Cluster 0\", \"Cluster 0\", \"Cluster 0\", \"Cluster 0\", \"Cluster 0\", \"Cluster 0\", \"Cluster 0\", \"Cluster 0\", \"Cluster 0\", \"Cluster 0\", \"Cluster 0\", \"Cluster 0\", \"Cluster 0\", \"Cluster 0\", \"Cluster 0\", \"Cluster 0\", \"Cluster 0\", \"Cluster 0\", \"Cluster 0\", \"Cluster 0\", \"Cluster 0\", \"Cluster 0\", \"Cluster 0\", \"Cluster 0\", \"Cluster 0\", \"Cluster 0\", \"Cluster 0\", \"Cluster 0\", \"Cluster 0\", \"Cluster 0\", \"Cluster 0\", \"Cluster 0\", \"Cluster 0\", \"Cluster 0\", \"Cluster 0\", \"Cluster 0\"], \"xaxis\": \"x2\", \"yaxis\": \"y2\"}, {\"alignmentgroup\": \"True\", \"bingroup\": \"x\", \"hoverlabel\": {\"namelength\": 0}, \"hovertemplate\": \"Cluster=%{x}<br>count=%{y}\", \"legendgroup\": \"Cluster=Cluster 1\", \"marker\": {\"color\": \"#EF553B\", \"opacity\": 0.7}, \"name\": \"Cluster=Cluster 1\", \"offsetgroup\": \"Cluster=Cluster 1\", \"orientation\": \"v\", \"showlegend\": true, \"type\": \"histogram\", \"x\": [\"Cluster 1\", \"Cluster 1\", \"Cluster 1\", \"Cluster 1\", \"Cluster 1\", \"Cluster 1\", \"Cluster 1\", \"Cluster 1\", \"Cluster 1\", \"Cluster 1\", \"Cluster 1\", \"Cluster 1\", \"Cluster 1\", \"Cluster 1\", \"Cluster 1\", \"Cluster 1\", \"Cluster 1\", \"Cluster 1\", \"Cluster 1\", \"Cluster 1\", \"Cluster 1\", \"Cluster 1\", \"Cluster 1\", \"Cluster 1\", \"Cluster 1\", \"Cluster 1\", \"Cluster 1\", \"Cluster 1\", \"Cluster 1\", \"Cluster 1\", \"Cluster 1\", \"Cluster 1\", \"Cluster 1\", \"Cluster 1\", \"Cluster 1\", \"Cluster 1\", \"Cluster 1\", \"Cluster 1\", \"Cluster 1\", \"Cluster 1\", \"Cluster 1\", \"Cluster 1\", \"Cluster 1\", \"Cluster 1\", \"Cluster 1\", \"Cluster 1\", \"Cluster 1\"], \"xaxis\": \"x\", \"yaxis\": \"y\"}, {\"alignmentgroup\": \"True\", \"customdata\": [[64, \"Nazzareno Piccio\", 8, 1, 1, \"Cluster 1\"], [66, \"Vaughn Oquendo\", 12, 3, 1, \"Cluster 1\"], [67, \"Jennifer Davey\", 7, 1, 1, \"Cluster 1\"], [62, \"Ireneo Piccio\", 9, 4, 1, \"Cluster 1\"], [105, \"Den Kojima\", 12, 2, 1, \"Cluster 1\"], [104, \"Fabio Jaramillo\", 10, 2, 1, \"Cluster 1\"], [61, \"Autumn Prince\", 25, 1, 1, \"Cluster 1\"], [107, \"Jeannette Kjaer\", 6, 2, 1, \"Cluster 1\"], [93, \"Jimmie Turman\", 15, 2, 1, \"Cluster 1\"], [92, \"Generosa Esposito\", 12, 3, 1, \"Cluster 1\"], [75, \"Erik Collado\", 15, 1, 1, \"Cluster 1\"], [77, \"Bellamy Garnier\", 13, 1, 1, \"Cluster 1\"], [102, \"Francesca Lombardi\", 11, 3, 1, \"Cluster 1\"], [79, \"Amalio Pizarro\", 13, 2, 1, \"Cluster 1\"], [98, \"Frederic Towle\", 5, 3, 1, \"Cluster 1\"], [97, \"Corinne Horn\", 27, 3, 1, \"Cluster 1\"], [96, \"Abdul-Alim Mikhail\", 15, 1, 1, \"Cluster 1\"], [94, \"Naomi Sharp\", 29, 4, 1, \"Cluster 1\"], [90, \"Vittoria Mancini\", 9, 1, 1, \"Cluster 1\"], [91, \"Adam Bjerregaard\", 9, 1, 1, \"Cluster 1\"], [72, \"Wade Munger\", 8, 4, 1, \"Cluster 1\"], [73, \"Demi Vadeboncoeur\", 18, 3, 5, \"Cluster 1\"], [1, \"Marva Cardenas\", 6, 2, 1, \"Cluster 1\"], [12, \"Naiyana Kunakorn\", 16, 2, 1, \"Cluster 1\"], [22, \"Rocco Yarborough\", 5, 1, 1, \"Cluster 1\"], [27, \"Sonia Harrison\", 7, 4, 1, \"Cluster 1\"], [20, \"Freda Conley\", 6, 4, 1, \"Cluster 1\"], [28, \"Roman Pilcher\", 15, 1, 1, \"Cluster 1\"], [19, \"Elwood McGee\", 11, 4, 1, \"Cluster 1\"], [15, \"Eleanor Bryan\", 6, 1, 1, \"Cluster 1\"], [14, \"Ansel Loiselle\", 17, 3, 1, \"Cluster 1\"], [33, \"Delmar Pelchat\", 25, 2, 1, \"Cluster 1\"], [37, \"Daitaro Ishida\", 12, 4, 1, \"Cluster 1\"], [39, \"Anthony Frizzell\", 6, 4, 1, \"Cluster 1\"], [23, \"Janna Gamble\", 7, 1, 1, \"Cluster 1\"], [41, \"Mara Rasmussen\", 25, 4, 1, \"Cluster 1\"], [25, \"Neandro Baeza\", 5, 2, 1, \"Cluster 1\"], [48, \"Jenny Norgaard\", 9, 1, 1, \"Cluster 1\"], [45, \"Margo Ayers\", 9, 4, 1, \"Cluster 1\"], [6, \"Brain Dulaney\", 28, 1, 1, \"Cluster 1\"], [56, \"Ethan Rincon\", 10, 1, 1, \"Cluster 1\"], [47, \"Margret Villarreal\", 9, 3, 1, \"Cluster 1\"], [108, \"Mayra Stephenson\", 6, 4, 1, \"Cluster 1\"], [4, \"Jibran Quraishi\", 6, 1, 1, \"Cluster 1\"], [52, \"Naowarat Kurusarttra\", 17, 2, 1, \"Cluster 1\"], [51, \"Victoria Gray\", 30, 2, 1, \"Cluster 1\"], [50, \"Abby Burris\", 7, 4, 1, \"Cluster 1\"]], \"hoverlabel\": {\"namelength\": 0}, \"hovertemplate\": \"Cluster=%{customdata[5]}<br>CustomerID=%{customdata[0]}<br>Name=%{customdata[1]}<br>Age=%{customdata[2]}<br>AvgWeeklySales=%{customdata[3]}<br>AvgDrinks=%{customdata[4]}\", \"legendgroup\": \"Cluster=Cluster 1\", \"marker\": {\"color\": \"#EF553B\"}, \"name\": \"Cluster=Cluster 1\", \"notched\": true, \"offsetgroup\": \"Cluster=Cluster 1\", \"showlegend\": false, \"type\": \"box\", \"x\": [\"Cluster 1\", \"Cluster 1\", \"Cluster 1\", \"Cluster 1\", \"Cluster 1\", \"Cluster 1\", \"Cluster 1\", \"Cluster 1\", \"Cluster 1\", \"Cluster 1\", \"Cluster 1\", \"Cluster 1\", \"Cluster 1\", \"Cluster 1\", \"Cluster 1\", \"Cluster 1\", \"Cluster 1\", \"Cluster 1\", \"Cluster 1\", \"Cluster 1\", \"Cluster 1\", \"Cluster 1\", \"Cluster 1\", \"Cluster 1\", \"Cluster 1\", \"Cluster 1\", \"Cluster 1\", \"Cluster 1\", \"Cluster 1\", \"Cluster 1\", \"Cluster 1\", \"Cluster 1\", \"Cluster 1\", \"Cluster 1\", \"Cluster 1\", \"Cluster 1\", \"Cluster 1\", \"Cluster 1\", \"Cluster 1\", \"Cluster 1\", \"Cluster 1\", \"Cluster 1\", \"Cluster 1\", \"Cluster 1\", \"Cluster 1\", \"Cluster 1\", \"Cluster 1\"], \"xaxis\": \"x2\", \"yaxis\": \"y2\"}, {\"alignmentgroup\": \"True\", \"bingroup\": \"x\", \"hoverlabel\": {\"namelength\": 0}, \"hovertemplate\": \"Cluster=%{x}<br>count=%{y}\", \"legendgroup\": \"Cluster=Cluster 2\", \"marker\": {\"color\": \"#00cc96\", \"opacity\": 0.7}, \"name\": \"Cluster=Cluster 2\", \"offsetgroup\": \"Cluster=Cluster 2\", \"orientation\": \"v\", \"showlegend\": true, \"type\": \"histogram\", \"x\": [\"Cluster 2\", \"Cluster 2\", \"Cluster 2\", \"Cluster 2\", \"Cluster 2\", \"Cluster 2\", \"Cluster 2\", \"Cluster 2\", \"Cluster 2\", \"Cluster 2\", \"Cluster 2\", \"Cluster 2\", \"Cluster 2\", \"Cluster 2\", \"Cluster 2\", \"Cluster 2\", \"Cluster 2\", \"Cluster 2\", \"Cluster 2\", \"Cluster 2\", \"Cluster 2\", \"Cluster 2\", \"Cluster 2\", \"Cluster 2\", \"Cluster 2\", \"Cluster 2\"], \"xaxis\": \"x\", \"yaxis\": \"y\"}, {\"alignmentgroup\": \"True\", \"customdata\": [[11, \"Vinicio Robles\", 51, 3, 1, \"Cluster 2\"], [7, \"Armen Romo\", 46, 2, 1, \"Cluster 2\"], [99, \"Dwayne Passmore\", 53, 3, 1, \"Cluster 2\"], [106, \"Sheldon Comeaux\", 60, 3, 1, \"Cluster 2\"], [100, \"Gordon Fredrickson\", 58, 2, 1, \"Cluster 2\"], [13, \"Gerson Toro\", 34, 4, 1, \"Cluster 2\"], [18, \"Consuelo Navarro\", 54, 2, 1, \"Cluster 2\"], [60, \"Lucas Sondergaard\", 33, 1, 1, \"Cluster 2\"], [30, \"Zachary Parsons\", 65, 3, 1, \"Cluster 2\"], [89, \"Zachary Fellows\", 39, 1, 1, \"Cluster 2\"], [54, \"Pedro Fielder\", 38, 3, 1, \"Cluster 2\"], [68, \"Joshua Murphy\", 52, 1, 1, \"Cluster 2\"], [46, \"Abbi Byrne\", 54, 3, 1, \"Cluster 2\"], [42, \"Lonnie Schindler\", 58, 4, 1, \"Cluster 2\"], [74, \"Carey Merrill\", 63, 1, 1, \"Cluster 2\"], [40, \"Chad Corbitt\", 61, 1, 1, \"Cluster 2\"], [26, \"Patrick Lorenzen\", 55, 4, 1, \"Cluster 2\"], [38, \"Nicholas Rose\", 60, 2, 1, \"Cluster 2\"], [81, \"Modesto Cab\\u00e1n\", 37, 4, 1, \"Cluster 2\"], [82, \"Holly Franklin\", 59, 1, 1, \"Cluster 2\"], [31, \"Deanna Ball\", 54, 2, 1, \"Cluster 2\"], [57, \"Thaddeus Danforth\", 32, 2, 1, \"Cluster 2\"], [29, \"Vicky Erickson\", 46, 1, 1, \"Cluster 2\"], [87, \"Adam Brooks\", 63, 3, 1, \"Cluster 2\"], [36, \"Sophia Garner\", 39, 1, 1, \"Cluster 2\"], [55, \"Iselda Bahena\", 59, 4, 1, \"Cluster 2\"]], \"hoverlabel\": {\"namelength\": 0}, \"hovertemplate\": \"Cluster=%{customdata[5]}<br>CustomerID=%{customdata[0]}<br>Name=%{customdata[1]}<br>Age=%{customdata[2]}<br>AvgWeeklySales=%{customdata[3]}<br>AvgDrinks=%{customdata[4]}\", \"legendgroup\": \"Cluster=Cluster 2\", \"marker\": {\"color\": \"#00cc96\"}, \"name\": \"Cluster=Cluster 2\", \"notched\": true, \"offsetgroup\": \"Cluster=Cluster 2\", \"showlegend\": false, \"type\": \"box\", \"x\": [\"Cluster 2\", \"Cluster 2\", \"Cluster 2\", \"Cluster 2\", \"Cluster 2\", \"Cluster 2\", \"Cluster 2\", \"Cluster 2\", \"Cluster 2\", \"Cluster 2\", \"Cluster 2\", \"Cluster 2\", \"Cluster 2\", \"Cluster 2\", \"Cluster 2\", \"Cluster 2\", \"Cluster 2\", \"Cluster 2\", \"Cluster 2\", \"Cluster 2\", \"Cluster 2\", \"Cluster 2\", \"Cluster 2\", \"Cluster 2\", \"Cluster 2\", \"Cluster 2\"], \"xaxis\": \"x2\", \"yaxis\": \"y2\"}],\n",
       "                        {\"barmode\": \"relative\", \"legend\": {\"tracegroupgap\": 0}, \"margin\": {\"t\": 60}, \"template\": {\"data\": {\"bar\": [{\"error_x\": {\"color\": \"#2a3f5f\"}, \"error_y\": {\"color\": \"#2a3f5f\"}, \"marker\": {\"line\": {\"color\": \"#E5ECF6\", \"width\": 0.5}}, \"type\": \"bar\"}], \"barpolar\": [{\"marker\": {\"line\": {\"color\": \"#E5ECF6\", \"width\": 0.5}}, \"type\": \"barpolar\"}], \"carpet\": [{\"aaxis\": {\"endlinecolor\": \"#2a3f5f\", \"gridcolor\": \"white\", \"linecolor\": \"white\", \"minorgridcolor\": \"white\", \"startlinecolor\": \"#2a3f5f\"}, \"baxis\": {\"endlinecolor\": \"#2a3f5f\", \"gridcolor\": \"white\", \"linecolor\": \"white\", \"minorgridcolor\": \"white\", \"startlinecolor\": \"#2a3f5f\"}, \"type\": \"carpet\"}], \"choropleth\": [{\"colorbar\": {\"outlinewidth\": 0, \"ticks\": \"\"}, \"type\": \"choropleth\"}], \"contour\": [{\"colorbar\": {\"outlinewidth\": 0, \"ticks\": \"\"}, \"colorscale\": [[0.0, \"#0d0887\"], [0.1111111111111111, \"#46039f\"], [0.2222222222222222, \"#7201a8\"], [0.3333333333333333, \"#9c179e\"], [0.4444444444444444, \"#bd3786\"], [0.5555555555555556, \"#d8576b\"], [0.6666666666666666, \"#ed7953\"], [0.7777777777777778, \"#fb9f3a\"], [0.8888888888888888, \"#fdca26\"], [1.0, \"#f0f921\"]], \"type\": \"contour\"}], \"contourcarpet\": [{\"colorbar\": {\"outlinewidth\": 0, \"ticks\": \"\"}, \"type\": \"contourcarpet\"}], \"heatmap\": [{\"colorbar\": {\"outlinewidth\": 0, \"ticks\": \"\"}, \"colorscale\": [[0.0, \"#0d0887\"], [0.1111111111111111, \"#46039f\"], [0.2222222222222222, \"#7201a8\"], [0.3333333333333333, \"#9c179e\"], [0.4444444444444444, \"#bd3786\"], [0.5555555555555556, \"#d8576b\"], [0.6666666666666666, \"#ed7953\"], [0.7777777777777778, \"#fb9f3a\"], [0.8888888888888888, \"#fdca26\"], [1.0, \"#f0f921\"]], \"type\": \"heatmap\"}], \"heatmapgl\": [{\"colorbar\": {\"outlinewidth\": 0, \"ticks\": \"\"}, \"colorscale\": [[0.0, \"#0d0887\"], [0.1111111111111111, \"#46039f\"], [0.2222222222222222, \"#7201a8\"], [0.3333333333333333, \"#9c179e\"], [0.4444444444444444, \"#bd3786\"], [0.5555555555555556, \"#d8576b\"], [0.6666666666666666, \"#ed7953\"], [0.7777777777777778, \"#fb9f3a\"], [0.8888888888888888, \"#fdca26\"], [1.0, \"#f0f921\"]], \"type\": \"heatmapgl\"}], \"histogram\": [{\"marker\": {\"colorbar\": {\"outlinewidth\": 0, \"ticks\": \"\"}}, \"type\": \"histogram\"}], \"histogram2d\": [{\"colorbar\": {\"outlinewidth\": 0, \"ticks\": \"\"}, \"colorscale\": [[0.0, \"#0d0887\"], [0.1111111111111111, \"#46039f\"], [0.2222222222222222, \"#7201a8\"], [0.3333333333333333, \"#9c179e\"], [0.4444444444444444, \"#bd3786\"], [0.5555555555555556, \"#d8576b\"], [0.6666666666666666, \"#ed7953\"], [0.7777777777777778, \"#fb9f3a\"], [0.8888888888888888, \"#fdca26\"], [1.0, \"#f0f921\"]], \"type\": \"histogram2d\"}], \"histogram2dcontour\": [{\"colorbar\": {\"outlinewidth\": 0, \"ticks\": \"\"}, \"colorscale\": [[0.0, \"#0d0887\"], [0.1111111111111111, \"#46039f\"], [0.2222222222222222, \"#7201a8\"], [0.3333333333333333, \"#9c179e\"], [0.4444444444444444, \"#bd3786\"], [0.5555555555555556, \"#d8576b\"], [0.6666666666666666, \"#ed7953\"], [0.7777777777777778, \"#fb9f3a\"], [0.8888888888888888, \"#fdca26\"], [1.0, \"#f0f921\"]], \"type\": \"histogram2dcontour\"}], \"mesh3d\": [{\"colorbar\": {\"outlinewidth\": 0, \"ticks\": \"\"}, \"type\": \"mesh3d\"}], \"parcoords\": [{\"line\": {\"colorbar\": {\"outlinewidth\": 0, \"ticks\": \"\"}}, \"type\": \"parcoords\"}], \"pie\": [{\"automargin\": true, \"type\": \"pie\"}], \"scatter\": [{\"marker\": {\"colorbar\": {\"outlinewidth\": 0, \"ticks\": \"\"}}, \"type\": \"scatter\"}], \"scatter3d\": [{\"line\": {\"colorbar\": {\"outlinewidth\": 0, \"ticks\": \"\"}}, \"marker\": {\"colorbar\": {\"outlinewidth\": 0, \"ticks\": \"\"}}, \"type\": \"scatter3d\"}], \"scattercarpet\": [{\"marker\": {\"colorbar\": {\"outlinewidth\": 0, \"ticks\": \"\"}}, \"type\": \"scattercarpet\"}], \"scattergeo\": [{\"marker\": {\"colorbar\": {\"outlinewidth\": 0, \"ticks\": \"\"}}, \"type\": \"scattergeo\"}], \"scattergl\": [{\"marker\": {\"colorbar\": {\"outlinewidth\": 0, \"ticks\": \"\"}}, \"type\": \"scattergl\"}], \"scattermapbox\": [{\"marker\": {\"colorbar\": {\"outlinewidth\": 0, \"ticks\": \"\"}}, \"type\": \"scattermapbox\"}], \"scatterpolar\": [{\"marker\": {\"colorbar\": {\"outlinewidth\": 0, \"ticks\": \"\"}}, \"type\": \"scatterpolar\"}], \"scatterpolargl\": [{\"marker\": {\"colorbar\": {\"outlinewidth\": 0, \"ticks\": \"\"}}, \"type\": \"scatterpolargl\"}], \"scatterternary\": [{\"marker\": {\"colorbar\": {\"outlinewidth\": 0, \"ticks\": \"\"}}, \"type\": \"scatterternary\"}], \"surface\": [{\"colorbar\": {\"outlinewidth\": 0, \"ticks\": \"\"}, \"colorscale\": [[0.0, \"#0d0887\"], [0.1111111111111111, \"#46039f\"], [0.2222222222222222, \"#7201a8\"], [0.3333333333333333, \"#9c179e\"], [0.4444444444444444, \"#bd3786\"], [0.5555555555555556, \"#d8576b\"], [0.6666666666666666, \"#ed7953\"], [0.7777777777777778, \"#fb9f3a\"], [0.8888888888888888, \"#fdca26\"], [1.0, \"#f0f921\"]], \"type\": \"surface\"}], \"table\": [{\"cells\": {\"fill\": {\"color\": \"#EBF0F8\"}, \"line\": {\"color\": \"white\"}}, \"header\": {\"fill\": {\"color\": \"#C8D4E3\"}, \"line\": {\"color\": \"white\"}}, \"type\": \"table\"}]}, \"layout\": {\"annotationdefaults\": {\"arrowcolor\": \"#2a3f5f\", \"arrowhead\": 0, \"arrowwidth\": 1}, \"coloraxis\": {\"colorbar\": {\"outlinewidth\": 0, \"ticks\": \"\"}}, \"colorscale\": {\"diverging\": [[0, \"#8e0152\"], [0.1, \"#c51b7d\"], [0.2, \"#de77ae\"], [0.3, \"#f1b6da\"], [0.4, \"#fde0ef\"], [0.5, \"#f7f7f7\"], [0.6, \"#e6f5d0\"], [0.7, \"#b8e186\"], [0.8, \"#7fbc41\"], [0.9, \"#4d9221\"], [1, \"#276419\"]], \"sequential\": [[0.0, \"#0d0887\"], [0.1111111111111111, \"#46039f\"], [0.2222222222222222, \"#7201a8\"], [0.3333333333333333, \"#9c179e\"], [0.4444444444444444, \"#bd3786\"], [0.5555555555555556, \"#d8576b\"], [0.6666666666666666, \"#ed7953\"], [0.7777777777777778, \"#fb9f3a\"], [0.8888888888888888, \"#fdca26\"], [1.0, \"#f0f921\"]], \"sequentialminus\": [[0.0, \"#0d0887\"], [0.1111111111111111, \"#46039f\"], [0.2222222222222222, \"#7201a8\"], [0.3333333333333333, \"#9c179e\"], [0.4444444444444444, \"#bd3786\"], [0.5555555555555556, \"#d8576b\"], [0.6666666666666666, \"#ed7953\"], [0.7777777777777778, \"#fb9f3a\"], [0.8888888888888888, \"#fdca26\"], [1.0, \"#f0f921\"]]}, \"colorway\": [\"#636efa\", \"#EF553B\", \"#00cc96\", \"#ab63fa\", \"#FFA15A\", \"#19d3f3\", \"#FF6692\", \"#B6E880\", \"#FF97FF\", \"#FECB52\"], \"font\": {\"color\": \"#2a3f5f\"}, \"geo\": {\"bgcolor\": \"white\", \"lakecolor\": \"white\", \"landcolor\": \"#E5ECF6\", \"showlakes\": true, \"showland\": true, \"subunitcolor\": \"white\"}, \"hoverlabel\": {\"align\": \"left\"}, \"hovermode\": \"closest\", \"mapbox\": {\"style\": \"light\"}, \"paper_bgcolor\": \"white\", \"plot_bgcolor\": \"#E5ECF6\", \"polar\": {\"angularaxis\": {\"gridcolor\": \"white\", \"linecolor\": \"white\", \"ticks\": \"\"}, \"bgcolor\": \"#E5ECF6\", \"radialaxis\": {\"gridcolor\": \"white\", \"linecolor\": \"white\", \"ticks\": \"\"}}, \"scene\": {\"xaxis\": {\"backgroundcolor\": \"#E5ECF6\", \"gridcolor\": \"white\", \"gridwidth\": 2, \"linecolor\": \"white\", \"showbackground\": true, \"ticks\": \"\", \"zerolinecolor\": \"white\"}, \"yaxis\": {\"backgroundcolor\": \"#E5ECF6\", \"gridcolor\": \"white\", \"gridwidth\": 2, \"linecolor\": \"white\", \"showbackground\": true, \"ticks\": \"\", \"zerolinecolor\": \"white\"}, \"zaxis\": {\"backgroundcolor\": \"#E5ECF6\", \"gridcolor\": \"white\", \"gridwidth\": 2, \"linecolor\": \"white\", \"showbackground\": true, \"ticks\": \"\", \"zerolinecolor\": \"white\"}}, \"shapedefaults\": {\"line\": {\"color\": \"#2a3f5f\"}}, \"ternary\": {\"aaxis\": {\"gridcolor\": \"white\", \"linecolor\": \"white\", \"ticks\": \"\"}, \"baxis\": {\"gridcolor\": \"white\", \"linecolor\": \"white\", \"ticks\": \"\"}, \"bgcolor\": \"#E5ECF6\", \"caxis\": {\"gridcolor\": \"white\", \"linecolor\": \"white\", \"ticks\": \"\"}}, \"title\": {\"x\": 0.05}, \"xaxis\": {\"automargin\": true, \"gridcolor\": \"white\", \"linecolor\": \"white\", \"ticks\": \"\", \"title\": {\"standoff\": 15}, \"zerolinecolor\": \"white\", \"zerolinewidth\": 2}, \"yaxis\": {\"automargin\": true, \"gridcolor\": \"white\", \"linecolor\": \"white\", \"ticks\": \"\", \"title\": {\"standoff\": 15}, \"zerolinecolor\": \"white\", \"zerolinewidth\": 2}}}, \"xaxis\": {\"anchor\": \"y\", \"categoryarray\": [\"Cluster 0\", \"Cluster 1\", \"Cluster 2\"], \"categoryorder\": \"array\", \"domain\": [0.0, 1.0], \"title\": {\"text\": \"Cluster\"}}, \"xaxis2\": {\"anchor\": \"y2\", \"domain\": [0.0, 1.0], \"matches\": \"x\", \"showgrid\": true, \"showticklabels\": false}, \"yaxis\": {\"anchor\": \"x\", \"domain\": [0.0, 0.7326], \"title\": {\"text\": \"count\"}}, \"yaxis2\": {\"anchor\": \"x2\", \"domain\": [0.7426, 1.0], \"matches\": \"y2\", \"showgrid\": false, \"showline\": false, \"showticklabels\": false, \"ticks\": \"\"}},\n",
       "                        {\"responsive\": true}\n",
       "                    ).then(function(){\n",
       "                            \n",
       "var gd = document.getElementById('8ef9de53-7dce-4cac-82c4-3422200e3a63');\n",
       "var x = new MutationObserver(function (mutations, observer) {{\n",
       "        var display = window.getComputedStyle(gd).display;\n",
       "        if (!display || display === 'none') {{\n",
       "            console.log([gd, 'removed!']);\n",
       "            Plotly.purge(gd);\n",
       "            observer.disconnect();\n",
       "        }}\n",
       "}});\n",
       "\n",
       "// Listen for the removal of the full notebook cells\n",
       "var notebookContainer = gd.closest('#notebook-container');\n",
       "if (notebookContainer) {{\n",
       "    x.observe(notebookContainer, {childList: true});\n",
       "}}\n",
       "\n",
       "// Listen for the clearing of the current output cell\n",
       "var outputEl = gd.closest('.output');\n",
       "if (outputEl) {{\n",
       "    x.observe(outputEl, {childList: true});\n",
       "}}\n",
       "\n",
       "                        })\n",
       "                };\n",
       "                });\n",
       "            </script>\n",
       "        </div>"
      ]
     },
     "metadata": {},
     "output_type": "display_data"
    }
   ],
   "source": [
    "plot_model(kmeans, plot = 'distribution')"
   ]
  },
  {
   "cell_type": "code",
   "execution_count": 13,
   "metadata": {},
   "outputs": [
    {
     "data": {
      "text/html": [
       "        <script type=\"text/javascript\">\n",
       "        window.PlotlyConfig = {MathJaxConfig: 'local'};\n",
       "        if (window.MathJax) {MathJax.Hub.Config({SVG: {font: \"STIX-Web\"}});}\n",
       "        if (typeof require !== 'undefined') {\n",
       "        require.undef(\"plotly\");\n",
       "        requirejs.config({\n",
       "            paths: {\n",
       "                'plotly': ['https://cdn.plot.ly/plotly-latest.min']\n",
       "            }\n",
       "        });\n",
       "        require(['plotly'], function(Plotly) {\n",
       "            window._Plotly = Plotly;\n",
       "        });\n",
       "        }\n",
       "        </script>\n",
       "        "
      ]
     },
     "metadata": {},
     "output_type": "display_data"
    },
    {
     "data": {
      "application/vnd.plotly.v1+json": {
       "config": {
        "plotlyServerURL": "https://plot.ly"
       },
       "data": [
        {
         "alignmentgroup": "True",
         "bingroup": "x",
         "hoverlabel": {
          "namelength": 0
         },
         "hovertemplate": "Cluster=Cluster 0<br>Name=%{x}<br>count=%{y}",
         "legendgroup": "Cluster=Cluster 0",
         "marker": {
          "color": "#636efa",
          "opacity": 0.7
         },
         "name": "Cluster=Cluster 0",
         "offsetgroup": "Cluster=Cluster 0",
         "orientation": "v",
         "showlegend": true,
         "type": "histogram",
         "x": [
          "Agnano Brito",
          "Arnold Valenti",
          "Victoria Holloway",
          "Rajab Shammas",
          "Kari Tran",
          "Billie Stonge",
          "Nickolas McLaughlin",
          "Jeanne Vestergaard",
          "Alaine Poisson",
          "Rosie Reeves",
          "Letha Walls",
          "Rhonda Hughes",
          "Linwood Guay",
          "Jensigne Carlsen",
          "Nelida Zamora",
          "Germain Arenas",
          "Joann Chambers",
          "Rodrigo Romani",
          "Jeanette Frandsen",
          "Erembourg Ratte",
          "Aisha Witt",
          "Carlene O'Neill",
          "Aaliyah Briggs",
          "Giovanni Vera",
          "Maya Steele",
          "Viv Pichardo",
          "Noreen Branch",
          "Daisuke Nakayama",
          "Niew Leekpai",
          "Jeanie Sheppard",
          "Dan Drayton",
          "Kian Goddard",
          "Abel Bevins",
          "Francine Fischer",
          "Carolos Lamy",
          "Burnell Plourde"
         ],
         "xaxis": "x",
         "yaxis": "y"
        },
        {
         "alignmentgroup": "True",
         "customdata": [
          [
           109,
           "Agnano Brito",
           52,
           4,
           3,
           "Cluster 0"
          ],
          [
           86,
           "Arnold Valenti",
           35,
           2,
           4,
           "Cluster 0"
          ],
          [
           59,
           "Victoria Holloway",
           42,
           1,
           3,
           "Cluster 0"
          ],
          [
           84,
           "Rajab Shammas",
           52,
           3,
           3,
           "Cluster 0"
          ],
          [
           83,
           "Kari Tran",
           21,
           4,
           3,
           "Cluster 0"
          ],
          [
           32,
           "Billie Stonge",
           26,
           4,
           3,
           "Cluster 0"
          ],
          [
           80,
           "Nickolas McLaughlin",
           20,
           1,
           3,
           "Cluster 0"
          ],
          [
           34,
           "Jeanne Vestergaard",
           57,
           3,
           5,
           "Cluster 0"
          ],
          [
           35,
           "Alaine Poisson",
           64,
           1,
           3,
           "Cluster 0"
          ],
          [
           78,
           "Rosie Reeves",
           46,
           1,
           5,
           "Cluster 0"
          ],
          [
           76,
           "Letha Walls",
           35,
           1,
           3,
           "Cluster 0"
          ],
          [
           43,
           "Rhonda Hughes",
           35,
           2,
           4,
           "Cluster 0"
          ],
          [
           44,
           "Linwood Guay",
           51,
           1,
           3,
           "Cluster 0"
          ],
          [
           71,
           "Jensigne Carlsen",
           60,
           1,
           4,
           "Cluster 0"
          ],
          [
           70,
           "Nelida Zamora",
           26,
           1,
           5,
           "Cluster 0"
          ],
          [
           69,
           "Germain Arenas",
           55,
           2,
           5,
           "Cluster 0"
          ],
          [
           49,
           "Joann Chambers",
           37,
           3,
           4,
           "Cluster 0"
          ],
          [
           65,
           "Rodrigo Romani",
           41,
           1,
           3,
           "Cluster 0"
          ],
          [
           53,
           "Jeanette Frandsen",
           46,
           3,
           3,
           "Cluster 0"
          ],
          [
           63,
           "Erembourg Ratte",
           41,
           2,
           3,
           "Cluster 0"
          ],
          [
           88,
           "Aisha Witt",
           51,
           4,
           3,
           "Cluster 0"
          ],
          [
           24,
           "Carlene O'Neill",
           24,
           1,
           3,
           "Cluster 0"
          ],
          [
           85,
           "Aaliyah Briggs",
           43,
           4,
           4,
           "Cluster 0"
          ],
          [
           58,
           "Giovanni Vera",
           58,
           2,
           3,
           "Cluster 0"
          ],
          [
           8,
           "Maya Steele",
           27,
           4,
           5,
           "Cluster 0"
          ],
          [
           103,
           "Viv Pichardo",
           39,
           3,
           5,
           "Cluster 0"
          ],
          [
           5,
           "Noreen Branch",
           51,
           4,
           3,
           "Cluster 0"
          ],
          [
           101,
           "Daisuke Nakayama",
           26,
           1,
           3,
           "Cluster 0"
          ],
          [
           10,
           "Niew Leekpai",
           63,
           4,
           3,
           "Cluster 0"
          ],
          [
           16,
           "Jeanie Sheppard",
           58,
           4,
           4,
           "Cluster 0"
          ],
          [
           9,
           "Dan Drayton",
           55,
           3,
           3,
           "Cluster 0"
          ],
          [
           3,
           "Kian Goddard",
           27,
           4,
           3,
           "Cluster 0"
          ],
          [
           95,
           "Abel Bevins",
           37,
           2,
           5,
           "Cluster 0"
          ],
          [
           2,
           "Francine Fischer",
           44,
           4,
           5,
           "Cluster 0"
          ],
          [
           21,
           "Carolos Lamy",
           65,
           4,
           4,
           "Cluster 0"
          ],
          [
           17,
           "Burnell Plourde",
           61,
           4,
           5,
           "Cluster 0"
          ]
         ],
         "hoverlabel": {
          "namelength": 0
         },
         "hovertemplate": "Cluster=%{customdata[5]}<br>Name=%{customdata[1]}<br>CustomerID=%{customdata[0]}<br>Age=%{customdata[2]}<br>AvgWeeklySales=%{customdata[3]}<br>AvgDrinks=%{customdata[4]}",
         "legendgroup": "Cluster=Cluster 0",
         "marker": {
          "color": "#636efa"
         },
         "name": "Cluster=Cluster 0",
         "notched": true,
         "offsetgroup": "Cluster=Cluster 0",
         "showlegend": false,
         "type": "box",
         "x": [
          "Agnano Brito",
          "Arnold Valenti",
          "Victoria Holloway",
          "Rajab Shammas",
          "Kari Tran",
          "Billie Stonge",
          "Nickolas McLaughlin",
          "Jeanne Vestergaard",
          "Alaine Poisson",
          "Rosie Reeves",
          "Letha Walls",
          "Rhonda Hughes",
          "Linwood Guay",
          "Jensigne Carlsen",
          "Nelida Zamora",
          "Germain Arenas",
          "Joann Chambers",
          "Rodrigo Romani",
          "Jeanette Frandsen",
          "Erembourg Ratte",
          "Aisha Witt",
          "Carlene O'Neill",
          "Aaliyah Briggs",
          "Giovanni Vera",
          "Maya Steele",
          "Viv Pichardo",
          "Noreen Branch",
          "Daisuke Nakayama",
          "Niew Leekpai",
          "Jeanie Sheppard",
          "Dan Drayton",
          "Kian Goddard",
          "Abel Bevins",
          "Francine Fischer",
          "Carolos Lamy",
          "Burnell Plourde"
         ],
         "xaxis": "x2",
         "yaxis": "y2"
        },
        {
         "alignmentgroup": "True",
         "bingroup": "x",
         "hoverlabel": {
          "namelength": 0
         },
         "hovertemplate": "Cluster=Cluster 1<br>Name=%{x}<br>count=%{y}",
         "legendgroup": "Cluster=Cluster 1",
         "marker": {
          "color": "#EF553B",
          "opacity": 0.7
         },
         "name": "Cluster=Cluster 1",
         "offsetgroup": "Cluster=Cluster 1",
         "orientation": "v",
         "showlegend": true,
         "type": "histogram",
         "x": [
          "Nazzareno Piccio",
          "Vaughn Oquendo",
          "Jennifer Davey",
          "Ireneo Piccio",
          "Den Kojima",
          "Fabio Jaramillo",
          "Autumn Prince",
          "Jeannette Kjaer",
          "Jimmie Turman",
          "Generosa Esposito",
          "Erik Collado",
          "Bellamy Garnier",
          "Francesca Lombardi",
          "Amalio Pizarro",
          "Frederic Towle",
          "Corinne Horn",
          "Abdul-Alim Mikhail",
          "Naomi Sharp",
          "Vittoria Mancini",
          "Adam Bjerregaard",
          "Wade Munger",
          "Demi Vadeboncoeur",
          "Marva Cardenas",
          "Naiyana Kunakorn",
          "Rocco Yarborough",
          "Sonia Harrison",
          "Freda Conley",
          "Roman Pilcher",
          "Elwood McGee",
          "Eleanor Bryan",
          "Ansel Loiselle",
          "Delmar Pelchat",
          "Daitaro Ishida",
          "Anthony Frizzell",
          "Janna Gamble",
          "Mara Rasmussen",
          "Neandro Baeza",
          "Jenny Norgaard",
          "Margo Ayers",
          "Brain Dulaney",
          "Ethan Rincon",
          "Margret Villarreal",
          "Mayra Stephenson",
          "Jibran Quraishi",
          "Naowarat Kurusarttra",
          "Victoria Gray",
          "Abby Burris"
         ],
         "xaxis": "x",
         "yaxis": "y"
        },
        {
         "alignmentgroup": "True",
         "customdata": [
          [
           64,
           "Nazzareno Piccio",
           8,
           1,
           1,
           "Cluster 1"
          ],
          [
           66,
           "Vaughn Oquendo",
           12,
           3,
           1,
           "Cluster 1"
          ],
          [
           67,
           "Jennifer Davey",
           7,
           1,
           1,
           "Cluster 1"
          ],
          [
           62,
           "Ireneo Piccio",
           9,
           4,
           1,
           "Cluster 1"
          ],
          [
           105,
           "Den Kojima",
           12,
           2,
           1,
           "Cluster 1"
          ],
          [
           104,
           "Fabio Jaramillo",
           10,
           2,
           1,
           "Cluster 1"
          ],
          [
           61,
           "Autumn Prince",
           25,
           1,
           1,
           "Cluster 1"
          ],
          [
           107,
           "Jeannette Kjaer",
           6,
           2,
           1,
           "Cluster 1"
          ],
          [
           93,
           "Jimmie Turman",
           15,
           2,
           1,
           "Cluster 1"
          ],
          [
           92,
           "Generosa Esposito",
           12,
           3,
           1,
           "Cluster 1"
          ],
          [
           75,
           "Erik Collado",
           15,
           1,
           1,
           "Cluster 1"
          ],
          [
           77,
           "Bellamy Garnier",
           13,
           1,
           1,
           "Cluster 1"
          ],
          [
           102,
           "Francesca Lombardi",
           11,
           3,
           1,
           "Cluster 1"
          ],
          [
           79,
           "Amalio Pizarro",
           13,
           2,
           1,
           "Cluster 1"
          ],
          [
           98,
           "Frederic Towle",
           5,
           3,
           1,
           "Cluster 1"
          ],
          [
           97,
           "Corinne Horn",
           27,
           3,
           1,
           "Cluster 1"
          ],
          [
           96,
           "Abdul-Alim Mikhail",
           15,
           1,
           1,
           "Cluster 1"
          ],
          [
           94,
           "Naomi Sharp",
           29,
           4,
           1,
           "Cluster 1"
          ],
          [
           90,
           "Vittoria Mancini",
           9,
           1,
           1,
           "Cluster 1"
          ],
          [
           91,
           "Adam Bjerregaard",
           9,
           1,
           1,
           "Cluster 1"
          ],
          [
           72,
           "Wade Munger",
           8,
           4,
           1,
           "Cluster 1"
          ],
          [
           73,
           "Demi Vadeboncoeur",
           18,
           3,
           5,
           "Cluster 1"
          ],
          [
           1,
           "Marva Cardenas",
           6,
           2,
           1,
           "Cluster 1"
          ],
          [
           12,
           "Naiyana Kunakorn",
           16,
           2,
           1,
           "Cluster 1"
          ],
          [
           22,
           "Rocco Yarborough",
           5,
           1,
           1,
           "Cluster 1"
          ],
          [
           27,
           "Sonia Harrison",
           7,
           4,
           1,
           "Cluster 1"
          ],
          [
           20,
           "Freda Conley",
           6,
           4,
           1,
           "Cluster 1"
          ],
          [
           28,
           "Roman Pilcher",
           15,
           1,
           1,
           "Cluster 1"
          ],
          [
           19,
           "Elwood McGee",
           11,
           4,
           1,
           "Cluster 1"
          ],
          [
           15,
           "Eleanor Bryan",
           6,
           1,
           1,
           "Cluster 1"
          ],
          [
           14,
           "Ansel Loiselle",
           17,
           3,
           1,
           "Cluster 1"
          ],
          [
           33,
           "Delmar Pelchat",
           25,
           2,
           1,
           "Cluster 1"
          ],
          [
           37,
           "Daitaro Ishida",
           12,
           4,
           1,
           "Cluster 1"
          ],
          [
           39,
           "Anthony Frizzell",
           6,
           4,
           1,
           "Cluster 1"
          ],
          [
           23,
           "Janna Gamble",
           7,
           1,
           1,
           "Cluster 1"
          ],
          [
           41,
           "Mara Rasmussen",
           25,
           4,
           1,
           "Cluster 1"
          ],
          [
           25,
           "Neandro Baeza",
           5,
           2,
           1,
           "Cluster 1"
          ],
          [
           48,
           "Jenny Norgaard",
           9,
           1,
           1,
           "Cluster 1"
          ],
          [
           45,
           "Margo Ayers",
           9,
           4,
           1,
           "Cluster 1"
          ],
          [
           6,
           "Brain Dulaney",
           28,
           1,
           1,
           "Cluster 1"
          ],
          [
           56,
           "Ethan Rincon",
           10,
           1,
           1,
           "Cluster 1"
          ],
          [
           47,
           "Margret Villarreal",
           9,
           3,
           1,
           "Cluster 1"
          ],
          [
           108,
           "Mayra Stephenson",
           6,
           4,
           1,
           "Cluster 1"
          ],
          [
           4,
           "Jibran Quraishi",
           6,
           1,
           1,
           "Cluster 1"
          ],
          [
           52,
           "Naowarat Kurusarttra",
           17,
           2,
           1,
           "Cluster 1"
          ],
          [
           51,
           "Victoria Gray",
           30,
           2,
           1,
           "Cluster 1"
          ],
          [
           50,
           "Abby Burris",
           7,
           4,
           1,
           "Cluster 1"
          ]
         ],
         "hoverlabel": {
          "namelength": 0
         },
         "hovertemplate": "Cluster=%{customdata[5]}<br>Name=%{customdata[1]}<br>CustomerID=%{customdata[0]}<br>Age=%{customdata[2]}<br>AvgWeeklySales=%{customdata[3]}<br>AvgDrinks=%{customdata[4]}",
         "legendgroup": "Cluster=Cluster 1",
         "marker": {
          "color": "#EF553B"
         },
         "name": "Cluster=Cluster 1",
         "notched": true,
         "offsetgroup": "Cluster=Cluster 1",
         "showlegend": false,
         "type": "box",
         "x": [
          "Nazzareno Piccio",
          "Vaughn Oquendo",
          "Jennifer Davey",
          "Ireneo Piccio",
          "Den Kojima",
          "Fabio Jaramillo",
          "Autumn Prince",
          "Jeannette Kjaer",
          "Jimmie Turman",
          "Generosa Esposito",
          "Erik Collado",
          "Bellamy Garnier",
          "Francesca Lombardi",
          "Amalio Pizarro",
          "Frederic Towle",
          "Corinne Horn",
          "Abdul-Alim Mikhail",
          "Naomi Sharp",
          "Vittoria Mancini",
          "Adam Bjerregaard",
          "Wade Munger",
          "Demi Vadeboncoeur",
          "Marva Cardenas",
          "Naiyana Kunakorn",
          "Rocco Yarborough",
          "Sonia Harrison",
          "Freda Conley",
          "Roman Pilcher",
          "Elwood McGee",
          "Eleanor Bryan",
          "Ansel Loiselle",
          "Delmar Pelchat",
          "Daitaro Ishida",
          "Anthony Frizzell",
          "Janna Gamble",
          "Mara Rasmussen",
          "Neandro Baeza",
          "Jenny Norgaard",
          "Margo Ayers",
          "Brain Dulaney",
          "Ethan Rincon",
          "Margret Villarreal",
          "Mayra Stephenson",
          "Jibran Quraishi",
          "Naowarat Kurusarttra",
          "Victoria Gray",
          "Abby Burris"
         ],
         "xaxis": "x2",
         "yaxis": "y2"
        },
        {
         "alignmentgroup": "True",
         "bingroup": "x",
         "hoverlabel": {
          "namelength": 0
         },
         "hovertemplate": "Cluster=Cluster 2<br>Name=%{x}<br>count=%{y}",
         "legendgroup": "Cluster=Cluster 2",
         "marker": {
          "color": "#00cc96",
          "opacity": 0.7
         },
         "name": "Cluster=Cluster 2",
         "offsetgroup": "Cluster=Cluster 2",
         "orientation": "v",
         "showlegend": true,
         "type": "histogram",
         "x": [
          "Vinicio Robles",
          "Armen Romo",
          "Dwayne Passmore",
          "Sheldon Comeaux",
          "Gordon Fredrickson",
          "Gerson Toro",
          "Consuelo Navarro",
          "Lucas Sondergaard",
          "Zachary Parsons",
          "Zachary Fellows",
          "Pedro Fielder",
          "Joshua Murphy",
          "Abbi Byrne",
          "Lonnie Schindler",
          "Carey Merrill",
          "Chad Corbitt",
          "Patrick Lorenzen",
          "Nicholas Rose",
          "Modesto Cabán",
          "Holly Franklin",
          "Deanna Ball",
          "Thaddeus Danforth",
          "Vicky Erickson",
          "Adam Brooks",
          "Sophia Garner",
          "Iselda Bahena"
         ],
         "xaxis": "x",
         "yaxis": "y"
        },
        {
         "alignmentgroup": "True",
         "customdata": [
          [
           11,
           "Vinicio Robles",
           51,
           3,
           1,
           "Cluster 2"
          ],
          [
           7,
           "Armen Romo",
           46,
           2,
           1,
           "Cluster 2"
          ],
          [
           99,
           "Dwayne Passmore",
           53,
           3,
           1,
           "Cluster 2"
          ],
          [
           106,
           "Sheldon Comeaux",
           60,
           3,
           1,
           "Cluster 2"
          ],
          [
           100,
           "Gordon Fredrickson",
           58,
           2,
           1,
           "Cluster 2"
          ],
          [
           13,
           "Gerson Toro",
           34,
           4,
           1,
           "Cluster 2"
          ],
          [
           18,
           "Consuelo Navarro",
           54,
           2,
           1,
           "Cluster 2"
          ],
          [
           60,
           "Lucas Sondergaard",
           33,
           1,
           1,
           "Cluster 2"
          ],
          [
           30,
           "Zachary Parsons",
           65,
           3,
           1,
           "Cluster 2"
          ],
          [
           89,
           "Zachary Fellows",
           39,
           1,
           1,
           "Cluster 2"
          ],
          [
           54,
           "Pedro Fielder",
           38,
           3,
           1,
           "Cluster 2"
          ],
          [
           68,
           "Joshua Murphy",
           52,
           1,
           1,
           "Cluster 2"
          ],
          [
           46,
           "Abbi Byrne",
           54,
           3,
           1,
           "Cluster 2"
          ],
          [
           42,
           "Lonnie Schindler",
           58,
           4,
           1,
           "Cluster 2"
          ],
          [
           74,
           "Carey Merrill",
           63,
           1,
           1,
           "Cluster 2"
          ],
          [
           40,
           "Chad Corbitt",
           61,
           1,
           1,
           "Cluster 2"
          ],
          [
           26,
           "Patrick Lorenzen",
           55,
           4,
           1,
           "Cluster 2"
          ],
          [
           38,
           "Nicholas Rose",
           60,
           2,
           1,
           "Cluster 2"
          ],
          [
           81,
           "Modesto Cabán",
           37,
           4,
           1,
           "Cluster 2"
          ],
          [
           82,
           "Holly Franklin",
           59,
           1,
           1,
           "Cluster 2"
          ],
          [
           31,
           "Deanna Ball",
           54,
           2,
           1,
           "Cluster 2"
          ],
          [
           57,
           "Thaddeus Danforth",
           32,
           2,
           1,
           "Cluster 2"
          ],
          [
           29,
           "Vicky Erickson",
           46,
           1,
           1,
           "Cluster 2"
          ],
          [
           87,
           "Adam Brooks",
           63,
           3,
           1,
           "Cluster 2"
          ],
          [
           36,
           "Sophia Garner",
           39,
           1,
           1,
           "Cluster 2"
          ],
          [
           55,
           "Iselda Bahena",
           59,
           4,
           1,
           "Cluster 2"
          ]
         ],
         "hoverlabel": {
          "namelength": 0
         },
         "hovertemplate": "Cluster=%{customdata[5]}<br>Name=%{customdata[1]}<br>CustomerID=%{customdata[0]}<br>Age=%{customdata[2]}<br>AvgWeeklySales=%{customdata[3]}<br>AvgDrinks=%{customdata[4]}",
         "legendgroup": "Cluster=Cluster 2",
         "marker": {
          "color": "#00cc96"
         },
         "name": "Cluster=Cluster 2",
         "notched": true,
         "offsetgroup": "Cluster=Cluster 2",
         "showlegend": false,
         "type": "box",
         "x": [
          "Vinicio Robles",
          "Armen Romo",
          "Dwayne Passmore",
          "Sheldon Comeaux",
          "Gordon Fredrickson",
          "Gerson Toro",
          "Consuelo Navarro",
          "Lucas Sondergaard",
          "Zachary Parsons",
          "Zachary Fellows",
          "Pedro Fielder",
          "Joshua Murphy",
          "Abbi Byrne",
          "Lonnie Schindler",
          "Carey Merrill",
          "Chad Corbitt",
          "Patrick Lorenzen",
          "Nicholas Rose",
          "Modesto Cabán",
          "Holly Franklin",
          "Deanna Ball",
          "Thaddeus Danforth",
          "Vicky Erickson",
          "Adam Brooks",
          "Sophia Garner",
          "Iselda Bahena"
         ],
         "xaxis": "x2",
         "yaxis": "y2"
        }
       ],
       "layout": {
        "barmode": "relative",
        "legend": {
         "tracegroupgap": 0
        },
        "margin": {
         "t": 60
        },
        "template": {
         "data": {
          "bar": [
           {
            "error_x": {
             "color": "#2a3f5f"
            },
            "error_y": {
             "color": "#2a3f5f"
            },
            "marker": {
             "line": {
              "color": "#E5ECF6",
              "width": 0.5
             }
            },
            "type": "bar"
           }
          ],
          "barpolar": [
           {
            "marker": {
             "line": {
              "color": "#E5ECF6",
              "width": 0.5
             }
            },
            "type": "barpolar"
           }
          ],
          "carpet": [
           {
            "aaxis": {
             "endlinecolor": "#2a3f5f",
             "gridcolor": "white",
             "linecolor": "white",
             "minorgridcolor": "white",
             "startlinecolor": "#2a3f5f"
            },
            "baxis": {
             "endlinecolor": "#2a3f5f",
             "gridcolor": "white",
             "linecolor": "white",
             "minorgridcolor": "white",
             "startlinecolor": "#2a3f5f"
            },
            "type": "carpet"
           }
          ],
          "choropleth": [
           {
            "colorbar": {
             "outlinewidth": 0,
             "ticks": ""
            },
            "type": "choropleth"
           }
          ],
          "contour": [
           {
            "colorbar": {
             "outlinewidth": 0,
             "ticks": ""
            },
            "colorscale": [
             [
              0,
              "#0d0887"
             ],
             [
              0.1111111111111111,
              "#46039f"
             ],
             [
              0.2222222222222222,
              "#7201a8"
             ],
             [
              0.3333333333333333,
              "#9c179e"
             ],
             [
              0.4444444444444444,
              "#bd3786"
             ],
             [
              0.5555555555555556,
              "#d8576b"
             ],
             [
              0.6666666666666666,
              "#ed7953"
             ],
             [
              0.7777777777777778,
              "#fb9f3a"
             ],
             [
              0.8888888888888888,
              "#fdca26"
             ],
             [
              1,
              "#f0f921"
             ]
            ],
            "type": "contour"
           }
          ],
          "contourcarpet": [
           {
            "colorbar": {
             "outlinewidth": 0,
             "ticks": ""
            },
            "type": "contourcarpet"
           }
          ],
          "heatmap": [
           {
            "colorbar": {
             "outlinewidth": 0,
             "ticks": ""
            },
            "colorscale": [
             [
              0,
              "#0d0887"
             ],
             [
              0.1111111111111111,
              "#46039f"
             ],
             [
              0.2222222222222222,
              "#7201a8"
             ],
             [
              0.3333333333333333,
              "#9c179e"
             ],
             [
              0.4444444444444444,
              "#bd3786"
             ],
             [
              0.5555555555555556,
              "#d8576b"
             ],
             [
              0.6666666666666666,
              "#ed7953"
             ],
             [
              0.7777777777777778,
              "#fb9f3a"
             ],
             [
              0.8888888888888888,
              "#fdca26"
             ],
             [
              1,
              "#f0f921"
             ]
            ],
            "type": "heatmap"
           }
          ],
          "heatmapgl": [
           {
            "colorbar": {
             "outlinewidth": 0,
             "ticks": ""
            },
            "colorscale": [
             [
              0,
              "#0d0887"
             ],
             [
              0.1111111111111111,
              "#46039f"
             ],
             [
              0.2222222222222222,
              "#7201a8"
             ],
             [
              0.3333333333333333,
              "#9c179e"
             ],
             [
              0.4444444444444444,
              "#bd3786"
             ],
             [
              0.5555555555555556,
              "#d8576b"
             ],
             [
              0.6666666666666666,
              "#ed7953"
             ],
             [
              0.7777777777777778,
              "#fb9f3a"
             ],
             [
              0.8888888888888888,
              "#fdca26"
             ],
             [
              1,
              "#f0f921"
             ]
            ],
            "type": "heatmapgl"
           }
          ],
          "histogram": [
           {
            "marker": {
             "colorbar": {
              "outlinewidth": 0,
              "ticks": ""
             }
            },
            "type": "histogram"
           }
          ],
          "histogram2d": [
           {
            "colorbar": {
             "outlinewidth": 0,
             "ticks": ""
            },
            "colorscale": [
             [
              0,
              "#0d0887"
             ],
             [
              0.1111111111111111,
              "#46039f"
             ],
             [
              0.2222222222222222,
              "#7201a8"
             ],
             [
              0.3333333333333333,
              "#9c179e"
             ],
             [
              0.4444444444444444,
              "#bd3786"
             ],
             [
              0.5555555555555556,
              "#d8576b"
             ],
             [
              0.6666666666666666,
              "#ed7953"
             ],
             [
              0.7777777777777778,
              "#fb9f3a"
             ],
             [
              0.8888888888888888,
              "#fdca26"
             ],
             [
              1,
              "#f0f921"
             ]
            ],
            "type": "histogram2d"
           }
          ],
          "histogram2dcontour": [
           {
            "colorbar": {
             "outlinewidth": 0,
             "ticks": ""
            },
            "colorscale": [
             [
              0,
              "#0d0887"
             ],
             [
              0.1111111111111111,
              "#46039f"
             ],
             [
              0.2222222222222222,
              "#7201a8"
             ],
             [
              0.3333333333333333,
              "#9c179e"
             ],
             [
              0.4444444444444444,
              "#bd3786"
             ],
             [
              0.5555555555555556,
              "#d8576b"
             ],
             [
              0.6666666666666666,
              "#ed7953"
             ],
             [
              0.7777777777777778,
              "#fb9f3a"
             ],
             [
              0.8888888888888888,
              "#fdca26"
             ],
             [
              1,
              "#f0f921"
             ]
            ],
            "type": "histogram2dcontour"
           }
          ],
          "mesh3d": [
           {
            "colorbar": {
             "outlinewidth": 0,
             "ticks": ""
            },
            "type": "mesh3d"
           }
          ],
          "parcoords": [
           {
            "line": {
             "colorbar": {
              "outlinewidth": 0,
              "ticks": ""
             }
            },
            "type": "parcoords"
           }
          ],
          "pie": [
           {
            "automargin": true,
            "type": "pie"
           }
          ],
          "scatter": [
           {
            "marker": {
             "colorbar": {
              "outlinewidth": 0,
              "ticks": ""
             }
            },
            "type": "scatter"
           }
          ],
          "scatter3d": [
           {
            "line": {
             "colorbar": {
              "outlinewidth": 0,
              "ticks": ""
             }
            },
            "marker": {
             "colorbar": {
              "outlinewidth": 0,
              "ticks": ""
             }
            },
            "type": "scatter3d"
           }
          ],
          "scattercarpet": [
           {
            "marker": {
             "colorbar": {
              "outlinewidth": 0,
              "ticks": ""
             }
            },
            "type": "scattercarpet"
           }
          ],
          "scattergeo": [
           {
            "marker": {
             "colorbar": {
              "outlinewidth": 0,
              "ticks": ""
             }
            },
            "type": "scattergeo"
           }
          ],
          "scattergl": [
           {
            "marker": {
             "colorbar": {
              "outlinewidth": 0,
              "ticks": ""
             }
            },
            "type": "scattergl"
           }
          ],
          "scattermapbox": [
           {
            "marker": {
             "colorbar": {
              "outlinewidth": 0,
              "ticks": ""
             }
            },
            "type": "scattermapbox"
           }
          ],
          "scatterpolar": [
           {
            "marker": {
             "colorbar": {
              "outlinewidth": 0,
              "ticks": ""
             }
            },
            "type": "scatterpolar"
           }
          ],
          "scatterpolargl": [
           {
            "marker": {
             "colorbar": {
              "outlinewidth": 0,
              "ticks": ""
             }
            },
            "type": "scatterpolargl"
           }
          ],
          "scatterternary": [
           {
            "marker": {
             "colorbar": {
              "outlinewidth": 0,
              "ticks": ""
             }
            },
            "type": "scatterternary"
           }
          ],
          "surface": [
           {
            "colorbar": {
             "outlinewidth": 0,
             "ticks": ""
            },
            "colorscale": [
             [
              0,
              "#0d0887"
             ],
             [
              0.1111111111111111,
              "#46039f"
             ],
             [
              0.2222222222222222,
              "#7201a8"
             ],
             [
              0.3333333333333333,
              "#9c179e"
             ],
             [
              0.4444444444444444,
              "#bd3786"
             ],
             [
              0.5555555555555556,
              "#d8576b"
             ],
             [
              0.6666666666666666,
              "#ed7953"
             ],
             [
              0.7777777777777778,
              "#fb9f3a"
             ],
             [
              0.8888888888888888,
              "#fdca26"
             ],
             [
              1,
              "#f0f921"
             ]
            ],
            "type": "surface"
           }
          ],
          "table": [
           {
            "cells": {
             "fill": {
              "color": "#EBF0F8"
             },
             "line": {
              "color": "white"
             }
            },
            "header": {
             "fill": {
              "color": "#C8D4E3"
             },
             "line": {
              "color": "white"
             }
            },
            "type": "table"
           }
          ]
         },
         "layout": {
          "annotationdefaults": {
           "arrowcolor": "#2a3f5f",
           "arrowhead": 0,
           "arrowwidth": 1
          },
          "coloraxis": {
           "colorbar": {
            "outlinewidth": 0,
            "ticks": ""
           }
          },
          "colorscale": {
           "diverging": [
            [
             0,
             "#8e0152"
            ],
            [
             0.1,
             "#c51b7d"
            ],
            [
             0.2,
             "#de77ae"
            ],
            [
             0.3,
             "#f1b6da"
            ],
            [
             0.4,
             "#fde0ef"
            ],
            [
             0.5,
             "#f7f7f7"
            ],
            [
             0.6,
             "#e6f5d0"
            ],
            [
             0.7,
             "#b8e186"
            ],
            [
             0.8,
             "#7fbc41"
            ],
            [
             0.9,
             "#4d9221"
            ],
            [
             1,
             "#276419"
            ]
           ],
           "sequential": [
            [
             0,
             "#0d0887"
            ],
            [
             0.1111111111111111,
             "#46039f"
            ],
            [
             0.2222222222222222,
             "#7201a8"
            ],
            [
             0.3333333333333333,
             "#9c179e"
            ],
            [
             0.4444444444444444,
             "#bd3786"
            ],
            [
             0.5555555555555556,
             "#d8576b"
            ],
            [
             0.6666666666666666,
             "#ed7953"
            ],
            [
             0.7777777777777778,
             "#fb9f3a"
            ],
            [
             0.8888888888888888,
             "#fdca26"
            ],
            [
             1,
             "#f0f921"
            ]
           ],
           "sequentialminus": [
            [
             0,
             "#0d0887"
            ],
            [
             0.1111111111111111,
             "#46039f"
            ],
            [
             0.2222222222222222,
             "#7201a8"
            ],
            [
             0.3333333333333333,
             "#9c179e"
            ],
            [
             0.4444444444444444,
             "#bd3786"
            ],
            [
             0.5555555555555556,
             "#d8576b"
            ],
            [
             0.6666666666666666,
             "#ed7953"
            ],
            [
             0.7777777777777778,
             "#fb9f3a"
            ],
            [
             0.8888888888888888,
             "#fdca26"
            ],
            [
             1,
             "#f0f921"
            ]
           ]
          },
          "colorway": [
           "#636efa",
           "#EF553B",
           "#00cc96",
           "#ab63fa",
           "#FFA15A",
           "#19d3f3",
           "#FF6692",
           "#B6E880",
           "#FF97FF",
           "#FECB52"
          ],
          "font": {
           "color": "#2a3f5f"
          },
          "geo": {
           "bgcolor": "white",
           "lakecolor": "white",
           "landcolor": "#E5ECF6",
           "showlakes": true,
           "showland": true,
           "subunitcolor": "white"
          },
          "hoverlabel": {
           "align": "left"
          },
          "hovermode": "closest",
          "mapbox": {
           "style": "light"
          },
          "paper_bgcolor": "white",
          "plot_bgcolor": "#E5ECF6",
          "polar": {
           "angularaxis": {
            "gridcolor": "white",
            "linecolor": "white",
            "ticks": ""
           },
           "bgcolor": "#E5ECF6",
           "radialaxis": {
            "gridcolor": "white",
            "linecolor": "white",
            "ticks": ""
           }
          },
          "scene": {
           "xaxis": {
            "backgroundcolor": "#E5ECF6",
            "gridcolor": "white",
            "gridwidth": 2,
            "linecolor": "white",
            "showbackground": true,
            "ticks": "",
            "zerolinecolor": "white"
           },
           "yaxis": {
            "backgroundcolor": "#E5ECF6",
            "gridcolor": "white",
            "gridwidth": 2,
            "linecolor": "white",
            "showbackground": true,
            "ticks": "",
            "zerolinecolor": "white"
           },
           "zaxis": {
            "backgroundcolor": "#E5ECF6",
            "gridcolor": "white",
            "gridwidth": 2,
            "linecolor": "white",
            "showbackground": true,
            "ticks": "",
            "zerolinecolor": "white"
           }
          },
          "shapedefaults": {
           "line": {
            "color": "#2a3f5f"
           }
          },
          "ternary": {
           "aaxis": {
            "gridcolor": "white",
            "linecolor": "white",
            "ticks": ""
           },
           "baxis": {
            "gridcolor": "white",
            "linecolor": "white",
            "ticks": ""
           },
           "bgcolor": "#E5ECF6",
           "caxis": {
            "gridcolor": "white",
            "linecolor": "white",
            "ticks": ""
           }
          },
          "title": {
           "x": 0.05
          },
          "xaxis": {
           "automargin": true,
           "gridcolor": "white",
           "linecolor": "white",
           "ticks": "",
           "title": {
            "standoff": 15
           },
           "zerolinecolor": "white",
           "zerolinewidth": 2
          },
          "yaxis": {
           "automargin": true,
           "gridcolor": "white",
           "linecolor": "white",
           "ticks": "",
           "title": {
            "standoff": 15
           },
           "zerolinecolor": "white",
           "zerolinewidth": 2
          }
         }
        },
        "xaxis": {
         "anchor": "y",
         "domain": [
          0,
          1
         ],
         "title": {
          "text": "Name"
         }
        },
        "xaxis2": {
         "anchor": "y2",
         "domain": [
          0,
          1
         ],
         "matches": "x",
         "showgrid": true,
         "showticklabels": false
        },
        "yaxis": {
         "anchor": "x",
         "domain": [
          0,
          0.7326
         ],
         "title": {
          "text": "count"
         }
        },
        "yaxis2": {
         "anchor": "x2",
         "domain": [
          0.7426,
          1
         ],
         "matches": "y2",
         "showgrid": false,
         "showline": false,
         "showticklabels": false,
         "ticks": ""
        }
       }
      },
      "text/html": [
       "<div>\n",
       "        \n",
       "        \n",
       "            <div id=\"13620f5f-7411-4dd0-a839-5a356aabb2b4\" class=\"plotly-graph-div\" style=\"height:525px; width:100%;\"></div>\n",
       "            <script type=\"text/javascript\">\n",
       "                require([\"plotly\"], function(Plotly) {\n",
       "                    window.PLOTLYENV=window.PLOTLYENV || {};\n",
       "                    \n",
       "                if (document.getElementById(\"13620f5f-7411-4dd0-a839-5a356aabb2b4\")) {\n",
       "                    Plotly.newPlot(\n",
       "                        '13620f5f-7411-4dd0-a839-5a356aabb2b4',\n",
       "                        [{\"alignmentgroup\": \"True\", \"bingroup\": \"x\", \"hoverlabel\": {\"namelength\": 0}, \"hovertemplate\": \"Cluster=Cluster 0<br>Name=%{x}<br>count=%{y}\", \"legendgroup\": \"Cluster=Cluster 0\", \"marker\": {\"color\": \"#636efa\", \"opacity\": 0.7}, \"name\": \"Cluster=Cluster 0\", \"offsetgroup\": \"Cluster=Cluster 0\", \"orientation\": \"v\", \"showlegend\": true, \"type\": \"histogram\", \"x\": [\"Agnano Brito\", \"Arnold Valenti\", \"Victoria Holloway\", \"Rajab Shammas\", \"Kari Tran\", \"Billie Stonge\", \"Nickolas McLaughlin\", \"Jeanne Vestergaard\", \"Alaine Poisson\", \"Rosie Reeves\", \"Letha Walls\", \"Rhonda Hughes\", \"Linwood Guay\", \"Jensigne Carlsen\", \"Nelida Zamora\", \"Germain Arenas\", \"Joann Chambers\", \"Rodrigo Romani\", \"Jeanette Frandsen\", \"Erembourg Ratte\", \"Aisha Witt\", \"Carlene O'Neill\", \"Aaliyah Briggs\", \"Giovanni Vera\", \"Maya Steele\", \"Viv Pichardo\", \"Noreen Branch\", \"Daisuke Nakayama\", \"Niew Leekpai\", \"Jeanie Sheppard\", \"Dan Drayton\", \"Kian Goddard\", \"Abel Bevins\", \"Francine Fischer\", \"Carolos Lamy\", \"Burnell Plourde\"], \"xaxis\": \"x\", \"yaxis\": \"y\"}, {\"alignmentgroup\": \"True\", \"customdata\": [[109, \"Agnano Brito\", 52, 4, 3, \"Cluster 0\"], [86, \"Arnold Valenti\", 35, 2, 4, \"Cluster 0\"], [59, \"Victoria Holloway\", 42, 1, 3, \"Cluster 0\"], [84, \"Rajab Shammas\", 52, 3, 3, \"Cluster 0\"], [83, \"Kari Tran\", 21, 4, 3, \"Cluster 0\"], [32, \"Billie Stonge\", 26, 4, 3, \"Cluster 0\"], [80, \"Nickolas McLaughlin\", 20, 1, 3, \"Cluster 0\"], [34, \"Jeanne Vestergaard\", 57, 3, 5, \"Cluster 0\"], [35, \"Alaine Poisson\", 64, 1, 3, \"Cluster 0\"], [78, \"Rosie Reeves\", 46, 1, 5, \"Cluster 0\"], [76, \"Letha Walls\", 35, 1, 3, \"Cluster 0\"], [43, \"Rhonda Hughes\", 35, 2, 4, \"Cluster 0\"], [44, \"Linwood Guay\", 51, 1, 3, \"Cluster 0\"], [71, \"Jensigne Carlsen\", 60, 1, 4, \"Cluster 0\"], [70, \"Nelida Zamora\", 26, 1, 5, \"Cluster 0\"], [69, \"Germain Arenas\", 55, 2, 5, \"Cluster 0\"], [49, \"Joann Chambers\", 37, 3, 4, \"Cluster 0\"], [65, \"Rodrigo Romani\", 41, 1, 3, \"Cluster 0\"], [53, \"Jeanette Frandsen\", 46, 3, 3, \"Cluster 0\"], [63, \"Erembourg Ratte\", 41, 2, 3, \"Cluster 0\"], [88, \"Aisha Witt\", 51, 4, 3, \"Cluster 0\"], [24, \"Carlene O'Neill\", 24, 1, 3, \"Cluster 0\"], [85, \"Aaliyah Briggs\", 43, 4, 4, \"Cluster 0\"], [58, \"Giovanni Vera\", 58, 2, 3, \"Cluster 0\"], [8, \"Maya Steele\", 27, 4, 5, \"Cluster 0\"], [103, \"Viv Pichardo\", 39, 3, 5, \"Cluster 0\"], [5, \"Noreen Branch\", 51, 4, 3, \"Cluster 0\"], [101, \"Daisuke Nakayama\", 26, 1, 3, \"Cluster 0\"], [10, \"Niew Leekpai\", 63, 4, 3, \"Cluster 0\"], [16, \"Jeanie Sheppard\", 58, 4, 4, \"Cluster 0\"], [9, \"Dan Drayton\", 55, 3, 3, \"Cluster 0\"], [3, \"Kian Goddard\", 27, 4, 3, \"Cluster 0\"], [95, \"Abel Bevins\", 37, 2, 5, \"Cluster 0\"], [2, \"Francine Fischer\", 44, 4, 5, \"Cluster 0\"], [21, \"Carolos Lamy\", 65, 4, 4, \"Cluster 0\"], [17, \"Burnell Plourde\", 61, 4, 5, \"Cluster 0\"]], \"hoverlabel\": {\"namelength\": 0}, \"hovertemplate\": \"Cluster=%{customdata[5]}<br>Name=%{customdata[1]}<br>CustomerID=%{customdata[0]}<br>Age=%{customdata[2]}<br>AvgWeeklySales=%{customdata[3]}<br>AvgDrinks=%{customdata[4]}\", \"legendgroup\": \"Cluster=Cluster 0\", \"marker\": {\"color\": \"#636efa\"}, \"name\": \"Cluster=Cluster 0\", \"notched\": true, \"offsetgroup\": \"Cluster=Cluster 0\", \"showlegend\": false, \"type\": \"box\", \"x\": [\"Agnano Brito\", \"Arnold Valenti\", \"Victoria Holloway\", \"Rajab Shammas\", \"Kari Tran\", \"Billie Stonge\", \"Nickolas McLaughlin\", \"Jeanne Vestergaard\", \"Alaine Poisson\", \"Rosie Reeves\", \"Letha Walls\", \"Rhonda Hughes\", \"Linwood Guay\", \"Jensigne Carlsen\", \"Nelida Zamora\", \"Germain Arenas\", \"Joann Chambers\", \"Rodrigo Romani\", \"Jeanette Frandsen\", \"Erembourg Ratte\", \"Aisha Witt\", \"Carlene O'Neill\", \"Aaliyah Briggs\", \"Giovanni Vera\", \"Maya Steele\", \"Viv Pichardo\", \"Noreen Branch\", \"Daisuke Nakayama\", \"Niew Leekpai\", \"Jeanie Sheppard\", \"Dan Drayton\", \"Kian Goddard\", \"Abel Bevins\", \"Francine Fischer\", \"Carolos Lamy\", \"Burnell Plourde\"], \"xaxis\": \"x2\", \"yaxis\": \"y2\"}, {\"alignmentgroup\": \"True\", \"bingroup\": \"x\", \"hoverlabel\": {\"namelength\": 0}, \"hovertemplate\": \"Cluster=Cluster 1<br>Name=%{x}<br>count=%{y}\", \"legendgroup\": \"Cluster=Cluster 1\", \"marker\": {\"color\": \"#EF553B\", \"opacity\": 0.7}, \"name\": \"Cluster=Cluster 1\", \"offsetgroup\": \"Cluster=Cluster 1\", \"orientation\": \"v\", \"showlegend\": true, \"type\": \"histogram\", \"x\": [\"Nazzareno Piccio\", \"Vaughn Oquendo\", \"Jennifer Davey\", \"Ireneo Piccio\", \"Den Kojima\", \"Fabio Jaramillo\", \"Autumn Prince\", \"Jeannette Kjaer\", \"Jimmie Turman\", \"Generosa Esposito\", \"Erik Collado\", \"Bellamy Garnier\", \"Francesca Lombardi\", \"Amalio Pizarro\", \"Frederic Towle\", \"Corinne Horn\", \"Abdul-Alim Mikhail\", \"Naomi Sharp\", \"Vittoria Mancini\", \"Adam Bjerregaard\", \"Wade Munger\", \"Demi Vadeboncoeur\", \"Marva Cardenas\", \"Naiyana Kunakorn\", \"Rocco Yarborough\", \"Sonia Harrison\", \"Freda Conley\", \"Roman Pilcher\", \"Elwood McGee\", \"Eleanor Bryan\", \"Ansel Loiselle\", \"Delmar Pelchat\", \"Daitaro Ishida\", \"Anthony Frizzell\", \"Janna Gamble\", \"Mara Rasmussen\", \"Neandro Baeza\", \"Jenny Norgaard\", \"Margo Ayers\", \"Brain Dulaney\", \"Ethan Rincon\", \"Margret Villarreal\", \"Mayra Stephenson\", \"Jibran Quraishi\", \"Naowarat Kurusarttra\", \"Victoria Gray\", \"Abby Burris\"], \"xaxis\": \"x\", \"yaxis\": \"y\"}, {\"alignmentgroup\": \"True\", \"customdata\": [[64, \"Nazzareno Piccio\", 8, 1, 1, \"Cluster 1\"], [66, \"Vaughn Oquendo\", 12, 3, 1, \"Cluster 1\"], [67, \"Jennifer Davey\", 7, 1, 1, \"Cluster 1\"], [62, \"Ireneo Piccio\", 9, 4, 1, \"Cluster 1\"], [105, \"Den Kojima\", 12, 2, 1, \"Cluster 1\"], [104, \"Fabio Jaramillo\", 10, 2, 1, \"Cluster 1\"], [61, \"Autumn Prince\", 25, 1, 1, \"Cluster 1\"], [107, \"Jeannette Kjaer\", 6, 2, 1, \"Cluster 1\"], [93, \"Jimmie Turman\", 15, 2, 1, \"Cluster 1\"], [92, \"Generosa Esposito\", 12, 3, 1, \"Cluster 1\"], [75, \"Erik Collado\", 15, 1, 1, \"Cluster 1\"], [77, \"Bellamy Garnier\", 13, 1, 1, \"Cluster 1\"], [102, \"Francesca Lombardi\", 11, 3, 1, \"Cluster 1\"], [79, \"Amalio Pizarro\", 13, 2, 1, \"Cluster 1\"], [98, \"Frederic Towle\", 5, 3, 1, \"Cluster 1\"], [97, \"Corinne Horn\", 27, 3, 1, \"Cluster 1\"], [96, \"Abdul-Alim Mikhail\", 15, 1, 1, \"Cluster 1\"], [94, \"Naomi Sharp\", 29, 4, 1, \"Cluster 1\"], [90, \"Vittoria Mancini\", 9, 1, 1, \"Cluster 1\"], [91, \"Adam Bjerregaard\", 9, 1, 1, \"Cluster 1\"], [72, \"Wade Munger\", 8, 4, 1, \"Cluster 1\"], [73, \"Demi Vadeboncoeur\", 18, 3, 5, \"Cluster 1\"], [1, \"Marva Cardenas\", 6, 2, 1, \"Cluster 1\"], [12, \"Naiyana Kunakorn\", 16, 2, 1, \"Cluster 1\"], [22, \"Rocco Yarborough\", 5, 1, 1, \"Cluster 1\"], [27, \"Sonia Harrison\", 7, 4, 1, \"Cluster 1\"], [20, \"Freda Conley\", 6, 4, 1, \"Cluster 1\"], [28, \"Roman Pilcher\", 15, 1, 1, \"Cluster 1\"], [19, \"Elwood McGee\", 11, 4, 1, \"Cluster 1\"], [15, \"Eleanor Bryan\", 6, 1, 1, \"Cluster 1\"], [14, \"Ansel Loiselle\", 17, 3, 1, \"Cluster 1\"], [33, \"Delmar Pelchat\", 25, 2, 1, \"Cluster 1\"], [37, \"Daitaro Ishida\", 12, 4, 1, \"Cluster 1\"], [39, \"Anthony Frizzell\", 6, 4, 1, \"Cluster 1\"], [23, \"Janna Gamble\", 7, 1, 1, \"Cluster 1\"], [41, \"Mara Rasmussen\", 25, 4, 1, \"Cluster 1\"], [25, \"Neandro Baeza\", 5, 2, 1, \"Cluster 1\"], [48, \"Jenny Norgaard\", 9, 1, 1, \"Cluster 1\"], [45, \"Margo Ayers\", 9, 4, 1, \"Cluster 1\"], [6, \"Brain Dulaney\", 28, 1, 1, \"Cluster 1\"], [56, \"Ethan Rincon\", 10, 1, 1, \"Cluster 1\"], [47, \"Margret Villarreal\", 9, 3, 1, \"Cluster 1\"], [108, \"Mayra Stephenson\", 6, 4, 1, \"Cluster 1\"], [4, \"Jibran Quraishi\", 6, 1, 1, \"Cluster 1\"], [52, \"Naowarat Kurusarttra\", 17, 2, 1, \"Cluster 1\"], [51, \"Victoria Gray\", 30, 2, 1, \"Cluster 1\"], [50, \"Abby Burris\", 7, 4, 1, \"Cluster 1\"]], \"hoverlabel\": {\"namelength\": 0}, \"hovertemplate\": \"Cluster=%{customdata[5]}<br>Name=%{customdata[1]}<br>CustomerID=%{customdata[0]}<br>Age=%{customdata[2]}<br>AvgWeeklySales=%{customdata[3]}<br>AvgDrinks=%{customdata[4]}\", \"legendgroup\": \"Cluster=Cluster 1\", \"marker\": {\"color\": \"#EF553B\"}, \"name\": \"Cluster=Cluster 1\", \"notched\": true, \"offsetgroup\": \"Cluster=Cluster 1\", \"showlegend\": false, \"type\": \"box\", \"x\": [\"Nazzareno Piccio\", \"Vaughn Oquendo\", \"Jennifer Davey\", \"Ireneo Piccio\", \"Den Kojima\", \"Fabio Jaramillo\", \"Autumn Prince\", \"Jeannette Kjaer\", \"Jimmie Turman\", \"Generosa Esposito\", \"Erik Collado\", \"Bellamy Garnier\", \"Francesca Lombardi\", \"Amalio Pizarro\", \"Frederic Towle\", \"Corinne Horn\", \"Abdul-Alim Mikhail\", \"Naomi Sharp\", \"Vittoria Mancini\", \"Adam Bjerregaard\", \"Wade Munger\", \"Demi Vadeboncoeur\", \"Marva Cardenas\", \"Naiyana Kunakorn\", \"Rocco Yarborough\", \"Sonia Harrison\", \"Freda Conley\", \"Roman Pilcher\", \"Elwood McGee\", \"Eleanor Bryan\", \"Ansel Loiselle\", \"Delmar Pelchat\", \"Daitaro Ishida\", \"Anthony Frizzell\", \"Janna Gamble\", \"Mara Rasmussen\", \"Neandro Baeza\", \"Jenny Norgaard\", \"Margo Ayers\", \"Brain Dulaney\", \"Ethan Rincon\", \"Margret Villarreal\", \"Mayra Stephenson\", \"Jibran Quraishi\", \"Naowarat Kurusarttra\", \"Victoria Gray\", \"Abby Burris\"], \"xaxis\": \"x2\", \"yaxis\": \"y2\"}, {\"alignmentgroup\": \"True\", \"bingroup\": \"x\", \"hoverlabel\": {\"namelength\": 0}, \"hovertemplate\": \"Cluster=Cluster 2<br>Name=%{x}<br>count=%{y}\", \"legendgroup\": \"Cluster=Cluster 2\", \"marker\": {\"color\": \"#00cc96\", \"opacity\": 0.7}, \"name\": \"Cluster=Cluster 2\", \"offsetgroup\": \"Cluster=Cluster 2\", \"orientation\": \"v\", \"showlegend\": true, \"type\": \"histogram\", \"x\": [\"Vinicio Robles\", \"Armen Romo\", \"Dwayne Passmore\", \"Sheldon Comeaux\", \"Gordon Fredrickson\", \"Gerson Toro\", \"Consuelo Navarro\", \"Lucas Sondergaard\", \"Zachary Parsons\", \"Zachary Fellows\", \"Pedro Fielder\", \"Joshua Murphy\", \"Abbi Byrne\", \"Lonnie Schindler\", \"Carey Merrill\", \"Chad Corbitt\", \"Patrick Lorenzen\", \"Nicholas Rose\", \"Modesto Cab\\u00e1n\", \"Holly Franklin\", \"Deanna Ball\", \"Thaddeus Danforth\", \"Vicky Erickson\", \"Adam Brooks\", \"Sophia Garner\", \"Iselda Bahena\"], \"xaxis\": \"x\", \"yaxis\": \"y\"}, {\"alignmentgroup\": \"True\", \"customdata\": [[11, \"Vinicio Robles\", 51, 3, 1, \"Cluster 2\"], [7, \"Armen Romo\", 46, 2, 1, \"Cluster 2\"], [99, \"Dwayne Passmore\", 53, 3, 1, \"Cluster 2\"], [106, \"Sheldon Comeaux\", 60, 3, 1, \"Cluster 2\"], [100, \"Gordon Fredrickson\", 58, 2, 1, \"Cluster 2\"], [13, \"Gerson Toro\", 34, 4, 1, \"Cluster 2\"], [18, \"Consuelo Navarro\", 54, 2, 1, \"Cluster 2\"], [60, \"Lucas Sondergaard\", 33, 1, 1, \"Cluster 2\"], [30, \"Zachary Parsons\", 65, 3, 1, \"Cluster 2\"], [89, \"Zachary Fellows\", 39, 1, 1, \"Cluster 2\"], [54, \"Pedro Fielder\", 38, 3, 1, \"Cluster 2\"], [68, \"Joshua Murphy\", 52, 1, 1, \"Cluster 2\"], [46, \"Abbi Byrne\", 54, 3, 1, \"Cluster 2\"], [42, \"Lonnie Schindler\", 58, 4, 1, \"Cluster 2\"], [74, \"Carey Merrill\", 63, 1, 1, \"Cluster 2\"], [40, \"Chad Corbitt\", 61, 1, 1, \"Cluster 2\"], [26, \"Patrick Lorenzen\", 55, 4, 1, \"Cluster 2\"], [38, \"Nicholas Rose\", 60, 2, 1, \"Cluster 2\"], [81, \"Modesto Cab\\u00e1n\", 37, 4, 1, \"Cluster 2\"], [82, \"Holly Franklin\", 59, 1, 1, \"Cluster 2\"], [31, \"Deanna Ball\", 54, 2, 1, \"Cluster 2\"], [57, \"Thaddeus Danforth\", 32, 2, 1, \"Cluster 2\"], [29, \"Vicky Erickson\", 46, 1, 1, \"Cluster 2\"], [87, \"Adam Brooks\", 63, 3, 1, \"Cluster 2\"], [36, \"Sophia Garner\", 39, 1, 1, \"Cluster 2\"], [55, \"Iselda Bahena\", 59, 4, 1, \"Cluster 2\"]], \"hoverlabel\": {\"namelength\": 0}, \"hovertemplate\": \"Cluster=%{customdata[5]}<br>Name=%{customdata[1]}<br>CustomerID=%{customdata[0]}<br>Age=%{customdata[2]}<br>AvgWeeklySales=%{customdata[3]}<br>AvgDrinks=%{customdata[4]}\", \"legendgroup\": \"Cluster=Cluster 2\", \"marker\": {\"color\": \"#00cc96\"}, \"name\": \"Cluster=Cluster 2\", \"notched\": true, \"offsetgroup\": \"Cluster=Cluster 2\", \"showlegend\": false, \"type\": \"box\", \"x\": [\"Vinicio Robles\", \"Armen Romo\", \"Dwayne Passmore\", \"Sheldon Comeaux\", \"Gordon Fredrickson\", \"Gerson Toro\", \"Consuelo Navarro\", \"Lucas Sondergaard\", \"Zachary Parsons\", \"Zachary Fellows\", \"Pedro Fielder\", \"Joshua Murphy\", \"Abbi Byrne\", \"Lonnie Schindler\", \"Carey Merrill\", \"Chad Corbitt\", \"Patrick Lorenzen\", \"Nicholas Rose\", \"Modesto Cab\\u00e1n\", \"Holly Franklin\", \"Deanna Ball\", \"Thaddeus Danforth\", \"Vicky Erickson\", \"Adam Brooks\", \"Sophia Garner\", \"Iselda Bahena\"], \"xaxis\": \"x2\", \"yaxis\": \"y2\"}],\n",
       "                        {\"barmode\": \"relative\", \"legend\": {\"tracegroupgap\": 0}, \"margin\": {\"t\": 60}, \"template\": {\"data\": {\"bar\": [{\"error_x\": {\"color\": \"#2a3f5f\"}, \"error_y\": {\"color\": \"#2a3f5f\"}, \"marker\": {\"line\": {\"color\": \"#E5ECF6\", \"width\": 0.5}}, \"type\": \"bar\"}], \"barpolar\": [{\"marker\": {\"line\": {\"color\": \"#E5ECF6\", \"width\": 0.5}}, \"type\": \"barpolar\"}], \"carpet\": [{\"aaxis\": {\"endlinecolor\": \"#2a3f5f\", \"gridcolor\": \"white\", \"linecolor\": \"white\", \"minorgridcolor\": \"white\", \"startlinecolor\": \"#2a3f5f\"}, \"baxis\": {\"endlinecolor\": \"#2a3f5f\", \"gridcolor\": \"white\", \"linecolor\": \"white\", \"minorgridcolor\": \"white\", \"startlinecolor\": \"#2a3f5f\"}, \"type\": \"carpet\"}], \"choropleth\": [{\"colorbar\": {\"outlinewidth\": 0, \"ticks\": \"\"}, \"type\": \"choropleth\"}], \"contour\": [{\"colorbar\": {\"outlinewidth\": 0, \"ticks\": \"\"}, \"colorscale\": [[0.0, \"#0d0887\"], [0.1111111111111111, \"#46039f\"], [0.2222222222222222, \"#7201a8\"], [0.3333333333333333, \"#9c179e\"], [0.4444444444444444, \"#bd3786\"], [0.5555555555555556, \"#d8576b\"], [0.6666666666666666, \"#ed7953\"], [0.7777777777777778, \"#fb9f3a\"], [0.8888888888888888, \"#fdca26\"], [1.0, \"#f0f921\"]], \"type\": \"contour\"}], \"contourcarpet\": [{\"colorbar\": {\"outlinewidth\": 0, \"ticks\": \"\"}, \"type\": \"contourcarpet\"}], \"heatmap\": [{\"colorbar\": {\"outlinewidth\": 0, \"ticks\": \"\"}, \"colorscale\": [[0.0, \"#0d0887\"], [0.1111111111111111, \"#46039f\"], [0.2222222222222222, \"#7201a8\"], [0.3333333333333333, \"#9c179e\"], [0.4444444444444444, \"#bd3786\"], [0.5555555555555556, \"#d8576b\"], [0.6666666666666666, \"#ed7953\"], [0.7777777777777778, \"#fb9f3a\"], [0.8888888888888888, \"#fdca26\"], [1.0, \"#f0f921\"]], \"type\": \"heatmap\"}], \"heatmapgl\": [{\"colorbar\": {\"outlinewidth\": 0, \"ticks\": \"\"}, \"colorscale\": [[0.0, \"#0d0887\"], [0.1111111111111111, \"#46039f\"], [0.2222222222222222, \"#7201a8\"], [0.3333333333333333, \"#9c179e\"], [0.4444444444444444, \"#bd3786\"], [0.5555555555555556, \"#d8576b\"], [0.6666666666666666, \"#ed7953\"], [0.7777777777777778, \"#fb9f3a\"], [0.8888888888888888, \"#fdca26\"], [1.0, \"#f0f921\"]], \"type\": \"heatmapgl\"}], \"histogram\": [{\"marker\": {\"colorbar\": {\"outlinewidth\": 0, \"ticks\": \"\"}}, \"type\": \"histogram\"}], \"histogram2d\": [{\"colorbar\": {\"outlinewidth\": 0, \"ticks\": \"\"}, \"colorscale\": [[0.0, \"#0d0887\"], [0.1111111111111111, \"#46039f\"], [0.2222222222222222, \"#7201a8\"], [0.3333333333333333, \"#9c179e\"], [0.4444444444444444, \"#bd3786\"], [0.5555555555555556, \"#d8576b\"], [0.6666666666666666, \"#ed7953\"], [0.7777777777777778, \"#fb9f3a\"], [0.8888888888888888, \"#fdca26\"], [1.0, \"#f0f921\"]], \"type\": \"histogram2d\"}], \"histogram2dcontour\": [{\"colorbar\": {\"outlinewidth\": 0, \"ticks\": \"\"}, \"colorscale\": [[0.0, \"#0d0887\"], [0.1111111111111111, \"#46039f\"], [0.2222222222222222, \"#7201a8\"], [0.3333333333333333, \"#9c179e\"], [0.4444444444444444, \"#bd3786\"], [0.5555555555555556, \"#d8576b\"], [0.6666666666666666, \"#ed7953\"], [0.7777777777777778, \"#fb9f3a\"], [0.8888888888888888, \"#fdca26\"], [1.0, \"#f0f921\"]], \"type\": \"histogram2dcontour\"}], \"mesh3d\": [{\"colorbar\": {\"outlinewidth\": 0, \"ticks\": \"\"}, \"type\": \"mesh3d\"}], \"parcoords\": [{\"line\": {\"colorbar\": {\"outlinewidth\": 0, \"ticks\": \"\"}}, \"type\": \"parcoords\"}], \"pie\": [{\"automargin\": true, \"type\": \"pie\"}], \"scatter\": [{\"marker\": {\"colorbar\": {\"outlinewidth\": 0, \"ticks\": \"\"}}, \"type\": \"scatter\"}], \"scatter3d\": [{\"line\": {\"colorbar\": {\"outlinewidth\": 0, \"ticks\": \"\"}}, \"marker\": {\"colorbar\": {\"outlinewidth\": 0, \"ticks\": \"\"}}, \"type\": \"scatter3d\"}], \"scattercarpet\": [{\"marker\": {\"colorbar\": {\"outlinewidth\": 0, \"ticks\": \"\"}}, \"type\": \"scattercarpet\"}], \"scattergeo\": [{\"marker\": {\"colorbar\": {\"outlinewidth\": 0, \"ticks\": \"\"}}, \"type\": \"scattergeo\"}], \"scattergl\": [{\"marker\": {\"colorbar\": {\"outlinewidth\": 0, \"ticks\": \"\"}}, \"type\": \"scattergl\"}], \"scattermapbox\": [{\"marker\": {\"colorbar\": {\"outlinewidth\": 0, \"ticks\": \"\"}}, \"type\": \"scattermapbox\"}], \"scatterpolar\": [{\"marker\": {\"colorbar\": {\"outlinewidth\": 0, \"ticks\": \"\"}}, \"type\": \"scatterpolar\"}], \"scatterpolargl\": [{\"marker\": {\"colorbar\": {\"outlinewidth\": 0, \"ticks\": \"\"}}, \"type\": \"scatterpolargl\"}], \"scatterternary\": [{\"marker\": {\"colorbar\": {\"outlinewidth\": 0, \"ticks\": \"\"}}, \"type\": \"scatterternary\"}], \"surface\": [{\"colorbar\": {\"outlinewidth\": 0, \"ticks\": \"\"}, \"colorscale\": [[0.0, \"#0d0887\"], [0.1111111111111111, \"#46039f\"], [0.2222222222222222, \"#7201a8\"], [0.3333333333333333, \"#9c179e\"], [0.4444444444444444, \"#bd3786\"], [0.5555555555555556, \"#d8576b\"], [0.6666666666666666, \"#ed7953\"], [0.7777777777777778, \"#fb9f3a\"], [0.8888888888888888, \"#fdca26\"], [1.0, \"#f0f921\"]], \"type\": \"surface\"}], \"table\": [{\"cells\": {\"fill\": {\"color\": \"#EBF0F8\"}, \"line\": {\"color\": \"white\"}}, \"header\": {\"fill\": {\"color\": \"#C8D4E3\"}, \"line\": {\"color\": \"white\"}}, \"type\": \"table\"}]}, \"layout\": {\"annotationdefaults\": {\"arrowcolor\": \"#2a3f5f\", \"arrowhead\": 0, \"arrowwidth\": 1}, \"coloraxis\": {\"colorbar\": {\"outlinewidth\": 0, \"ticks\": \"\"}}, \"colorscale\": {\"diverging\": [[0, \"#8e0152\"], [0.1, \"#c51b7d\"], [0.2, \"#de77ae\"], [0.3, \"#f1b6da\"], [0.4, \"#fde0ef\"], [0.5, \"#f7f7f7\"], [0.6, \"#e6f5d0\"], [0.7, \"#b8e186\"], [0.8, \"#7fbc41\"], [0.9, \"#4d9221\"], [1, \"#276419\"]], \"sequential\": [[0.0, \"#0d0887\"], [0.1111111111111111, \"#46039f\"], [0.2222222222222222, \"#7201a8\"], [0.3333333333333333, \"#9c179e\"], [0.4444444444444444, \"#bd3786\"], [0.5555555555555556, \"#d8576b\"], [0.6666666666666666, \"#ed7953\"], [0.7777777777777778, \"#fb9f3a\"], [0.8888888888888888, \"#fdca26\"], [1.0, \"#f0f921\"]], \"sequentialminus\": [[0.0, \"#0d0887\"], [0.1111111111111111, \"#46039f\"], [0.2222222222222222, \"#7201a8\"], [0.3333333333333333, \"#9c179e\"], [0.4444444444444444, \"#bd3786\"], [0.5555555555555556, \"#d8576b\"], [0.6666666666666666, \"#ed7953\"], [0.7777777777777778, \"#fb9f3a\"], [0.8888888888888888, \"#fdca26\"], [1.0, \"#f0f921\"]]}, \"colorway\": [\"#636efa\", \"#EF553B\", \"#00cc96\", \"#ab63fa\", \"#FFA15A\", \"#19d3f3\", \"#FF6692\", \"#B6E880\", \"#FF97FF\", \"#FECB52\"], \"font\": {\"color\": \"#2a3f5f\"}, \"geo\": {\"bgcolor\": \"white\", \"lakecolor\": \"white\", \"landcolor\": \"#E5ECF6\", \"showlakes\": true, \"showland\": true, \"subunitcolor\": \"white\"}, \"hoverlabel\": {\"align\": \"left\"}, \"hovermode\": \"closest\", \"mapbox\": {\"style\": \"light\"}, \"paper_bgcolor\": \"white\", \"plot_bgcolor\": \"#E5ECF6\", \"polar\": {\"angularaxis\": {\"gridcolor\": \"white\", \"linecolor\": \"white\", \"ticks\": \"\"}, \"bgcolor\": \"#E5ECF6\", \"radialaxis\": {\"gridcolor\": \"white\", \"linecolor\": \"white\", \"ticks\": \"\"}}, \"scene\": {\"xaxis\": {\"backgroundcolor\": \"#E5ECF6\", \"gridcolor\": \"white\", \"gridwidth\": 2, \"linecolor\": \"white\", \"showbackground\": true, \"ticks\": \"\", \"zerolinecolor\": \"white\"}, \"yaxis\": {\"backgroundcolor\": \"#E5ECF6\", \"gridcolor\": \"white\", \"gridwidth\": 2, \"linecolor\": \"white\", \"showbackground\": true, \"ticks\": \"\", \"zerolinecolor\": \"white\"}, \"zaxis\": {\"backgroundcolor\": \"#E5ECF6\", \"gridcolor\": \"white\", \"gridwidth\": 2, \"linecolor\": \"white\", \"showbackground\": true, \"ticks\": \"\", \"zerolinecolor\": \"white\"}}, \"shapedefaults\": {\"line\": {\"color\": \"#2a3f5f\"}}, \"ternary\": {\"aaxis\": {\"gridcolor\": \"white\", \"linecolor\": \"white\", \"ticks\": \"\"}, \"baxis\": {\"gridcolor\": \"white\", \"linecolor\": \"white\", \"ticks\": \"\"}, \"bgcolor\": \"#E5ECF6\", \"caxis\": {\"gridcolor\": \"white\", \"linecolor\": \"white\", \"ticks\": \"\"}}, \"title\": {\"x\": 0.05}, \"xaxis\": {\"automargin\": true, \"gridcolor\": \"white\", \"linecolor\": \"white\", \"ticks\": \"\", \"title\": {\"standoff\": 15}, \"zerolinecolor\": \"white\", \"zerolinewidth\": 2}, \"yaxis\": {\"automargin\": true, \"gridcolor\": \"white\", \"linecolor\": \"white\", \"ticks\": \"\", \"title\": {\"standoff\": 15}, \"zerolinecolor\": \"white\", \"zerolinewidth\": 2}}}, \"xaxis\": {\"anchor\": \"y\", \"domain\": [0.0, 1.0], \"title\": {\"text\": \"Name\"}}, \"xaxis2\": {\"anchor\": \"y2\", \"domain\": [0.0, 1.0], \"matches\": \"x\", \"showgrid\": true, \"showticklabels\": false}, \"yaxis\": {\"anchor\": \"x\", \"domain\": [0.0, 0.7326], \"title\": {\"text\": \"count\"}}, \"yaxis2\": {\"anchor\": \"x2\", \"domain\": [0.7426, 1.0], \"matches\": \"y2\", \"showgrid\": false, \"showline\": false, \"showticklabels\": false, \"ticks\": \"\"}},\n",
       "                        {\"responsive\": true}\n",
       "                    ).then(function(){\n",
       "                            \n",
       "var gd = document.getElementById('13620f5f-7411-4dd0-a839-5a356aabb2b4');\n",
       "var x = new MutationObserver(function (mutations, observer) {{\n",
       "        var display = window.getComputedStyle(gd).display;\n",
       "        if (!display || display === 'none') {{\n",
       "            console.log([gd, 'removed!']);\n",
       "            Plotly.purge(gd);\n",
       "            observer.disconnect();\n",
       "        }}\n",
       "}});\n",
       "\n",
       "// Listen for the removal of the full notebook cells\n",
       "var notebookContainer = gd.closest('#notebook-container');\n",
       "if (notebookContainer) {{\n",
       "    x.observe(notebookContainer, {childList: true});\n",
       "}}\n",
       "\n",
       "// Listen for the clearing of the current output cell\n",
       "var outputEl = gd.closest('.output');\n",
       "if (outputEl) {{\n",
       "    x.observe(outputEl, {childList: true});\n",
       "}}\n",
       "\n",
       "                        })\n",
       "                };\n",
       "                });\n",
       "            </script>\n",
       "        </div>"
      ]
     },
     "metadata": {},
     "output_type": "display_data"
    }
   ],
   "source": [
    "plot_model(kmeans, plot = 'distribution', feature = 'Name')"
   ]
  },
  {
   "cell_type": "markdown",
   "metadata": {},
   "source": [
    "### Save the Model"
   ]
  },
  {
   "cell_type": "code",
   "execution_count": 14,
   "metadata": {},
   "outputs": [
    {
     "name": "stdout",
     "output_type": "stream",
     "text": [
      "Transformation Pipeline and Model Succesfully Saved\n"
     ]
    }
   ],
   "source": [
    "save_model(kmeans,'Lemonade Kmeans Model')"
   ]
  },
  {
   "cell_type": "code",
   "execution_count": null,
   "metadata": {},
   "outputs": [],
   "source": []
  }
 ],
 "metadata": {
  "kernelspec": {
   "display_name": "Python 3",
   "language": "python",
   "name": "python3"
  },
  "language_info": {
   "codemirror_mode": {
    "name": "ipython",
    "version": 3
   },
   "file_extension": ".py",
   "mimetype": "text/x-python",
   "name": "python",
   "nbconvert_exporter": "python",
   "pygments_lexer": "ipython3",
   "version": "3.7.6"
  }
 },
 "nbformat": 4,
 "nbformat_minor": 4
}
